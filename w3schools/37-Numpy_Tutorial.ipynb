{
 "cells": [
  {
   "cell_type": "markdown",
   "metadata": {},
   "source": [
    "NumPy Tutorial\n",
    "\n",
    "<section style=\"direction: rtl; text-align: justify; margin: 30px;\">\n",
    "\n",
    "## **کتابخانه NumPy**\n",
    "\n",
    "- NumPy یک کتابخانه پایتون است.\n",
    "\n",
    "- NumPy برای کار با آرایه ها استفاده می شود.\n",
    "\n",
    "- NumPy مخفف عبارت Numerical Python است.\n",
    "\n",
    "## **معرفی NumPy**\n",
    "\n",
    "کتابخانه NumPy یکی از کتابخانه‌های اصلی برای علم داده و عملیات علمی در زبان برنامه‌نویسی پایتون است. اسم \"NumPy\" از واژه \"Numerical Python\" گرفته شده و هدف اصلی آن ارائه یک ساختار داده چند بعدی و توابع عالی برای کار با آرایه‌ها است.\n",
    "\n",
    "در زیر به برخی از ویژگی‌ها و کاربردهای اصلی کتابخانه NumPy اشاره خواهم کرد:\n",
    "\n",
    "آرایه‌ها (Arrays): NumPy این امکان را فراهم می‌کند تا با آرایه‌های چند بعدی کار کنید که می‌توانند برای نمایش داده‌های علمی و محاسبات ریاضی بسیار مفید باشند.\n",
    "\n",
    "عملیات ریاضی: NumPy دارای توابع ریاضی پیشرفته‌ای مانند جمع، تفریق، ضرب، تقسیم و سایر عملیات ریاضی است. این توابع به صورت برداری بر روی آرایه‌ها اعمال می‌شوند.\n",
    "\n",
    "اندیس‌گذاری و برش: شما می‌توانید به طور مستقیم به عناصر آرایه‌ها دسترسی پیدا کنید و همچنین از قابلیت برش (slicing) برای انتخاب زیرمجموعه‌های مختلف از یک آرایه استفاده کنید.\n",
    "\n",
    "برداری‌سازی (Vectorization): NumPy بهینه‌سازی‌هایی برای اجرای عملیات روی آرایه‌ها فراهم می‌کند که باعث افزایش کارآیی کد می‌شود. این قابلیت به نام \"برداری‌سازی\" شناخته می‌شود.\n",
    "\n",
    "تولید داده تصادفی: NumPy ابزارهایی برای تولید داده‌های تصادفی از توزیع‌های مختلف نیز فراهم می‌کند.\n",
    "\n",
    "ماتریس‌ها و عملیات خطی: NumPy قابلیت‌های مرتبط با ماتریس‌ها و عملیات خطی را نیز پشتیبانی می‌کند، که برای محاسبات علمی و مهندسی بسیار حیاتی است.\n",
    "\n",
    "آرایه‌های NumPy بر خلاف لیست‌ها در یک مکان پیوسته در حافظه ذخیره می‌شوند، بنابراین فرآیندها می‌توانند به طور بسیار کارآمدی به آنها دسترسی داشته باشند و آنها را دستکاری کنند.\n",
    "\n",
    "این رفتار در علوم کامپیوتر محل مرجع نامیده می شود.\n",
    "\n",
    "این دلیل اصلی سریعتر بودن NumPy از لیست هاست. همچنین برای کار با آخرین معماری های CPU بهینه شده است.\n",
    "\n",
    "NumPy یک کتابخانه پایتون است و تا حدی در پایتون نوشته شده است، اما بیشتر قسمت هایی که نیاز به محاسبه سریع دارند به زبان C یا C++ نوشته شده اند.\n",
    "\n",
    "اگر پایتون و PIP را قبلاً روی یک سیستم نصب کرده اید، نصب NumPy بسیار آسان است.\n",
    "\n",
    "با استفاده از این دستور آن را نصب کنید:\n",
    "\n",
    "</section>\n",
    "\n",
    "> C:\\Users\\Your Name>pip install numpy\n",
    "\n",
    "<section style=\"direction: rtl; text-align: justify; margin: 30px;\">\n",
    "\n",
    "اگر این دستور ناموفق بود، از توزیع پایتونی استفاده کنید که از قبل NumPy مانند Anaconda، Spyder و غیره را نصب کرده است.\n",
    "\n",
    "پس از نصب NumPy، با افزودن کلمه کلیدی import، آن را در برنامه های خود وارد کنید:\n",
    "\n",
    "</section>"
   ]
  },
  {
   "cell_type": "code",
   "execution_count": 1,
   "metadata": {},
   "outputs": [],
   "source": [
    "import numpy"
   ]
  },
  {
   "cell_type": "markdown",
   "metadata": {},
   "source": [
    "<section style=\"direction: rtl; text-align: justify; margin: 30px;\">\n",
    "\n",
    "اکنون NumPy وارد شده و آماده استفاده است.\n",
    "\n",
    "</section>"
   ]
  },
  {
   "cell_type": "code",
   "execution_count": 1,
   "metadata": {},
   "outputs": [
    {
     "name": "stdout",
     "output_type": "stream",
     "text": [
      "[1 2 3 4 5]\n"
     ]
    }
   ],
   "source": [
    "import numpy\n",
    "\n",
    "arr = numpy.array([1, 2, 3, 4, 5])\n",
    "\n",
    "print(arr)"
   ]
  },
  {
   "cell_type": "markdown",
   "metadata": {},
   "source": [
    "<section style=\"direction: rtl; text-align: justify; margin: 30px;\">\n",
    "\n",
    "NumPy معمولاً تحت نام مستعار np وارد می شود.\n",
    "\n",
    "نام مستعار: در پایتون، نام مستعار یک نام جایگزین برای اشاره به یک چیز است.\n",
    "\n",
    "هنگام وارد کردن، یک نام مستعار با کلمه کلیدی as ایجاد کنید:\n",
    "\n",
    "</section>"
   ]
  },
  {
   "cell_type": "code",
   "execution_count": 3,
   "metadata": {},
   "outputs": [],
   "source": [
    "import numpy as np"
   ]
  },
  {
   "cell_type": "markdown",
   "metadata": {},
   "source": [
    "<section style=\"direction: rtl; text-align: justify; margin: 30px;\">\n",
    "\n",
    "اکنون می توان به بسته NumPy به جای numpy به عنوان np اشاره کرد.\n",
    "\n",
    "</section>"
   ]
  },
  {
   "cell_type": "code",
   "execution_count": 3,
   "metadata": {},
   "outputs": [
    {
     "name": "stdout",
     "output_type": "stream",
     "text": [
      "[1 2 3 4 5]\n"
     ]
    }
   ],
   "source": [
    "import numpy as np\n",
    "\n",
    "arr = np.array([1, 2, 3, 4, 5])\n",
    "\n",
    "print(arr)"
   ]
  },
  {
   "cell_type": "markdown",
   "metadata": {},
   "source": [
    "<section style=\"direction: rtl; text-align: justify; margin: 30px;\">\n",
    "\n",
    "با دستور زیر می‌توانید نسخه نامپای نصب شده خود را در خروجی ببینید:\n",
    "\n",
    "</section>"
   ]
  },
  {
   "cell_type": "code",
   "execution_count": 4,
   "metadata": {},
   "outputs": [
    {
     "name": "stdout",
     "output_type": "stream",
     "text": [
      "1.26.4\n"
     ]
    }
   ],
   "source": [
    "import numpy as np\n",
    "print(np.__version__)"
   ]
  },
  {
   "cell_type": "markdown",
   "metadata": {},
   "source": [
    "___\n",
    "\n",
    "NumPy Creating Arrays\n",
    "\n",
    "<section style=\"direction: rtl; text-align: justify; margin: 30px;\">\n",
    "\n",
    "## **ساخت آرایه در نامپای**\n",
    "\n",
    "NumPy برای کار با آرایه ها استفاده می شود. شی آرایه در نامپای ndarray نامیده می شود.\n",
    "\n",
    "با استفاده از تابع ()array می توانیم یک شی ndarray NumPy ایجاد کنیم.\n",
    "\n",
    "</section>"
   ]
  },
  {
   "cell_type": "code",
   "execution_count": 5,
   "metadata": {},
   "outputs": [
    {
     "name": "stdout",
     "output_type": "stream",
     "text": [
      "[1 2 3 4 5]\n",
      "<class 'numpy.ndarray'>\n"
     ]
    }
   ],
   "source": [
    "import numpy as np\n",
    "\n",
    "arr = np.array([1, 2, 3, 4, 5])\n",
    "\n",
    "print(arr)\n",
    "print(type(arr))"
   ]
  },
  {
   "cell_type": "markdown",
   "metadata": {},
   "source": [
    "<section style=\"direction: rtl; text-align: justify; margin: 30px;\">\n",
    "\n",
    "type(): این تابع داخلی پایتون نوع شی ارسال شده به آن را به ما می گوید. مانند کد بالا نشان می دهد که arr از نوع numpy.ndarray است.\n",
    "\n",
    "برای ایجاد یک ndarray، می‌توانیم یک لیست، تاپل یا هر شیء آرایه‌مانندی را به متد ()array ارسال کنیم و آن را به یک ndarray تبدیل کنیم:\n",
    "\n",
    "</section>"
   ]
  },
  {
   "cell_type": "code",
   "execution_count": 6,
   "metadata": {},
   "outputs": [
    {
     "name": "stdout",
     "output_type": "stream",
     "text": [
      "[1 2 3 4 5]\n"
     ]
    }
   ],
   "source": [
    "import numpy as np\n",
    "\n",
    "arr = np.array((1, 2, 3, 4, 5))\n",
    "\n",
    "print(arr)"
   ]
  },
  {
   "cell_type": "markdown",
   "metadata": {},
   "source": [
    "<section style=\"direction: rtl; text-align: justify; margin: 30px;\">\n",
    "\n",
    "یک بعد در آرایه ها یک سطح از عمق آرایه است (آرایه های تودرتو).\n",
    "\n",
    "آرایه تودرتو: آرایه هایی هستند که آرایه هایی را به عنوان عناصر خود دارند.\n",
    "\n",
    "آرایه های 0-D یا اسکالارها عناصر یک آرایه هستند. هر مقدار در یک آرایه یک آرایه 0-D است.\n",
    "\n",
    "\n",
    "</section>"
   ]
  },
  {
   "cell_type": "code",
   "execution_count": 8,
   "metadata": {},
   "outputs": [
    {
     "name": "stdout",
     "output_type": "stream",
     "text": [
      "42\n"
     ]
    }
   ],
   "source": [
    "import numpy as np\n",
    "\n",
    "arr = np.array(42)\n",
    "\n",
    "print(arr)"
   ]
  },
  {
   "cell_type": "markdown",
   "metadata": {},
   "source": [
    "<section style=\"direction: rtl; text-align: justify; margin: 30px;\">\n",
    "\n",
    "آرایه ای که دارای آرایه های 0-D به عنوان عناصر آن است، آرایه تک بعدی یا یک بعدی نامیده می شود.\n",
    "\n",
    "اینها رایج ترین و اساسی ترین نوع آرایه ها هستند.\n",
    "\n",
    "\n",
    "</section>"
   ]
  },
  {
   "cell_type": "code",
   "execution_count": 9,
   "metadata": {},
   "outputs": [
    {
     "name": "stdout",
     "output_type": "stream",
     "text": [
      "[1 2 3]\n"
     ]
    }
   ],
   "source": [
    "import numpy as np\n",
    "\n",
    "arr = np.array([1, 2, 3])\n",
    "\n",
    "print(arr)"
   ]
  },
  {
   "cell_type": "markdown",
   "metadata": {},
   "source": [
    "<section style=\"direction: rtl; text-align: justify; margin: 30px;\">\n",
    "\n",
    "آرایه ای که دارای آرایه های 1 بعدی به عنوان عناصر آن است آرایه دو بعدی نامیده می شود.\n",
    "\n",
    "اینها اغلب برای نشان دادن ماتریس یا تانسورهای مرتبه دوم استفاده می شوند.\n",
    "\n",
    "NumPy یک ماژول فرعی کامل دارد که به عملیات ماتریسی به نام numpy.mat اختصاص داده شده است\n",
    "\n",
    "</section>"
   ]
  },
  {
   "cell_type": "code",
   "execution_count": 1,
   "metadata": {},
   "outputs": [
    {
     "name": "stdout",
     "output_type": "stream",
     "text": [
      "[[1 2 3]\n",
      " [4 5 6]]\n"
     ]
    }
   ],
   "source": [
    "import numpy as np\n",
    "\n",
    "arr = np.array([[1, 2, 3], [4, 5, 6]])\n",
    "\n",
    "print(arr)"
   ]
  },
  {
   "cell_type": "markdown",
   "metadata": {},
   "source": [
    "<section style=\"direction: rtl; text-align: justify; margin: 30px;\">\n",
    "\n",
    "آرایه ای که دارای آرایه های 2 بعدی (ماتریس) به عنوان عناصر آن است، آرایه سه بعدی نامیده می شود.\n",
    "\n",
    "اینها اغلب برای نشان دادن یک تانسور مرتبه 3 استفاده می شوند.\n",
    "\n",
    "</section>"
   ]
  },
  {
   "cell_type": "code",
   "execution_count": 14,
   "metadata": {},
   "outputs": [
    {
     "name": "stdout",
     "output_type": "stream",
     "text": [
      "[[[1 2 3]\n",
      "  [4 5 6]]\n",
      "\n",
      " [[1 2 3]\n",
      "  [4 5 6]]]\n"
     ]
    }
   ],
   "source": [
    "import numpy as np\n",
    "\n",
    "arr = np.array([[[1, 2, 3], [4, 5, 6]], [[1, 2, 3], [4, 5, 6]]])\n",
    "\n",
    "print(arr)"
   ]
  },
  {
   "cell_type": "markdown",
   "metadata": {},
   "source": [
    "<section style=\"direction: rtl; text-align: justify; margin: 30px;\">\n",
    "\n",
    "آرایه‌های NumPy ویژگی ndim را ارائه می‌کند که یک عدد صحیح را برمی‌گرداند که به ما می‌گوید چند بعد آرایه دارد.\n",
    "\n",
    "</section>"
   ]
  },
  {
   "cell_type": "code",
   "execution_count": 11,
   "metadata": {},
   "outputs": [
    {
     "name": "stdout",
     "output_type": "stream",
     "text": [
      "0\n",
      "1\n",
      "2\n",
      "3\n"
     ]
    }
   ],
   "source": [
    "import numpy as np\n",
    "\n",
    "a = np.array(42)\n",
    "b = np.array([1, 2, 3, 4, 5])\n",
    "c = np.array([[1, 2, 3], [4, 5, 6]])\n",
    "d = np.array([[[1, 2, 3], [4, 5, 6], [1, 2, 3], [4, 5, 6]]])\n",
    "\n",
    "\n",
    "print(a.ndim)\n",
    "print(b.ndim)\n",
    "print(c.ndim)\n",
    "print(d.ndim)"
   ]
  },
  {
   "cell_type": "markdown",
   "metadata": {},
   "source": [
    "<section style=\"direction: rtl; text-align: justify; margin: 30px;\">\n",
    "\n",
    "یک آرایه می تواند هر تعداد ابعاد داشته باشد.\n",
    "\n",
    "هنگامی که آرایه ایجاد می شود، می توانید تعداد ابعاد را با استفاده از آرگومان ndmin تعریف کنید.\n",
    "\n",
    "</section>"
   ]
  },
  {
   "cell_type": "code",
   "execution_count": 15,
   "metadata": {},
   "outputs": [
    {
     "name": "stdout",
     "output_type": "stream",
     "text": [
      "[[[[[1 2 3 4]]]]]\n",
      "Number of dimensions: 5\n"
     ]
    }
   ],
   "source": [
    "import numpy as np\n",
    "\n",
    "arr = np.array([1, 2, 3, 4], ndmin=5)\n",
    "\n",
    "print(arr)\n",
    "print('Number of dimensions:', arr.ndim)"
   ]
  },
  {
   "cell_type": "markdown",
   "metadata": {},
   "source": [
    "<section style=\"direction: rtl; text-align: justify; margin: 30px;\">\n",
    "\n",
    "در این آرایه درونی‌ترین بعد (5th dim) دارای 4 عنصر، dim 4 دارای 1 عنصر است که بردار است، dim 3 دارای 1 عنصر است که ماتریس با بردار است، dim 2 دارای 1 عنصر است که آرایه سه بعدی است و 1st dim دارای 1 عنصر است که یک آرایه 4 بعدی است.\n",
    "\n",
    "</section>"
   ]
  },
  {
   "cell_type": "markdown",
   "metadata": {},
   "source": [
    "___\n",
    "\n",
    "NumPy Array Indexing\n",
    "\n",
    "<section style=\"direction: rtl; text-align: justify; margin: 30px;\">\n",
    "\n",
    "## **ایندکس‌گذاری آرایه‌ها**\n",
    "\n",
    "ایندکس‌گذاری آرایه برای دسترسی به یک عنصر آرایه است.\n",
    "\n",
    "شما می توانید با مراجعه به یک عنصر آرایه به ایندکس آن دسترسی داشته باشید.\n",
    "\n",
    "ایندکس ها در آرایه های NumPy با 0 شروع می شوند، به این معنی که عنصر اول دارای اندیس 0 و عنصر دوم دارای اندیس 1 است.\n",
    "\n",
    "</section>"
   ]
  },
  {
   "cell_type": "code",
   "execution_count": 2,
   "metadata": {},
   "outputs": [
    {
     "name": "stdout",
     "output_type": "stream",
     "text": [
      "1\n"
     ]
    }
   ],
   "source": [
    "import numpy as np\n",
    "\n",
    "arr = np.array([1, 2, 3, 4])\n",
    "\n",
    "print(arr[0])"
   ]
  },
  {
   "cell_type": "code",
   "execution_count": 5,
   "metadata": {},
   "outputs": [
    {
     "name": "stdout",
     "output_type": "stream",
     "text": [
      "6\n"
     ]
    }
   ],
   "source": [
    "import numpy as np\n",
    "\n",
    "arr = np.array([1, 2, 3, 4])\n",
    "\n",
    "print(arr[1] + arr[3])"
   ]
  },
  {
   "cell_type": "markdown",
   "metadata": {},
   "source": [
    "<section style=\"direction: rtl; text-align: justify; margin: 30px;\">\n",
    "\n",
    "برای دسترسی به عناصر آرایه‌های دو بعدی، می‌توانیم از اعداد صحیح جدا شده با کاما استفاده کنیم که ابعاد و شاخص عنصر را نشان می‌دهند.\n",
    "\n",
    "آرایه های دو بعدی را مانند جدولی با سطرها و ستون ها در نظر بگیرید، جایی که بعد نشان دهنده سطر و شاخص نشان دهنده ستون است.\n",
    "\n",
    "</section>"
   ]
  },
  {
   "cell_type": "code",
   "execution_count": 17,
   "metadata": {},
   "outputs": [
    {
     "name": "stdout",
     "output_type": "stream",
     "text": [
      "2nd element on 1st row: 2\n"
     ]
    }
   ],
   "source": [
    "import numpy as np\n",
    "\n",
    "arr = np.array([[1, 2, 3, 4, 5], [6, 7, 8, 9, 10]])\n",
    "\n",
    "print('2nd element on 1st row:', arr[0, 1])"
   ]
  },
  {
   "cell_type": "code",
   "execution_count": 17,
   "metadata": {},
   "outputs": [
    {
     "name": "stdout",
     "output_type": "stream",
     "text": [
      "5th element on 2nd row: 10\n"
     ]
    }
   ],
   "source": [
    "import numpy as np\n",
    "\n",
    "arr = np.array([[1, 2, 3, 4, 5], [6, 7, 8, 9, 10]])\n",
    "\n",
    "print('5th element on 2nd row:', arr[1, 4])"
   ]
  },
  {
   "cell_type": "markdown",
   "metadata": {},
   "source": [
    "<section style=\"direction: rtl; text-align: justify; margin: 30px;\">\n",
    "\n",
    "برای دسترسی به عناصر از آرایه های سه بعدی می توانیم از اعداد صحیح جدا شده با کاما که ابعاد و شاخص عنصر را نشان می دهند استفاده کنیم.\n",
    "\n",
    "</section>"
   ]
  },
  {
   "cell_type": "markdown",
   "metadata": {},
   "source": [
    "### Access 3-D Arrays"
   ]
  },
  {
   "cell_type": "code",
   "execution_count": 22,
   "metadata": {},
   "outputs": [
    {
     "name": "stdout",
     "output_type": "stream",
     "text": [
      "6\n"
     ]
    }
   ],
   "source": [
    "import numpy as np\n",
    "\n",
    "arr = np.array([[[1, 2, 3], [4, 5, 6]], [[7, 8, 9], [10, 11, 12]]])\n",
    "\n",
    "print(arr[0, 1, 2])"
   ]
  },
  {
   "cell_type": "markdown",
   "metadata": {},
   "source": [
    "<section style=\"direction: rtl; text-align: justify; margin: 30px;\">\n",
    "\n",
    "در اینجا توضیحات مربوط به مثال آمده است:\n",
    "\n",
    "دسترسی به arr[0, 1, 2] مقدار 6 را چاپ می‌کند.\n",
    "\n",
    "این دلیل آن است:\n",
    "\n",
    "عدد اول نمایانگر بُعد اول است که دو آرایه را شامل می‌شود:\n",
    "[[1، 2، 3]، [4، 5، 6]]\n",
    "\n",
    "و:\n",
    "[[7، 8، 9]، [10، 11، 12]]\n",
    "\n",
    "از آنجایی که ما 0 را انتخاب کردیم، با آرایه اول باقی می‌مانیم:\n",
    "[[1، 2، 3]، [4، 5، 6]]\n",
    "\n",
    "عدد دوم نمایانگر بُعد دوم است که نیز دو آرایه را شامل می‌شود:\n",
    "[1، 2، 3]\n",
    "\n",
    "و: [4، 5، 6]\n",
    "\n",
    "از آنجایی که ما 1 را انتخاب کردیم، با آرایه دوم باقی می‌مانیم:\n",
    "[4، 5، 6]\n",
    "\n",
    "عدد سوم نمایانگر بُعد سوم است که سه مقدار را شامل می‌شود:\n",
    "4\n",
    "5\n",
    "6\n",
    "\n",
    "از آنجایی که ما 2 را انتخاب کردیم، با مقدار سوم باقی می‌مانیم:\n",
    "6\n",
    "\n",
    "</section>"
   ]
  },
  {
   "cell_type": "markdown",
   "metadata": {},
   "source": [
    "<section style=\"direction: rtl; text-align: justify; margin: 30px;\">\n",
    "\n",
    "از نمایه سازی منفی برای دسترسی به یک آرایه از انتها استفاده کنید.\n",
    "\n",
    "</section>"
   ]
  },
  {
   "cell_type": "code",
   "execution_count": 26,
   "metadata": {},
   "outputs": [
    {
     "name": "stdout",
     "output_type": "stream",
     "text": [
      "Last element from 2nd dim: 10\n"
     ]
    }
   ],
   "source": [
    "import numpy as np\n",
    "\n",
    "arr = np.array([[1, 2, 3, 4, 5], [6, 7, 8, 9, 10]])\n",
    "\n",
    "print('Last element from 2nd dim:', arr[1, -1])"
   ]
  },
  {
   "cell_type": "markdown",
   "metadata": {},
   "source": [
    "___\n",
    "\n",
    "NumPy Array Slicing\n",
    "\n",
    "<section style=\"direction: rtl; text-align: justify; margin: 30px;\">\n",
    "\n",
    "## **بُرش آرایه**\n",
    "\n",
    "برش در پایتون به معنای بردن عناصر از یک شاخص به شاخص دیگر است.\n",
    "\n",
    "اسلایس را به جای ایندکس به صورت زیر ارسال می کنیم: [شروع: پایان].\n",
    "\n",
    "ما همچنین می توانیم مرحله را مانند این تعریف کنیم: [start:end:step].\n",
    "\n",
    "اگر از آن عبور نکنیم، شروع آن 0 در نظر گرفته می شود\n",
    "\n",
    "اگر طول آرایه در نظر گرفته شده آن را در آن بعد رد نکنیم\n",
    "\n",
    "اگر از مرحله عبور نکنیم، 1 در نظر گرفته می شود\n",
    "\n",
    "</section>"
   ]
  },
  {
   "cell_type": "code",
   "execution_count": 27,
   "metadata": {},
   "outputs": [
    {
     "name": "stdout",
     "output_type": "stream",
     "text": [
      "[2 3 4 5]\n"
     ]
    }
   ],
   "source": [
    "import numpy as np\n",
    "\n",
    "arr = np.array([1, 2, 3, 4, 5, 6, 7])\n",
    "\n",
    "print(arr[1:5])"
   ]
  },
  {
   "cell_type": "markdown",
   "metadata": {},
   "source": [
    "<section style=\"direction: rtl; text-align: justify; margin: 30px;\">\n",
    "\n",
    "توجه: نتیجه شامل شاخص شروع است، اما شاخص پایان را استثنا نمی کند.\n",
    "\n",
    "</section>"
   ]
  },
  {
   "cell_type": "code",
   "execution_count": 28,
   "metadata": {},
   "outputs": [
    {
     "name": "stdout",
     "output_type": "stream",
     "text": [
      "[5 6 7]\n"
     ]
    }
   ],
   "source": [
    "import numpy as np\n",
    "\n",
    "arr = np.array([1, 2, 3, 4, 5, 6, 7])\n",
    "\n",
    "print(arr[4:])"
   ]
  },
  {
   "cell_type": "code",
   "execution_count": 29,
   "metadata": {},
   "outputs": [
    {
     "name": "stdout",
     "output_type": "stream",
     "text": [
      "[1 2 3 4]\n"
     ]
    }
   ],
   "source": [
    "import numpy as np\n",
    "\n",
    "arr = np.array([1, 2, 3, 4, 5, 6, 7])\n",
    "\n",
    "print(arr[:4])"
   ]
  },
  {
   "cell_type": "markdown",
   "metadata": {},
   "source": [
    "<section style=\"direction: rtl; text-align: justify; margin: 30px;\">\n",
    "\n",
    "از عملگر منها برای اشاره به یک شاخص از انتهای آن استفاده کنید:\n",
    "\n",
    "</section>"
   ]
  },
  {
   "cell_type": "code",
   "execution_count": 19,
   "metadata": {},
   "outputs": [
    {
     "name": "stdout",
     "output_type": "stream",
     "text": [
      "[5 6]\n"
     ]
    }
   ],
   "source": [
    "import numpy as np\n",
    "\n",
    "arr = np.array([1, 2, 3, 4, 5, 6, 7])\n",
    "\n",
    "print(arr[-3:-1])"
   ]
  },
  {
   "cell_type": "markdown",
   "metadata": {},
   "source": [
    "<section style=\"direction: rtl; text-align: justify; margin: 30px;\">\n",
    "\n",
    "از مقدار step برای تعیین مرحله برش استفاده کنید:\n",
    "\n",
    "</section>"
   ]
  },
  {
   "cell_type": "code",
   "execution_count": 2,
   "metadata": {},
   "outputs": [
    {
     "name": "stdout",
     "output_type": "stream",
     "text": [
      "[2 4]\n"
     ]
    }
   ],
   "source": [
    "import numpy as np\n",
    "\n",
    "arr = np.array([1, 2, 3, 4, 5, 6, 7])\n",
    "\n",
    "print(arr[1:5:2])"
   ]
  },
  {
   "cell_type": "code",
   "execution_count": 24,
   "metadata": {},
   "outputs": [
    {
     "name": "stdout",
     "output_type": "stream",
     "text": [
      "[1 3 5 7 9]\n",
      "[2 4 6 8]\n"
     ]
    }
   ],
   "source": [
    "import numpy as np\n",
    "\n",
    "arr = np.array([1, 2, 3, 4, 5, 6, 7, 8, 9])\n",
    "\n",
    "print(arr[0::2])\n",
    "print(arr[1::2])"
   ]
  },
  {
   "cell_type": "markdown",
   "metadata": {},
   "source": [
    "<section style=\"direction: rtl; text-align: justify; margin: 30px;\">\n",
    "\n",
    "برش آرایه دو بعدی:\n",
    "\n",
    "</section>"
   ]
  },
  {
   "cell_type": "code",
   "execution_count": 6,
   "metadata": {},
   "outputs": [
    {
     "name": "stdout",
     "output_type": "stream",
     "text": [
      "[7 8 9]\n"
     ]
    }
   ],
   "source": [
    "import numpy as np\n",
    "\n",
    "arr = np.array([[1, 2, 3, 4, 5], [6, 7, 8, 9, 10]])\n",
    "\n",
    "print(arr[1, 1:4])"
   ]
  },
  {
   "cell_type": "markdown",
   "metadata": {},
   "source": [
    "<section style=\"direction: rtl; text-align: justify; margin: 30px;\">\n",
    "\n",
    "توجه: به یاد داشته باشید که عنصر دوم دارای شاخص 1 است.\n",
    "\n",
    "</section>"
   ]
  },
  {
   "cell_type": "code",
   "execution_count": 28,
   "metadata": {},
   "outputs": [
    {
     "name": "stdout",
     "output_type": "stream",
     "text": [
      "[3 8]\n"
     ]
    }
   ],
   "source": [
    "import numpy as np\n",
    "\n",
    "arr = np.array([[1, 2, 3, 4, 5], [6, 7, 8, 9, 10]])\n",
    "\n",
    "print(arr[0:2, 2])"
   ]
  },
  {
   "cell_type": "code",
   "execution_count": 10,
   "metadata": {},
   "outputs": [
    {
     "name": "stdout",
     "output_type": "stream",
     "text": [
      "[[2 3 4]\n",
      " [7 8 9]]\n"
     ]
    }
   ],
   "source": [
    "import numpy as np\n",
    "\n",
    "arr = np.array([[1, 2, 3, 4, 5], [6, 7, 8, 9, 10]])\n",
    "\n",
    "print(arr[0:2, 1:4])"
   ]
  },
  {
   "cell_type": "markdown",
   "metadata": {},
   "source": [
    "___\n",
    "\n",
    "NumPy Data Types\n",
    "\n",
    "<section style=\"direction: rtl; text-align: justify; margin: 30px;\">\n",
    "\n",
    "## **انواع داده‌ها**\n",
    "\n",
    "به طور پیش فرض پایتون این نوع داده ها را دارد:\n",
    "\n",
    "- strings - برای نمایش داده های متنی استفاده می شود، متن زیر علامت نقل قول داده می شود. به عنوان مثال، \"ABCD\"\n",
    "\n",
    "- integer - برای نمایش اعداد صحیح استفاده می شود. به عنوان مثال، -1، -2، -3\n",
    "\n",
    "- float - برای نمایش اعداد واقعی استفاده می شود. به عنوان مثال، 1.2، 42.42\n",
    "\n",
    "- boolean - برای نشان دادن True یا False استفاده می شود.\n",
    "\n",
    "- complex - برای نمایش اعداد مختلط استفاده می شود. به عنوان مثال، 1.0 + 2.0j، 1.5 + 2.5j\n",
    "\n",
    "NumPy دارای چند نوع داده اضافی است و به انواع داده با یک کاراکتر اشاره می کند، مانند i برای اعداد صحیح، u برای اعداد صحیح بدون علامت و غیره.\n",
    "\n",
    "در زیر لیستی از انواع داده ها در NumPy و کاراکترهای مورد استفاده برای نشان دادن آنها آمده است.\n",
    "\n",
    "</section>\n",
    "\n",
    "- i - integer\n",
    "- b - boolean\n",
    "- u - unsigned integer\n",
    "- f - float\n",
    "- c - complex float\n",
    "- m - timedelta\n",
    "- M - datetime\n",
    "- O - object\n",
    "- S - string\n",
    "- U - unicode string\n",
    "- V - fixed chunk of memory for other type ( void )\n",
    "\n",
    "<section style=\"direction: rtl; text-align: justify; margin: 30px;\">\n",
    "\n",
    "شی آرایه NumPy دارای خاصیتی به نام dtype است که نوع داده آرایه را برمی گرداند:\n",
    "\n",
    "</section>"
   ]
  },
  {
   "cell_type": "code",
   "execution_count": 11,
   "metadata": {},
   "outputs": [
    {
     "name": "stdout",
     "output_type": "stream",
     "text": [
      "int64\n"
     ]
    }
   ],
   "source": [
    "import numpy as np\n",
    "\n",
    "arr = np.array([1, 2, 3, 4])\n",
    "\n",
    "print(arr.dtype)"
   ]
  },
  {
   "cell_type": "code",
   "execution_count": 13,
   "metadata": {},
   "outputs": [
    {
     "name": "stdout",
     "output_type": "stream",
     "text": [
      "<U6\n"
     ]
    }
   ],
   "source": [
    "import numpy as np\n",
    "\n",
    "arr = np.array(['apple', 'banana', 'cherry'])\n",
    "\n",
    "print(arr.dtype)"
   ]
  },
  {
   "cell_type": "markdown",
   "metadata": {},
   "source": [
    "<section style=\"direction: rtl; text-align: justify; margin: 30px;\">\n",
    "\n",
    "ما از تابع ()array برای ایجاد آرایه ها استفاده می کنیم، این تابع می تواند یک آرگومان اختیاری بگیرد: dtype که به ما امکان می دهد نوع داده مورد انتظار عناصر آرایه را تعریف کنیم:\n",
    "\n",
    "</section>"
   ]
  },
  {
   "cell_type": "code",
   "execution_count": 18,
   "metadata": {},
   "outputs": [
    {
     "name": "stdout",
     "output_type": "stream",
     "text": [
      "[b'1' b'2' b'3' b'4']\n",
      "|S1\n"
     ]
    }
   ],
   "source": [
    "import numpy as np\n",
    "\n",
    "arr = np.array([1, 2, 3, 4], dtype='S')\n",
    "\n",
    "print(arr)\n",
    "print(arr.dtype)"
   ]
  },
  {
   "cell_type": "markdown",
   "metadata": {},
   "source": [
    "<section style=\"direction: rtl; text-align: justify; margin: 30px;\">\n",
    "\n",
    "برای i، u، f، S و U می توانیم اندازه را نیز تعریف کنیم.\n",
    "\n",
    "</section>"
   ]
  },
  {
   "cell_type": "code",
   "execution_count": 16,
   "metadata": {},
   "outputs": [
    {
     "name": "stdout",
     "output_type": "stream",
     "text": [
      "[1 2 3 4]\n",
      "int32\n"
     ]
    }
   ],
   "source": [
    "import numpy as np\n",
    "\n",
    "arr = np.array([1, 2, 3, 4], dtype='i4')\n",
    "\n",
    "print(arr)\n",
    "print(arr.dtype)"
   ]
  },
  {
   "cell_type": "markdown",
   "metadata": {},
   "source": [
    "<section style=\"direction: rtl; text-align: justify; margin: 30px;\">\n",
    "\n",
    "اگر یک نوع داده شود که در آن عناصر نمی توانند ارسال شوند، NumPy یک ValueError ایجاد می کند.\n",
    "\n",
    "ValueError: در پایتون ValueError زمانی مطرح می شود که نوع آرگومان ارسال شده به یک تابع غیرمنتظره/نادرست باشد.\n",
    "\n",
    "</section>"
   ]
  },
  {
   "cell_type": "code",
   "execution_count": 20,
   "metadata": {},
   "outputs": [
    {
     "ename": "ValueError",
     "evalue": "invalid literal for int() with base 10: 'a'",
     "output_type": "error",
     "traceback": [
      "\u001b[0;31m---------------------------------------------------------------------------\u001b[0m",
      "\u001b[0;31mValueError\u001b[0m                                Traceback (most recent call last)",
      "\u001b[1;32m/home/saleh/Projects/PythonFundamentals-Farsi/w3schools/36-Numpy_Tutorial.ipynb Cell 32\u001b[0m line \u001b[0;36m3\n\u001b[1;32m      <a href='vscode-notebook-cell://wsl%2Bubuntu/home/saleh/Projects/PythonFundamentals-Farsi/w3schools/36-Numpy_Tutorial.ipynb#X44sdnNjb2RlLXJlbW90ZQ%3D%3D?line=0'>1</a>\u001b[0m \u001b[39mimport\u001b[39;00m \u001b[39mnumpy\u001b[39;00m \u001b[39mas\u001b[39;00m \u001b[39mnp\u001b[39;00m\n\u001b[0;32m----> <a href='vscode-notebook-cell://wsl%2Bubuntu/home/saleh/Projects/PythonFundamentals-Farsi/w3schools/36-Numpy_Tutorial.ipynb#X44sdnNjb2RlLXJlbW90ZQ%3D%3D?line=2'>3</a>\u001b[0m arr \u001b[39m=\u001b[39m np\u001b[39m.\u001b[39;49marray([\u001b[39m'\u001b[39;49m\u001b[39ma\u001b[39;49m\u001b[39m'\u001b[39;49m, \u001b[39m'\u001b[39;49m\u001b[39m2\u001b[39;49m\u001b[39m'\u001b[39;49m, \u001b[39m'\u001b[39;49m\u001b[39m3\u001b[39;49m\u001b[39m'\u001b[39;49m], dtype\u001b[39m=\u001b[39;49m\u001b[39m'\u001b[39;49m\u001b[39mi\u001b[39;49m\u001b[39m'\u001b[39;49m)\n\u001b[1;32m      <a href='vscode-notebook-cell://wsl%2Bubuntu/home/saleh/Projects/PythonFundamentals-Farsi/w3schools/36-Numpy_Tutorial.ipynb#X44sdnNjb2RlLXJlbW90ZQ%3D%3D?line=4'>5</a>\u001b[0m \u001b[39mprint\u001b[39m(arr)\n\u001b[1;32m      <a href='vscode-notebook-cell://wsl%2Bubuntu/home/saleh/Projects/PythonFundamentals-Farsi/w3schools/36-Numpy_Tutorial.ipynb#X44sdnNjb2RlLXJlbW90ZQ%3D%3D?line=5'>6</a>\u001b[0m \u001b[39mprint\u001b[39m(arr\u001b[39m.\u001b[39mdtype)\n",
      "\u001b[0;31mValueError\u001b[0m: invalid literal for int() with base 10: 'a'"
     ]
    }
   ],
   "source": [
    "import numpy as np\n",
    "\n",
    "arr = np.array(['a', '2', '3'], dtype='i')\n",
    "\n",
    "print(arr)\n",
    "print(arr.dtype)"
   ]
  },
  {
   "cell_type": "markdown",
   "metadata": {},
   "source": [
    "<section style=\"direction: rtl; text-align: justify; margin: 30px;\">\n",
    "\n",
    "بهترین راه برای تغییر نوع داده آرایه موجود، ایجاد یک کپی از آرایه با متد astype() است.\n",
    "\n",
    "تابع astype() یک کپی از آرایه ایجاد می کند و به شما امکان می دهد نوع داده را به عنوان یک پارامتر مشخص کنید.\n",
    "\n",
    "نوع داده را می توان با استفاده از یک رشته مشخص کرد، مانند 'f' برای float، 'i' برای عدد صحیح و غیره یا می توانید از نوع داده مستقیماً مانند float برای float و int برای عدد صحیح استفاده کنید.\n",
    "\n",
    "</section>"
   ]
  },
  {
   "cell_type": "code",
   "execution_count": 22,
   "metadata": {},
   "outputs": [
    {
     "name": "stdout",
     "output_type": "stream",
     "text": [
      "[1 2 3]\n",
      "int32\n"
     ]
    }
   ],
   "source": [
    "import numpy as np\n",
    "\n",
    "arr = np.array([1.1, 2.1, 3.1])\n",
    "\n",
    "newarr = arr.astype('i')\n",
    "\n",
    "print(newarr)\n",
    "print(newarr.dtype)"
   ]
  },
  {
   "cell_type": "code",
   "execution_count": 23,
   "metadata": {},
   "outputs": [
    {
     "name": "stdout",
     "output_type": "stream",
     "text": [
      "[1 2 3]\n",
      "int64\n"
     ]
    }
   ],
   "source": [
    "import numpy as np\n",
    "\n",
    "arr = np.array([1.1, 2.1, 3.1])\n",
    "\n",
    "newarr = arr.astype(int)\n",
    "\n",
    "print(newarr)\n",
    "print(newarr.dtype)"
   ]
  },
  {
   "cell_type": "code",
   "execution_count": 26,
   "metadata": {},
   "outputs": [
    {
     "name": "stdout",
     "output_type": "stream",
     "text": [
      "[ True False  True]\n",
      "bool\n"
     ]
    }
   ],
   "source": [
    "import numpy as np\n",
    "\n",
    "arr = np.array([1, 0, 3])\n",
    "\n",
    "newarr = arr.astype(bool)\n",
    "\n",
    "print(newarr)\n",
    "print(newarr.dtype)"
   ]
  },
  {
   "cell_type": "markdown",
   "metadata": {},
   "source": [
    "___\n",
    "\n",
    "NumPy Array Copy vs View\n",
    "\n",
    "<section style=\"direction: rtl; text-align: justify; margin: 30px;\">\n",
    "\n",
    "## **کپی و نمایش آرایه**\n",
    "\n",
    "تفاوت اصلی بین کپی و نمایش یک آرایه در این است که کپی یک آرایه جدید است و نمای فقط یک نمای آرایه اصلی است.\n",
    "\n",
    "کپی مالک داده ها است و هر تغییری که در کپی ایجاد شود روی آرایه اصلی تأثیر نمی گذارد و هر تغییری که در آرایه اصلی ایجاد شود روی کپی تأثیری نخواهد داشت.\n",
    "\n",
    "view متعلق به داده ها نیست و هر تغییری که در نما ایجاد شود، آرایه اصلی را تحت تاثیر قرار می دهد و هر تغییری که در آرایه اصلی ایجاد شود، روی نمایش آن تاثیر می گذارد.\n",
    "\n",
    "</section>"
   ]
  },
  {
   "cell_type": "code",
   "execution_count": 29,
   "metadata": {},
   "outputs": [
    {
     "name": "stdout",
     "output_type": "stream",
     "text": [
      "[42  2  3  4  5]\n",
      "[1 2 3 4 5]\n"
     ]
    }
   ],
   "source": [
    "import numpy as np\n",
    "\n",
    "arr = np.array([1, 2, 3, 4, 5])\n",
    "\n",
    "# Use Copy Methode:\n",
    "x = arr.copy()\n",
    "arr[0] = 42\n",
    "\n",
    "print(arr)\n",
    "print(x)"
   ]
  },
  {
   "cell_type": "markdown",
   "metadata": {},
   "source": [
    "<section style=\"direction: rtl; text-align: justify; margin: 30px;\">\n",
    "\n",
    "copy نباید تحت تأثیر تغییرات ایجاد شده در آرایه اصلی قرار گیرد.\n",
    "\n",
    "</section>"
   ]
  },
  {
   "cell_type": "code",
   "execution_count": 30,
   "metadata": {},
   "outputs": [
    {
     "name": "stdout",
     "output_type": "stream",
     "text": [
      "[42  2  3  4  5]\n",
      "[42  2  3  4  5]\n"
     ]
    }
   ],
   "source": [
    "import numpy as np\n",
    "\n",
    "arr = np.array([1, 2, 3, 4, 5])\n",
    "\n",
    "# Use View Methode\n",
    "x = arr.view()\n",
    "arr[0] = 42\n",
    "\n",
    "print(arr)\n",
    "print(x)"
   ]
  },
  {
   "cell_type": "markdown",
   "metadata": {},
   "source": [
    "<section style=\"direction: rtl; text-align: justify; margin: 30px;\">\n",
    "\n",
    "view باید تحت تأثیر تغییرات ایجاد شده در آرایه اصلی قرار گیرد.\n",
    "\n",
    "</section>"
   ]
  },
  {
   "cell_type": "code",
   "execution_count": 41,
   "metadata": {},
   "outputs": [
    {
     "name": "stdout",
     "output_type": "stream",
     "text": [
      "[31  2  3  4  5]\n",
      "[31  2  3  4  5]\n"
     ]
    }
   ],
   "source": [
    "import numpy as np\n",
    "\n",
    "arr = np.array([1, 2, 3, 4, 5])\n",
    "x = arr.view()\n",
    "x[0] = 31\n",
    "\n",
    "print(arr)\n",
    "print(x)"
   ]
  },
  {
   "cell_type": "markdown",
   "metadata": {},
   "source": [
    "<section style=\"direction: rtl; text-align: justify; margin: 30px;\">\n",
    "\n",
    "آرایه اصلی باید تحت تأثیر تغییرات ایجاد شده در view قرار گیرد.\n",
    "\n",
    "</section>"
   ]
  },
  {
   "cell_type": "markdown",
   "metadata": {},
   "source": [
    "<section style=\"direction: rtl; text-align: justify; margin: 30px;\">\n",
    "\n",
    "همانطور که در بالا ذکر شد، کپی ها مالک داده ها هستند و views مالک داده ها نیستند، اما چگونه می توانیم این را بررسی کنیم؟\n",
    "\n",
    "هر آرایه NumPy دارای پایه ویژگی است که اگر آرایه مالک داده باشد، None را برمی گرداند.\n",
    "\n",
    "در غیر این صورت، ویژگی پایه به شی اصلی اشاره دارد.\n",
    "\n",
    "</section>"
   ]
  },
  {
   "cell_type": "code",
   "execution_count": 44,
   "metadata": {},
   "outputs": [
    {
     "name": "stdout",
     "output_type": "stream",
     "text": [
      "None\n",
      "[1 2 3 4 5]\n"
     ]
    }
   ],
   "source": [
    "import numpy as np\n",
    "\n",
    "arr = np.array([1, 2, 3, 4, 5])\n",
    "\n",
    "x = arr.copy()\n",
    "y = arr.view()\n",
    "\n",
    "print(x.base)  # Return none\n",
    "print(y.base)  # Return original object"
   ]
  },
  {
   "cell_type": "markdown",
   "metadata": {},
   "source": [
    "<section style=\"direction: rtl; text-align: justify; margin: 30px;\">\n",
    "\n",
    "کپی None را برمی گرداند.\n",
    "\n",
    "View آرایه اصلی را برمی گرداند.\n",
    "\n",
    "</section>"
   ]
  },
  {
   "cell_type": "markdown",
   "metadata": {},
   "source": [
    "___\n",
    "\n",
    "NumPy Array Shape\n",
    "\n",
    "<section style=\"direction: rtl; text-align: justify; margin: 30px;\">\n",
    "\n",
    "## **شکل آرایه‌ها**\n",
    "\n",
    "شکل یک آرایه تعداد عناصر در هر بعد است.\n",
    "\n",
    "آرایه های NumPy دارای یک ویژگی به نام shape هستند که یک تاپل را با هر شاخص دارای تعداد عناصر مربوطه برمی گرداند.\n",
    "\n",
    "</section>"
   ]
  },
  {
   "cell_type": "code",
   "execution_count": 45,
   "metadata": {},
   "outputs": [
    {
     "name": "stdout",
     "output_type": "stream",
     "text": [
      "(2, 4)\n"
     ]
    }
   ],
   "source": [
    "import numpy as np\n",
    "\n",
    "arr = np.array([[1, 2, 3, 4], [5, 6, 7, 8]])\n",
    "\n",
    "print(arr.shape)"
   ]
  },
  {
   "cell_type": "markdown",
   "metadata": {},
   "source": [
    "<section style=\"direction: rtl; text-align: justify; margin: 30px;\">\n",
    "\n",
    "مثال بالا (2، 4) را برمی گرداند، به این معنی که آرایه دارای 2 بعد است که بعد اول دارای 2 عنصر و بعد دوم دارای 4 عنصر است.\n",
    "\n",
    "</section>"
   ]
  },
  {
   "cell_type": "code",
   "execution_count": 31,
   "metadata": {},
   "outputs": [
    {
     "name": "stdout",
     "output_type": "stream",
     "text": [
      "[[[[[1 2 3 4]]]]]\n",
      "Shapes of array: (1, 1, 1, 1, 4)\n"
     ]
    }
   ],
   "source": [
    "import numpy as np\n",
    "\n",
    "arr = np.array([1, 2, 3, 4], ndmin=5)\n",
    "print(arr)\n",
    "print(f'Shapes of array: {arr.shape}')"
   ]
  },
  {
   "cell_type": "markdown",
   "metadata": {},
   "source": [
    "<section style=\"direction: rtl; text-align: justify; margin: 30px;\">\n",
    "\n",
    "اعداد صحیح در هر شاخص تعداد عناصری را که بعد مربوطه دارد نشان می دهد.\n",
    "\n",
    "در مثال بالا در شاخص-4 مقدار 4 داریم، بنابراین می توان گفت که بعد پنجم (4 + 1) دارای 4 عنصر است.\n",
    "\n",
    "</section>"
   ]
  },
  {
   "cell_type": "markdown",
   "metadata": {},
   "source": [
    "___\n",
    "\n",
    "NumPy Array Reshaping\n",
    "\n",
    "<section style=\"direction: rtl; text-align: justify; margin: 30px;\">\n",
    "\n",
    "## **تغیر شکل آرایه**\n",
    "\n",
    "Reshaping به معنای تغییر شکل یک آرایه است.\n",
    "\n",
    "شکل یک آرایه تعداد عناصر در هر بعد است.\n",
    "\n",
    "با تغییر شکل می توانیم ابعاد را اضافه یا حذف کنیم یا تعداد عناصر را در هر بعد تغییر دهیم.\n",
    "\n",
    "</section>"
   ]
  },
  {
   "cell_type": "code",
   "execution_count": 33,
   "metadata": {},
   "outputs": [
    {
     "name": "stdout",
     "output_type": "stream",
     "text": [
      "[[ 1  2  3  4  5]\n",
      " [ 6  7  8  9 10]\n",
      " [11 12 13 14 15]]\n"
     ]
    }
   ],
   "source": [
    "import numpy as np\n",
    "\n",
    "arr = np.array([1, 2, 3, 4, 5, 6, 7, 8, 9, 10, 11, 12, 13, 14, 15])\n",
    "\n",
    "newarr = arr.reshape(3, 5)\n",
    "\n",
    "print(newarr)"
   ]
  },
  {
   "cell_type": "code",
   "execution_count": 51,
   "metadata": {},
   "outputs": [
    {
     "name": "stdout",
     "output_type": "stream",
     "text": [
      "[[[ 1  2]\n",
      "  [ 3  4]\n",
      "  [ 5  6]]\n",
      "\n",
      " [[ 7  8]\n",
      "  [ 9 10]\n",
      "  [11 12]]]\n"
     ]
    }
   ],
   "source": [
    "import numpy as np\n",
    "\n",
    "arr = np.array([1, 2, 3, 4, 5, 6, 7, 8, 9, 10, 11, 12])\n",
    "\n",
    "newarr = arr.reshape(2, 3, 2)\n",
    "\n",
    "print(newarr)"
   ]
  },
  {
   "cell_type": "markdown",
   "metadata": {},
   "source": [
    "<section style=\"direction: rtl; text-align: justify; margin: 30px;\">\n",
    "\n",
    "آیا می توانیم به هر شکلی تغییر شکل دهیم؟\n",
    "\n",
    "بله، تا زمانی که عناصر مورد نیاز برای تغییر شکل در هر دو شکل برابر باشند.\n",
    "\n",
    "ما می‌توانیم یک آرایه 1 بعدی 8 عنصری را به 4 عنصر در آرایه 2 بعدی 2 ردیفی تغییر شکل دهیم، اما نمی‌توانیم آن را به یک آرایه 3 عنصری و 3 ردیفی 2 بعدی تغییر شکل دهیم زیرا به 3x3 = 9 عنصر نیاز دارد.\n",
    "\n",
    "</section>"
   ]
  },
  {
   "cell_type": "code",
   "execution_count": 34,
   "metadata": {},
   "outputs": [
    {
     "ename": "ValueError",
     "evalue": "cannot reshape array of size 8 into shape (3,3)",
     "output_type": "error",
     "traceback": [
      "\u001b[1;31m---------------------------------------------------------------------------\u001b[0m",
      "\u001b[1;31mValueError\u001b[0m                                Traceback (most recent call last)",
      "Cell \u001b[1;32mIn[34], line 5\u001b[0m\n\u001b[0;32m      1\u001b[0m \u001b[38;5;28;01mimport\u001b[39;00m \u001b[38;5;21;01mnumpy\u001b[39;00m \u001b[38;5;28;01mas\u001b[39;00m \u001b[38;5;21;01mnp\u001b[39;00m\n\u001b[0;32m      3\u001b[0m arr \u001b[38;5;241m=\u001b[39m np\u001b[38;5;241m.\u001b[39marray([\u001b[38;5;241m1\u001b[39m, \u001b[38;5;241m2\u001b[39m, \u001b[38;5;241m3\u001b[39m, \u001b[38;5;241m4\u001b[39m, \u001b[38;5;241m5\u001b[39m, \u001b[38;5;241m6\u001b[39m, \u001b[38;5;241m7\u001b[39m, \u001b[38;5;241m8\u001b[39m])\n\u001b[1;32m----> 5\u001b[0m newarr \u001b[38;5;241m=\u001b[39m \u001b[43marr\u001b[49m\u001b[38;5;241;43m.\u001b[39;49m\u001b[43mreshape\u001b[49m\u001b[43m(\u001b[49m\u001b[38;5;241;43m3\u001b[39;49m\u001b[43m,\u001b[49m\u001b[43m \u001b[49m\u001b[38;5;241;43m3\u001b[39;49m\u001b[43m)\u001b[49m\n\u001b[0;32m      7\u001b[0m \u001b[38;5;28mprint\u001b[39m(newarr)\n",
      "\u001b[1;31mValueError\u001b[0m: cannot reshape array of size 8 into shape (3,3)"
     ]
    }
   ],
   "source": [
    "import numpy as np\n",
    "\n",
    "arr = np.array([1, 2, 3, 4, 5, 6, 7, 8])\n",
    "\n",
    "newarr = arr.reshape(3, 3)\n",
    "\n",
    "print(newarr)"
   ]
  },
  {
   "cell_type": "markdown",
   "metadata": {},
   "source": [
    "<section style=\"direction: rtl; text-align: justify; margin: 30px;\">\n",
    "\n",
    "آیا کپی یا ویو (View) را برمی‌گرداند؟\n",
    "\n",
    "</section>"
   ]
  },
  {
   "cell_type": "code",
   "execution_count": 60,
   "metadata": {},
   "outputs": [
    {
     "name": "stdout",
     "output_type": "stream",
     "text": [
      "[1 2 3 4 5 6 7 8]\n"
     ]
    }
   ],
   "source": [
    "import numpy as np\n",
    "\n",
    "arr = np.array([1, 2, 3, 4, 5, 6, 7, 8])\n",
    "\n",
    "print(arr.reshape(2, 4).base)"
   ]
  },
  {
   "cell_type": "markdown",
   "metadata": {},
   "source": [
    "<section style=\"direction: rtl; text-align: justify; margin: 30px;\">\n",
    "\n",
    "مثال بالا آرایه اصلی را برمی گرداند، بنابراین یک view است.\n",
    "\n",
    "</section>"
   ]
  },
  {
   "cell_type": "markdown",
   "metadata": {},
   "source": [
    "<section style=\"direction: rtl; text-align: justify; margin: 30px;\">\n",
    "\n",
    "شما مجاز به داشتن یک بعد \"ناشناخته\" هستید.\n",
    "\n",
    "به این معنی که در روش تغییر شکل مجبور نیستید عدد دقیقی برای یکی از ابعاد مشخص کنید.\n",
    "\n",
    "منفی 1 را به عنوان مقدار ارسال کنید و NumPy این عدد را برای شما محاسبه خواهد کرد.\n",
    "\n",
    "</section>"
   ]
  },
  {
   "cell_type": "code",
   "execution_count": 3,
   "metadata": {},
   "outputs": [
    {
     "name": "stdout",
     "output_type": "stream",
     "text": [
      "[[[1 2]\n",
      "  [3 4]]\n",
      "\n",
      " [[5 6]\n",
      "  [7 8]]]\n"
     ]
    }
   ],
   "source": [
    "import numpy as np\n",
    "\n",
    "arr = np.array([1, 2, 3, 4, 5, 6, 7, 8])\n",
    "\n",
    "newarr = arr.reshape(2, 2, -1)\n",
    "\n",
    "print(newarr)"
   ]
  },
  {
   "cell_type": "markdown",
   "metadata": {},
   "source": [
    "<section style=\"direction: rtl; text-align: justify; margin: 30px;\">\n",
    "\n",
    "توجه: ما نمی توانیم منفی ۱ را به بیش از یک بعد منتقل کنیم.\n",
    "\n",
    "</section>"
   ]
  },
  {
   "cell_type": "markdown",
   "metadata": {},
   "source": [
    "<section style=\"direction: rtl; text-align: justify; margin: 30px;\">\n",
    "\n",
    "Flattening array به معنای تبدیل یک آرایه چند بعدی به یک آرایه 1 بعدی است.\n",
    "\n",
    "برای این کار می توانیم از reshape(-1) استفاده کنیم.\n",
    "\n",
    "</section>"
   ]
  },
  {
   "cell_type": "code",
   "execution_count": 66,
   "metadata": {},
   "outputs": [
    {
     "name": "stdout",
     "output_type": "stream",
     "text": [
      "[1 2 3 4 5 6 7 8]\n"
     ]
    }
   ],
   "source": [
    "import numpy as np\n",
    "\n",
    "arr = np.array([1, 2, 3, 4, 5, 6, 7, 8])\n",
    "\n",
    "newarr = arr.reshape(-1)\n",
    "\n",
    "print(newarr)"
   ]
  },
  {
   "cell_type": "markdown",
   "metadata": {},
   "source": [
    "<section style=\"direction: rtl; text-align: justify; margin: 30px;\">\n",
    "\n",
    "توجه: توابع زیادی برای تغییر شکل آرایه ها در numpy flatten، ravel و همچنین برای تنظیم مجدد عناصر rot90، flip، fliplr، flipud و غیره وجود دارد. اینها در بخش Intermediate تا Advanced numpy قرار می گیرند.\n",
    "\n",
    "</section>"
   ]
  },
  {
   "cell_type": "markdown",
   "metadata": {},
   "source": [
    "___\n",
    "\n",
    "NumPy Array Iterating\n",
    "\n",
    "<section style=\"direction: rtl; text-align: justify; margin: 30px;\">\n",
    "\n",
    "## **تکرار آرایه**\n",
    "\n",
    "تکرار به معنای عبور از عناصر یک به یک است.\n",
    "\n",
    "همانطور که با آرایه های چند بعدی در numpy سر و کار داریم، می توانیم این کار را با استفاده از حلقه for پایه پایتون انجام دهیم.\n",
    "\n",
    "اگر روی یک آرایه 1 بعدی تکرار کنیم، از هر عنصر یکی یکی عبور می کند.\n",
    "\n",
    "</section>"
   ]
  },
  {
   "cell_type": "code",
   "execution_count": 6,
   "metadata": {},
   "outputs": [
    {
     "name": "stdout",
     "output_type": "stream",
     "text": [
      "1\n",
      "2\n",
      "3\n"
     ]
    }
   ],
   "source": [
    "import numpy as np\n",
    "\n",
    "arr = np.array([1, 2, 3])\n",
    "\n",
    "for x in arr:\n",
    "    print(x)"
   ]
  },
  {
   "cell_type": "markdown",
   "metadata": {},
   "source": [
    "<section style=\"direction: rtl; text-align: justify; margin: 30px;\">\n",
    "\n",
    "در یک آرایه 2 بعدی از تمام ردیف ها عبور می کند.\n",
    "\n",
    "</section>"
   ]
  },
  {
   "cell_type": "code",
   "execution_count": 2,
   "metadata": {},
   "outputs": [
    {
     "name": "stdout",
     "output_type": "stream",
     "text": [
      "[1 2 3]\n",
      "[4 5 6]\n"
     ]
    }
   ],
   "source": [
    "import numpy as np\n",
    "\n",
    "arr = np.array([[1, 2, 3], [4, 5, 6]])\n",
    "\n",
    "for x in arr:\n",
    "    print(x)"
   ]
  },
  {
   "cell_type": "markdown",
   "metadata": {},
   "source": [
    "<section style=\"direction: rtl; text-align: justify; margin: 30px;\">\n",
    "\n",
    "اگر روی یک آرایه n-D تکرار کنیم، بعد n-1 را یکی یکی طی می کند.\n",
    "\n",
    "برای برگرداندن مقادیر واقعی، اسکالرها، باید آرایه ها را در هر بعد تکرار کنیم.\n",
    "\n",
    "</section>"
   ]
  },
  {
   "cell_type": "code",
   "execution_count": 3,
   "metadata": {},
   "outputs": [
    {
     "name": "stdout",
     "output_type": "stream",
     "text": [
      "1\n",
      "2\n",
      "3\n",
      "4\n",
      "5\n",
      "6\n"
     ]
    }
   ],
   "source": [
    "import numpy as np\n",
    "\n",
    "arr = np.array([[1, 2, 3], [4, 5, 6]])\n",
    "\n",
    "for x in arr:\n",
    "    for y in x:\n",
    "        print(y)"
   ]
  },
  {
   "cell_type": "markdown",
   "metadata": {},
   "source": [
    "<section style=\"direction: rtl; text-align: justify; margin: 30px;\">\n",
    "\n",
    "در یک آرایه 3 بعدی از تمام آرایه های 2 بعدی عبور می کند.\n",
    "\n",
    "</section>"
   ]
  },
  {
   "cell_type": "code",
   "execution_count": 4,
   "metadata": {},
   "outputs": [
    {
     "name": "stdout",
     "output_type": "stream",
     "text": [
      "[[ 1  2  3]\n",
      " [ 4  5  6]\n",
      " [ 7  8  9]\n",
      " [10 11 12]]\n"
     ]
    }
   ],
   "source": [
    "import numpy as np\n",
    "\n",
    "arr = np.array([[[1, 2, 3], [4, 5, 6], [7, 8, 9], [10, 11, 12]]])\n",
    "\n",
    "for x in arr:\n",
    "    print(x)"
   ]
  },
  {
   "cell_type": "markdown",
   "metadata": {},
   "source": [
    "<section style=\"direction: rtl; text-align: justify; margin: 30px;\">\n",
    "\n",
    "برای برگرداندن مقادیر واقعی، اسکالرها، باید آرایه ها را در هر بعد تکرار کنیم.\n",
    "\n",
    "</section>"
   ]
  },
  {
   "cell_type": "code",
   "execution_count": 6,
   "metadata": {},
   "outputs": [
    {
     "name": "stdout",
     "output_type": "stream",
     "text": [
      "1\n",
      "2\n",
      "3\n",
      "4\n",
      "5\n",
      "6\n",
      "7\n",
      "8\n",
      "9\n",
      "10\n",
      "11\n",
      "12\n"
     ]
    }
   ],
   "source": [
    "import numpy as np\n",
    "\n",
    "arr = np.array([[[1, 2, 3], [4, 5, 6], [7, 8, 9], [10, 11, 12]]])\n",
    "\n",
    "for x in arr:\n",
    "    for y in x:\n",
    "        for z in y:\n",
    "            print(z)"
   ]
  },
  {
   "cell_type": "markdown",
   "metadata": {},
   "source": [
    "<section style=\"direction: rtl; text-align: justify; margin: 30px;\">\n",
    "\n",
    "تابع nditer() یک تابع کمکی است که می تواند از تکرارهای بسیار ابتدایی تا بسیار پیشرفته استفاده شود. برخی از مسائل اساسی را که در تکرار با آن مواجه هستیم را حل می کند، اجازه دهید با مثال هایی از آن عبور کنیم.\n",
    "\n",
    "در حلقه‌های اصلی، با تکرار در هر اسکالر آرایه، باید از n برای حلقه‌ها استفاده کنیم که نوشتن آن برای آرایه‌هایی با ابعاد بسیار بالا دشوار است.\n",
    "\n",
    "</section>"
   ]
  },
  {
   "cell_type": "code",
   "execution_count": 8,
   "metadata": {},
   "outputs": [
    {
     "name": "stdout",
     "output_type": "stream",
     "text": [
      "1\n",
      "2\n",
      "3\n",
      "4\n",
      "5\n",
      "6\n",
      "7\n",
      "8\n"
     ]
    }
   ],
   "source": [
    "import numpy as np\n",
    "\n",
    "arr = np.array([[[1, 2], [3, 4]], [[5, 6], [7, 8]]])\n",
    "\n",
    "for x in np.nditer(arr):\n",
    "    print(x)"
   ]
  },
  {
   "cell_type": "markdown",
   "metadata": {},
   "source": [
    "<section style=\"direction: rtl; text-align: justify; margin: 30px;\">\n",
    "\n",
    "می‌توانیم از آرگومان op_dtypes استفاده کنیم و نوع داده مورد انتظار را برای تغییر نوع داده عناصر در حین تکرار به آن منتقل کنیم.\n",
    "\n",
    "NumPy نوع داده عنصر را در محل تغییر نمی دهد (جایی که عنصر در آرایه است) بنابراین برای انجام این عمل به فضای دیگری نیاز دارد، آن فضای اضافی بافر نامیده می شود و برای فعال کردن آن در nditer() pass flags=['buffered'].\n",
    "\n",
    "</section>"
   ]
  },
  {
   "cell_type": "code",
   "execution_count": 15,
   "metadata": {},
   "outputs": [
    {
     "name": "stdout",
     "output_type": "stream",
     "text": [
      "b'1'\n",
      "b'2'\n",
      "b'3'\n"
     ]
    }
   ],
   "source": [
    "import numpy as np\n",
    "\n",
    "arr = np.array([1, 2, 3])\n",
    "\n",
    "for x in np.nditer(arr, flags=['buffered'], op_dtypes=['S']):\n",
    "    print(x)"
   ]
  },
  {
   "cell_type": "markdown",
   "metadata": {},
   "source": [
    "<section style=\"direction: rtl; text-align: justify; margin: 30px;\">\n",
    "\n",
    "می‌توانیم از فیلتر کردن و به دنبال آن تکرار استفاده کنیم.\n",
    "\n",
    "</section>"
   ]
  },
  {
   "cell_type": "code",
   "execution_count": 16,
   "metadata": {},
   "outputs": [
    {
     "name": "stdout",
     "output_type": "stream",
     "text": [
      "1\n",
      "3\n",
      "5\n",
      "7\n"
     ]
    }
   ],
   "source": [
    "import numpy as np\n",
    "\n",
    "arr = np.array([[1, 2, 3, 4], [5, 6, 7, 8]])\n",
    "\n",
    "for x in np.nditer(arr[:, ::2]):\n",
    "    print(x)"
   ]
  },
  {
   "cell_type": "markdown",
   "metadata": {},
   "source": [
    "<section style=\"direction: rtl; text-align: justify; margin: 30px;\">\n",
    "\n",
    "Enumeration به معنای ذکر شماره توالی چیزها یک به یک است.\n",
    "\n",
    "گاهی اوقات ما به شاخص متناظر عنصر در حین تکرار نیاز داریم، می‌توان از متد ndenumerate() برای آن موارد استفاده استفاده کرد.\n",
    "\n",
    "</section>"
   ]
  },
  {
   "cell_type": "code",
   "execution_count": 20,
   "metadata": {},
   "outputs": [
    {
     "name": "stdout",
     "output_type": "stream",
     "text": [
      "(0,) 1\n",
      "(1,) 2\n",
      "(2,) 3\n"
     ]
    }
   ],
   "source": [
    "import numpy as np\n",
    "\n",
    "arr = np.array([1, 2, 3])\n",
    "\n",
    "for idx, x in np.ndenumerate(arr):\n",
    "    print(idx, x)"
   ]
  },
  {
   "cell_type": "code",
   "execution_count": 23,
   "metadata": {},
   "outputs": [
    {
     "name": "stdout",
     "output_type": "stream",
     "text": [
      "(0, 0) 1\n",
      "(0, 1) 2\n",
      "(0, 2) 3\n",
      "(0, 3) 4\n",
      "(1, 0) 5\n",
      "(1, 1) 6\n",
      "(1, 2) 7\n",
      "(1, 3) 8\n"
     ]
    }
   ],
   "source": [
    "import numpy as np\n",
    "\n",
    "arr = np.array([[1, 2, 3, 4], [5, 6, 7, 8]])\n",
    "\n",
    "for idx, x in np.ndenumerate(arr):\n",
    "    print(idx, x)"
   ]
  },
  {
   "cell_type": "markdown",
   "metadata": {},
   "source": [
    "___\n",
    "\n",
    "NumPy Joining Array\n",
    "\n",
    "<section style=\"direction: rtl; text-align: justify; margin: 30px;\">\n",
    "\n",
    "## **ادغام آرایه‌ها**\n",
    "\n",
    "Joining به معنای قرار دادن محتویات دو یا چند آرایه در یک آرایه است.\n",
    "\n",
    "در SQL جداول را بر اساس یک کلید به هم می‌پیوندیم، در حالی که در NumPy آرایه‌ها را با محور به هم می‌پیوندیم.\n",
    "\n",
    "دنباله ای از آرایه ها را که می خواهیم به تابع concatenate() بپیوندیم همراه با محور ارسال می کنیم. اگر محور به طور صریح عبور داده نشود، 0 در نظر گرفته می شود.\n",
    "\n",
    "</section>"
   ]
  },
  {
   "cell_type": "code",
   "execution_count": 29,
   "metadata": {},
   "outputs": [
    {
     "name": "stdout",
     "output_type": "stream",
     "text": [
      "[1 2 3 4 5 6]\n",
      "1\n",
      "2\n",
      "3\n",
      "4\n",
      "5\n",
      "6\n"
     ]
    }
   ],
   "source": [
    "import numpy as np\n",
    "\n",
    "arr1 = np.array([1, 2, 3])\n",
    "\n",
    "arr2 = np.array([4, 5, 6])\n",
    "\n",
    "arr = np.concatenate((arr1, arr2))\n",
    "\n",
    "print(arr)\n",
    "\n",
    "for x in arr:\n",
    "    print(x)"
   ]
  },
  {
   "cell_type": "code",
   "execution_count": 35,
   "metadata": {},
   "outputs": [
    {
     "name": "stdout",
     "output_type": "stream",
     "text": [
      "[[1 2 5 6]\n",
      " [3 4 7 8]]\n"
     ]
    }
   ],
   "source": [
    "import numpy as np\n",
    "\n",
    "arr1 = np.array([[1, 2], [3, 4]])\n",
    "\n",
    "arr2 = np.array([[5, 6], [7, 8]])\n",
    "\n",
    "arr = np.concatenate((arr1, arr2), axis=1)\n",
    "\n",
    "print(arr)"
   ]
  },
  {
   "cell_type": "markdown",
   "metadata": {},
   "source": [
    "<section style=\"direction: rtl; text-align: justify; margin: 30px;\">\n",
    "\n",
    "انباشته شدن همانند ادغام است، تنها تفاوت این است که انباشتگی در امتداد یک محور جدید انجام می شود.\n",
    "\n",
    "ما می توانیم دو آرایه 1 بعدی را در امتداد محور دوم به هم متصل کنیم که منجر به قرار دادن آنها بر روی دیگری می شود. پشتهسازی.\n",
    "\n",
    "دنباله ای از آرایه ها را که می خواهیم به متد stack() بپیوندیم همراه با محور ارسال می کنیم. اگر از محور به طور صریح عبور داده نشود، 0 در نظر گرفته می شود.\n",
    "\n",
    "</section>"
   ]
  },
  {
   "cell_type": "code",
   "execution_count": 12,
   "metadata": {},
   "outputs": [
    {
     "name": "stdout",
     "output_type": "stream",
     "text": [
      "[[1 4]\n",
      " [2 5]\n",
      " [3 6]]\n"
     ]
    }
   ],
   "source": [
    "import numpy as np\n",
    "\n",
    "arr1 = np.array([1, 2, 3])\n",
    "arr2 = np.array([4, 5, 6])\n",
    "\n",
    "arr = np.stack((arr1, arr2), axis=1)\n",
    "\n",
    "print(arr)"
   ]
  },
  {
   "cell_type": "markdown",
   "metadata": {},
   "source": [
    "<section style=\"direction: rtl; text-align: justify; margin: 30px;\">\n",
    "\n",
    "NumPy یک تابع کمکی hstack() برای چیدن در امتداد ردیف ها ارائه می دهد.\n",
    "\n",
    "</section>"
   ]
  },
  {
   "cell_type": "code",
   "execution_count": 14,
   "metadata": {},
   "outputs": [
    {
     "name": "stdout",
     "output_type": "stream",
     "text": [
      "[1 2 3 4 5 6]\n"
     ]
    }
   ],
   "source": [
    "import numpy as np\n",
    "\n",
    "arr1 = np.array([1, 2, 3])\n",
    "arr2 = np.array([4, 5, 6])\n",
    "\n",
    "arr = np.hstack((arr1, arr2))\n",
    "\n",
    "print(arr)"
   ]
  },
  {
   "cell_type": "markdown",
   "metadata": {},
   "source": [
    "<section style=\"direction: rtl; text-align: justify; margin: 30px;\">\n",
    "\n",
    "همچنین Numpy یک تابع کمکی دیگر با نام vstack() برای امتداد در ستون‌ها ارائه می‌دهد:\n",
    "\n",
    "</section>"
   ]
  },
  {
   "cell_type": "code",
   "execution_count": 15,
   "metadata": {},
   "outputs": [
    {
     "name": "stdout",
     "output_type": "stream",
     "text": [
      "[[1 2 3]\n",
      " [4 5 6]]\n"
     ]
    }
   ],
   "source": [
    "import numpy as np\n",
    "\n",
    "arr1 = np.array([1, 2, 3])\n",
    "arr2 = np.array([4, 5, 6])\n",
    "\n",
    "arr = np.vstack((arr1, arr2))\n",
    "\n",
    "print(arr)"
   ]
  },
  {
   "cell_type": "markdown",
   "metadata": {},
   "source": [
    "<section style=\"direction: rtl; text-align: justify; margin: 30px;\">\n",
    "\n",
    "NumPy یک تابع کمکی ارائه می‌کند: dstack() که در امتداد ارتفاع قرار می‌گیرد که همان عمق است.\n",
    "\n",
    "</section>"
   ]
  },
  {
   "cell_type": "code",
   "execution_count": 16,
   "metadata": {},
   "outputs": [
    {
     "name": "stdout",
     "output_type": "stream",
     "text": [
      "[[[1 4]\n",
      "  [2 5]\n",
      "  [3 6]]]\n"
     ]
    }
   ],
   "source": [
    "import numpy as np\n",
    "\n",
    "arr1 = np.array([1, 2, 3])\n",
    "arr2 = np.array([4, 5, 6])\n",
    "\n",
    "arr = np.dstack((arr1, arr2))\n",
    "\n",
    "print(arr)"
   ]
  },
  {
   "cell_type": "markdown",
   "metadata": {},
   "source": [
    "___\n",
    "\n",
    "NumPy Splitting Array\n",
    "\n",
    "<section style=\"direction: rtl; text-align: justify; margin: 30px;\">\n",
    "\n",
    "## **جدا کردن آرایه**\n",
    "\n",
    "splitting عمل معکوس Joining است.\n",
    "\n",
    "Joining چندین آرایه را در یک آرایه ادغام می کند و Splitting یک آرایه را به چندین آرایه می شکند.\n",
    "\n",
    "برای تقسیم آرایه ها از ()array_split استفاده می کنیم، آرایه ای را که می خواهیم تقسیم کنیم و تعداد تقسیم ها را به آن پاس می دهیم.\n",
    "\n",
    "</section>"
   ]
  },
  {
   "cell_type": "code",
   "execution_count": 47,
   "metadata": {},
   "outputs": [
    {
     "name": "stdout",
     "output_type": "stream",
     "text": [
      "[array([1, 2]), array([3, 4]), array([5, 6])]\n"
     ]
    }
   ],
   "source": [
    "import numpy as np\n",
    "\n",
    "arr = np.array([1, 2, 3, 4, 5, 6])\n",
    "\n",
    "newarr = np.array_split(arr, 3)\n",
    "\n",
    "print(newarr)"
   ]
  },
  {
   "cell_type": "markdown",
   "metadata": {},
   "source": [
    "<section style=\"direction: rtl; text-align: justify; margin: 30px;\">\n",
    "\n",
    "توجه: مقدار بازگشتی یک لیست شامل سه آرایه است. ☝🏽\n",
    "\n",
    "اگر آرایه کمتر از مقدار مورد نیاز عناصر داشته باشد، از انتهای آن مطابق با آن تنظیم می شود.\n",
    "\n",
    "</section>"
   ]
  },
  {
   "cell_type": "code",
   "execution_count": 17,
   "metadata": {},
   "outputs": [
    {
     "name": "stdout",
     "output_type": "stream",
     "text": [
      "[array([1, 2]), array([3, 4]), array([5]), array([6])]\n"
     ]
    }
   ],
   "source": [
    "import numpy as np\n",
    "\n",
    "arr = np.array([1, 2, 3, 4, 5, 6])\n",
    "\n",
    "newarr = np.array_split(arr, 4)\n",
    "\n",
    "print(newarr)"
   ]
  },
  {
   "cell_type": "markdown",
   "metadata": {},
   "source": [
    "<section style=\"direction: rtl; text-align: justify; margin: 30px;\">\n",
    "\n",
    "توجه: ما متد split() را نیز در دسترس داریم، اما زمانی که عناصر در آرایه منبع کمتر باشند، مانند مثال بالا، عناصر را تنظیم نمی کند، مانند مثال بالا، array_split() به درستی کار می کرد اما split() شکست می خورد. ☝🏽\n",
    "\n",
    "مقدار برگشتی متد ()array_split آرایه‌ای است که هر یک از تقسیم‌ها را به عنوان یک آرایه در خود دارد.\n",
    "\n",
    "اگر یک آرایه را به 3 آرایه تقسیم کنید، می توانید مانند هر عنصر آرایه از نتیجه به آنها دسترسی داشته باشید:\n",
    "\n",
    "</section>"
   ]
  },
  {
   "cell_type": "code",
   "execution_count": 18,
   "metadata": {},
   "outputs": [
    {
     "name": "stdout",
     "output_type": "stream",
     "text": [
      "[1 2]\n",
      "[3 4]\n",
      "[5 6]\n"
     ]
    }
   ],
   "source": [
    "import numpy as np\n",
    "\n",
    "arr = np.array([1, 2, 3, 4, 5, 6])\n",
    "\n",
    "newarr = np.array_split(arr, 3)\n",
    "\n",
    "print(newarr[0])\n",
    "print(newarr[1])\n",
    "print(newarr[2])"
   ]
  },
  {
   "cell_type": "markdown",
   "metadata": {},
   "source": [
    "<section style=\"direction: rtl; text-align: justify; margin: 30px;\">\n",
    "\n",
    "هنگام تقسیم آرایه های دو بعدی از همان نحو استفاده کنید.\n",
    "\n",
    "از متد ()array_split استفاده کنید، آرایه‌ای را که می‌خواهید تقسیم کنید و تعداد تقسیم‌هایی را که می‌خواهید انجام دهید، ارسال کنید.\n",
    "\n",
    "</section>"
   ]
  },
  {
   "cell_type": "code",
   "execution_count": 19,
   "metadata": {},
   "outputs": [
    {
     "name": "stdout",
     "output_type": "stream",
     "text": [
      "[array([[1, 2],\n",
      "       [3, 4]]), array([[5, 6],\n",
      "       [7, 8]]), array([[ 9, 10],\n",
      "       [11, 12]])]\n"
     ]
    }
   ],
   "source": [
    "import numpy as np\n",
    "\n",
    "arr = np.array([[1, 2], [3, 4], [5, 6], [7, 8], [9, 10], [11, 12]])\n",
    "\n",
    "newarr = np.array_split(arr, 3)\n",
    "\n",
    "print(newarr)"
   ]
  },
  {
   "cell_type": "markdown",
   "metadata": {},
   "source": [
    "<section style=\"direction: rtl; text-align: justify; margin: 30px;\">\n",
    "\n",
    "مثال بالا سه آرایه دو بعدی را برمی گرداند. ☝🏽\n",
    "\n",
    "بیایید به مثال دیگری نگاه کنیم، این بار هر عنصر در آرایه های دو بعدی شامل 3 عنصر است.\n",
    "\n",
    "</section>"
   ]
  },
  {
   "cell_type": "code",
   "execution_count": 56,
   "metadata": {},
   "outputs": [
    {
     "name": "stdout",
     "output_type": "stream",
     "text": [
      "[array([[1, 2, 3],\n",
      "       [4, 5, 6]]), array([[ 7,  8,  9],\n",
      "       [10, 11, 12]]), array([[13, 14, 15],\n",
      "       [16, 17, 18]])]\n"
     ]
    }
   ],
   "source": [
    "import numpy as np\n",
    "\n",
    "arr = np.array([[1, 2, 3], [4, 5, 6], [7, 8, 9], [\n",
    "               10, 11, 12], [13, 14, 15], [16, 17, 18]])\n",
    "\n",
    "newarr = np.array_split(arr, 3)\n",
    "\n",
    "print(newarr)"
   ]
  },
  {
   "cell_type": "markdown",
   "metadata": {},
   "source": [
    "<section style=\"direction: rtl; text-align: justify; margin: 30px;\">\n",
    "\n",
    "مثال بالا ☝🏽 سه آرایه دو بعدی را برمی گرداند.\n",
    "\n",
    "علاوه بر این، می توانید مشخص کنید که می خواهید تقسیم را در اطراف کدام محور انجام دهید.\n",
    "\n",
    "مثال زیر نیز سه آرایه دو بعدی را برمی گرداند، اما آنها در امتداد ردیف تقسیم شده اند (محور=1).\n",
    "\n",
    "</section>"
   ]
  },
  {
   "cell_type": "code",
   "execution_count": 57,
   "metadata": {},
   "outputs": [
    {
     "name": "stdout",
     "output_type": "stream",
     "text": [
      "[array([[ 1],\n",
      "       [ 4],\n",
      "       [ 7],\n",
      "       [10],\n",
      "       [13],\n",
      "       [16]]), array([[ 2],\n",
      "       [ 5],\n",
      "       [ 8],\n",
      "       [11],\n",
      "       [14],\n",
      "       [17]]), array([[ 3],\n",
      "       [ 6],\n",
      "       [ 9],\n",
      "       [12],\n",
      "       [15],\n",
      "       [18]])]\n"
     ]
    }
   ],
   "source": [
    "import numpy as np\n",
    "\n",
    "arr = np.array([[1, 2, 3], [4, 5, 6], [7, 8, 9], [\n",
    "               10, 11, 12], [13, 14, 15], [16, 17, 18]])\n",
    "\n",
    "newarr = np.array_split(arr, 3, axis=1)\n",
    "\n",
    "print(newarr)"
   ]
  },
  {
   "cell_type": "markdown",
   "metadata": {},
   "source": [
    "<section style=\"direction: rtl; text-align: justify; margin: 30px;\">\n",
    "\n",
    "یک راه حل جایگزین استفاده از hsplit() بجای hstack() است.\n",
    "\n",
    "</section>"
   ]
  },
  {
   "cell_type": "code",
   "execution_count": 58,
   "metadata": {},
   "outputs": [
    {
     "name": "stdout",
     "output_type": "stream",
     "text": [
      "[array([[ 1],\n",
      "       [ 4],\n",
      "       [ 7],\n",
      "       [10],\n",
      "       [13],\n",
      "       [16]]), array([[ 2],\n",
      "       [ 5],\n",
      "       [ 8],\n",
      "       [11],\n",
      "       [14],\n",
      "       [17]]), array([[ 3],\n",
      "       [ 6],\n",
      "       [ 9],\n",
      "       [12],\n",
      "       [15],\n",
      "       [18]])]\n"
     ]
    }
   ],
   "source": [
    "import numpy as np\n",
    "\n",
    "arr = np.array([[1, 2, 3], [4, 5, 6], [7, 8, 9], [\n",
    "               10, 11, 12], [13, 14, 15], [16, 17, 18]])\n",
    "\n",
    "newarr = np.hsplit(arr, 3)\n",
    "\n",
    "print(newarr)"
   ]
  },
  {
   "cell_type": "markdown",
   "metadata": {},
   "source": [
    "<section style=\"direction: rtl; text-align: justify; margin: 30px;\">\n",
    "\n",
    "توجه: جایگزین های مشابه vstack() و dstack() به صورت vsplit() و dsplit() موجود است.\n",
    "\n",
    "</section>"
   ]
  },
  {
   "cell_type": "markdown",
   "metadata": {},
   "source": [
    "___\n",
    "\n",
    "NumPy Searching Arrays\n",
    "\n",
    "<section style=\"direction: rtl; text-align: justify; margin: 30px;\">\n",
    "\n",
    "## **جستجو در آرایه‌ها**\n",
    "\n",
    "شما می توانید یک آرایه را برای یک مقدار خاص جستجو کنید و شاخص هایی را که مطابقت دارند را برگردانید.\n",
    "\n",
    "برای جستجوی یک آرایه، از متد () Where استفاده کنید.\n",
    "\n",
    "</section>"
   ]
  },
  {
   "cell_type": "code",
   "execution_count": 1,
   "metadata": {},
   "outputs": [
    {
     "name": "stdout",
     "output_type": "stream",
     "text": [
      "(array([3, 5, 6], dtype=int64),)\n"
     ]
    }
   ],
   "source": [
    "import numpy as np\n",
    "\n",
    "arr = np.array([1, 2, 3, 4, 5, 4, 4])\n",
    "\n",
    "x = np.where(arr == 4)\n",
    "\n",
    "print(x)"
   ]
  },
  {
   "cell_type": "markdown",
   "metadata": {},
   "source": [
    "<section style=\"direction: rtl; text-align: justify; margin: 30px;\">\n",
    "\n",
    "مثال بالا ☝🏽 یک تاپل را برمی گرداند: array([3, 5, 6]). \n",
    "\n",
    "یعنی مقدار 4 در ایندکس 3، 5 و 6 وجود دارد.\n",
    "\n",
    "</section>"
   ]
  },
  {
   "cell_type": "code",
   "execution_count": 2,
   "metadata": {},
   "outputs": [
    {
     "name": "stdout",
     "output_type": "stream",
     "text": [
      "(array([1, 3, 5, 7], dtype=int64),)\n"
     ]
    }
   ],
   "source": [
    "import numpy as np\n",
    "\n",
    "arr = np.array([1, 2, 3, 4, 5, 6, 7, 8])\n",
    "\n",
    "x = np.where(arr % 2 == 0)\n",
    "\n",
    "print(x)"
   ]
  },
  {
   "cell_type": "code",
   "execution_count": 73,
   "metadata": {},
   "outputs": [
    {
     "name": "stdout",
     "output_type": "stream",
     "text": [
      "(array([0, 2, 4, 6]),)\n"
     ]
    }
   ],
   "source": [
    "import numpy as np\n",
    "\n",
    "arr = np.array([1, 2, 3, 4, 5, 6, 7, 8])\n",
    "\n",
    "x = np.where(arr % 2 == 1)\n",
    "\n",
    "print(x)"
   ]
  },
  {
   "cell_type": "markdown",
   "metadata": {},
   "source": [
    "<section style=\"direction: rtl; text-align: justify; margin: 30px;\">\n",
    "\n",
    "متدی به نام searchsorted() وجود دارد که جستجوی باینری را در آرایه انجام می‌دهد و ایندکسی را برمی‌گرداند که در آن مقدار مشخص شده برای حفظ ترتیب جستجو درج شود.\n",
    "\n",
    "متد searchsorted() فرض می شود که در آرایه های مرتب شده استفاده می شود.\n",
    "\n",
    "</section>"
   ]
  },
  {
   "cell_type": "code",
   "execution_count": 74,
   "metadata": {},
   "outputs": [
    {
     "name": "stdout",
     "output_type": "stream",
     "text": [
      "1\n"
     ]
    }
   ],
   "source": [
    "import numpy as np\n",
    "\n",
    "arr = np.array([6, 7, 8, 9])\n",
    "\n",
    "x = np.searchsorted(arr, 7)\n",
    "\n",
    "print(x)"
   ]
  },
  {
   "cell_type": "markdown",
   "metadata": {},
   "source": [
    "<section style=\"direction: rtl; text-align: justify; margin: 30px;\">\n",
    "\n",
    "مثال توضیح داده شده: عدد 7 باید در نمایه 1 درج شود تا به ترتیب مرتب سازی باقی بماند.\n",
    "\n",
    "این روش جستجو را از سمت چپ شروع می کند و اولین شاخص را برمی گرداند که در آن عدد 7 دیگر بزرگتر از مقدار بعدی نیست.\n",
    "\n",
    "به‌طور پیش‌فرض، نمایه‌ی سمت چپ بازگردانده می‌شود، اما می‌توانیم به side='right' بدهیم تا به جای آن، بیشترین شاخص سمت راست را برگرداند.\n",
    "\n",
    "</section>"
   ]
  },
  {
   "cell_type": "code",
   "execution_count": 4,
   "metadata": {},
   "outputs": [
    {
     "name": "stdout",
     "output_type": "stream",
     "text": [
      "2\n"
     ]
    }
   ],
   "source": [
    "import numpy as np\n",
    "\n",
    "arr = np.array([6, 7, 8, 9])\n",
    "\n",
    "x = np.searchsorted(arr, 7, side=\"right\")\n",
    "\n",
    "print(x)"
   ]
  },
  {
   "cell_type": "markdown",
   "metadata": {},
   "source": [
    "<section style=\"direction: rtl; text-align: justify; margin: 30px;\">\n",
    "\n",
    "مثال توضیح داده شده ☝🏽: عدد 7 باید در نمایه 2 درج شود تا ترتیب مرتب سازی باقی بماند.\n",
    "\n",
    "این روش جستجو را از سمت راست شروع می کند و اولین شاخص را برمی گرداند که در آن عدد 7 دیگر کمتر از مقدار بعدی نباشد.\n",
    "\n",
    "برای جستجوی بیش از یک مقدار، از یک آرایه با مقادیر مشخص شده استفاده کنید.\n",
    "\n",
    "</section>"
   ]
  },
  {
   "cell_type": "code",
   "execution_count": 76,
   "metadata": {},
   "outputs": [
    {
     "name": "stdout",
     "output_type": "stream",
     "text": [
      "[1 2 3]\n"
     ]
    }
   ],
   "source": [
    "import numpy as np\n",
    "\n",
    "arr = np.array([1, 3, 5, 7])\n",
    "\n",
    "x = np.searchsorted(arr, [2, 4, 6])\n",
    "\n",
    "print(x)"
   ]
  },
  {
   "cell_type": "markdown",
   "metadata": {},
   "source": [
    "<section style=\"direction: rtl; text-align: justify; margin: 30px;\">\n",
    "\n",
    "مقدار بازگشتی یک آرایه است: [1 2 3] که شامل سه شاخص است که 2، 4، 6 برای حفظ نظم در آرایه اصلی درج می شود.\n",
    "\n",
    "</section>"
   ]
  },
  {
   "cell_type": "markdown",
   "metadata": {},
   "source": [
    "___\n",
    "\n",
    "NumPy Sorting Arrays\n",
    "\n",
    "<section style=\"direction: rtl; text-align: justify; margin: 30px;\">\n",
    "\n",
    "## **مرتب سازی آرایه‌ها**\n",
    "\n",
    "مرتب سازی به معنای قرار دادن عناصر در یک توالی منظم است.\n",
    "\n",
    "دنباله مرتب شده به هر دنباله ای گفته می شود که دارای ترتیبی مطابق با عناصر باشد، مانند عددی یا الفبایی، صعودی یا نزولی.\n",
    "\n",
    "شی NumPy ndarray تابعی به نام sort() دارد که یک آرایه مشخص را مرتب می کند.\n",
    "\n",
    "</section>"
   ]
  },
  {
   "cell_type": "code",
   "execution_count": 79,
   "metadata": {},
   "outputs": [
    {
     "name": "stdout",
     "output_type": "stream",
     "text": [
      "[0 1 2 3]\n"
     ]
    }
   ],
   "source": [
    "import numpy as np\n",
    "\n",
    "arr = np.array([3, 2, 0, 1])\n",
    "\n",
    "print(np.sort(arr))"
   ]
  },
  {
   "cell_type": "markdown",
   "metadata": {},
   "source": [
    "<section style=\"direction: rtl; text-align: justify; margin: 30px;\">\n",
    "\n",
    "⚠️ توجه: این روش یک کپی از آرایه را برمی گرداند و آرایه اصلی را بدون تغییر باقی می گذارد.\n",
    "\n",
    "همچنین می‌توانید آرایه‌های رشته‌ها یا هر نوع داده دیگری را مرتب کنید:\n",
    "\n",
    "</section>"
   ]
  },
  {
   "cell_type": "code",
   "execution_count": 80,
   "metadata": {},
   "outputs": [
    {
     "name": "stdout",
     "output_type": "stream",
     "text": [
      "['apple' 'banana' 'cherry']\n"
     ]
    }
   ],
   "source": [
    "import numpy as np\n",
    "\n",
    "arr = np.array(['banana', 'cherry', 'apple'])\n",
    "\n",
    "print(np.sort(arr))"
   ]
  },
  {
   "cell_type": "code",
   "execution_count": 81,
   "metadata": {},
   "outputs": [
    {
     "name": "stdout",
     "output_type": "stream",
     "text": [
      "[False  True  True]\n"
     ]
    }
   ],
   "source": [
    "import numpy as np\n",
    "\n",
    "arr = np.array([True, False, True])\n",
    "\n",
    "print(np.sort(arr))"
   ]
  },
  {
   "cell_type": "markdown",
   "metadata": {},
   "source": [
    "<section style=\"direction: rtl; text-align: justify; margin: 30px;\">\n",
    "\n",
    "اگر از متد sort() در یک آرایه دو بعدی استفاده کنید، هر دو آرایه مرتب خواهند شد:\n",
    "\n",
    "</section>"
   ]
  },
  {
   "cell_type": "code",
   "execution_count": 82,
   "metadata": {},
   "outputs": [
    {
     "name": "stdout",
     "output_type": "stream",
     "text": [
      "[[2 3 4]\n",
      " [0 1 5]]\n"
     ]
    }
   ],
   "source": [
    "import numpy as np\n",
    "\n",
    "arr = np.array([[3, 2, 4], [5, 0, 1]])\n",
    "\n",
    "print(np.sort(arr))"
   ]
  },
  {
   "cell_type": "markdown",
   "metadata": {},
   "source": [
    "___\n",
    "\n",
    "NumPy Filter Array\n",
    "\n",
    "<section style=\"direction: rtl; text-align: justify; margin: 30px;\">\n",
    "\n",
    "## **فیلتر آرایه**\n",
    "\n",
    "به خارج کردن برخی از عناصر از یک آرایه موجود و ایجاد یک آرایه جدید از آنها، فیلتر کردن گفته می شود.\n",
    "\n",
    "در NumPy، شما یک آرایه را با استفاده از فهرست فهرست بولی فیلتر می کنید.\n",
    "\n",
    "⚠️ ایندکس مقدار بولین فهرستی از مقادیر بولین مربوط به ایندکس موجود در آرایه است.\n",
    "\n",
    "اگر مقدار یک شاخص True باشد، آن عنصر در آرایه فیلتر شده موجود است، اگر مقدار آن شاخص False باشد، آن عنصر از آرایه فیلتر شده حذف می شود.\n",
    "\n",
    "</section>"
   ]
  },
  {
   "cell_type": "code",
   "execution_count": 83,
   "metadata": {},
   "outputs": [
    {
     "name": "stdout",
     "output_type": "stream",
     "text": [
      "[41 43]\n"
     ]
    }
   ],
   "source": [
    "import numpy as np\n",
    "\n",
    "arr = np.array([41, 42, 43, 44])\n",
    "\n",
    "x = [True, False, True, False]\n",
    "\n",
    "newarr = arr[x]\n",
    "\n",
    "print(newarr)"
   ]
  },
  {
   "cell_type": "markdown",
   "metadata": {},
   "source": [
    "<section style=\"direction: rtl; text-align: justify; margin: 30px;\">\n",
    "\n",
    "مثال بالا ☝🏽 مقدار [41، 43] باز خواهد گشت ، چرا؟\n",
    "\n",
    "از آنجا که آرایه جدید فقط حاوی مقادیری است که آرایه فیلتر دارای مقدار True است، در این مورد، شاخص 0 و 2 است.\n",
    "\n",
    "در مثال بالا، مقادیر True و False را به صورت سخت کدگذاری کردیم، اما استفاده رایج ایجاد یک آرایه فیلتر بر اساس شرایط است.\n",
    "\n",
    "</section>"
   ]
  },
  {
   "cell_type": "code",
   "execution_count": 85,
   "metadata": {},
   "outputs": [
    {
     "name": "stdout",
     "output_type": "stream",
     "text": [
      "[False, False, True, True]\n",
      "[43 44]\n"
     ]
    }
   ],
   "source": [
    "import numpy as np\n",
    "\n",
    "arr = np.array([41, 42, 43, 44])\n",
    "\n",
    "# Create an empty list\n",
    "filter_arr = []\n",
    "\n",
    "# go through each element in arr\n",
    "for element in arr:\n",
    "    # if the element is higher than 42, set the value to True, otherwise False:\n",
    "    if element > 42:\n",
    "        filter_arr.append(True)\n",
    "    else:\n",
    "        filter_arr.append(False)\n",
    "\n",
    "newarr = arr[filter_arr]\n",
    "\n",
    "print(filter_arr)\n",
    "print(newarr)"
   ]
  },
  {
   "cell_type": "code",
   "execution_count": 86,
   "metadata": {},
   "outputs": [
    {
     "name": "stdout",
     "output_type": "stream",
     "text": [
      "[False, True, False, True, False, True, False]\n",
      "[2 4 6]\n"
     ]
    }
   ],
   "source": [
    "import numpy as np\n",
    "\n",
    "arr = np.array([1, 2, 3, 4, 5, 6, 7])\n",
    "\n",
    "# Create an empty list\n",
    "filter_arr = []\n",
    "\n",
    "# go through each element in arr\n",
    "for element in arr:\n",
    "    # if the element is completely divisble by 2, set the value to True, otherwise False\n",
    "    if element % 2 == 0:\n",
    "        filter_arr.append(True)\n",
    "    else:\n",
    "        filter_arr.append(False)\n",
    "\n",
    "newarr = arr[filter_arr]\n",
    "\n",
    "print(filter_arr)\n",
    "print(newarr)"
   ]
  },
  {
   "cell_type": "markdown",
   "metadata": {},
   "source": [
    "<section style=\"direction: rtl; text-align: justify; margin: 30px;\">\n",
    "\n",
    "مثال بالا ☝🏽 یک کار کاملاً رایج در NumPy است و NumPy راه خوبی برای مقابله با آن ارائه می دهد.\n",
    "\n",
    "ما می توانیم مستقیماً آرایه را به جای متغیر تکرارپذیر در شرایط خود جایگزین کنیم و درست همانطور که ما انتظار داریم کار خواهد کرد.\n",
    "\n",
    "</section>"
   ]
  },
  {
   "cell_type": "code",
   "execution_count": 87,
   "metadata": {},
   "outputs": [
    {
     "name": "stdout",
     "output_type": "stream",
     "text": [
      "[False False  True  True]\n",
      "[43 44]\n"
     ]
    }
   ],
   "source": [
    "import numpy as np\n",
    "\n",
    "arr = np.array([41, 42, 43, 44])\n",
    "\n",
    "filter_arr = arr > 42\n",
    "\n",
    "newarr = arr[filter_arr]\n",
    "\n",
    "print(filter_arr)\n",
    "print(newarr)"
   ]
  },
  {
   "cell_type": "code",
   "execution_count": 88,
   "metadata": {},
   "outputs": [
    {
     "name": "stdout",
     "output_type": "stream",
     "text": [
      "[False  True False  True False  True False]\n",
      "[2 4 6]\n"
     ]
    }
   ],
   "source": [
    "import numpy as np\n",
    "\n",
    "arr = np.array([1, 2, 3, 4, 5, 6, 7])\n",
    "\n",
    "filter_arr = arr % 2 == 0\n",
    "\n",
    "newarr = arr[filter_arr]\n",
    "\n",
    "print(filter_arr)\n",
    "print(newarr)"
   ]
  },
  {
   "cell_type": "markdown",
   "metadata": {},
   "source": [
    "___\n",
    "\n",
    "Random Numbers in NumPy\n",
    "\n",
    "<section style=\"direction: rtl; text-align: justify; margin: 30px;\">\n",
    "\n",
    "## **اعداد تصادفی در نامپای**\n",
    "\n",
    "عدد تصادفی هر بار به معنای یک عدد متفاوت نیست. تصادفی به معنای چیزی است که نمی توان آن را به طور منطقی پیش بینی کرد.\n",
    "\n",
    "رایانه ها روی برنامه ها کار می کنند و برنامه ها مجموعه ای قطعی از دستورالعمل ها هستند. بنابراین به این معنی است که باید الگوریتمی برای تولید یک عدد تصادفی نیز وجود داشته باشد.\n",
    "\n",
    "اگر برنامه ای برای تولید اعداد تصادفی وجود داشته باشد، می توان آن را پیش بینی کرد، بنابراین واقعاً تصادفی نیست.\n",
    "\n",
    "اعداد تصادفی تولید شده از طریق یک الگوریتم تولید، شبه تصادفی نامیده می شوند.\n",
    "\n",
    "آیا می توانیم اعداد واقعا تصادفی بسازیم؟\n",
    "\n",
    "آره. برای تولید یک عدد واقعا تصادفی در رایانه‌هایمان، باید داده‌های تصادفی را از منابع خارجی دریافت کنیم. این منبع بیرونی عموماً فشار دادن کلید، حرکات ماوس، داده های شبکه و غیره است.\n",
    "\n",
    "ما به اعداد واقعا تصادفی نیاز نداریم، مگر اینکه مربوط به امنیت باشد (مثلاً کلیدهای رمزگذاری) یا اساس کاربرد تصادفی بودن باشد (مثلاً چرخ های رولت دیجیتال).\n",
    "\n",
    "در این آموزش از اعداد شبه تصادفی استفاده خواهیم کرد.\n",
    "\n",
    "NumPy ماژول تصادفی را برای کار با اعداد تصادفی ارائه می دهد.\n",
    "\n",
    "</section>"
   ]
  },
  {
   "cell_type": "code",
   "execution_count": 8,
   "metadata": {},
   "outputs": [
    {
     "name": "stdout",
     "output_type": "stream",
     "text": [
      "48\n"
     ]
    }
   ],
   "source": [
    "from numpy import random\n",
    "\n",
    "x = random.randint(100)\n",
    "\n",
    "print(x)"
   ]
  },
  {
   "cell_type": "markdown",
   "metadata": {},
   "source": [
    "<section style=\"direction: rtl; text-align: justify; margin: 30px;\">\n",
    "\n",
    "متد rand() یک float تصادفی بین 0 و 1 برمی گرداند.\n",
    "\n",
    "\n",
    "</section>"
   ]
  },
  {
   "cell_type": "code",
   "execution_count": 11,
   "metadata": {},
   "outputs": [
    {
     "name": "stdout",
     "output_type": "stream",
     "text": [
      "0.3279474296474023\n"
     ]
    }
   ],
   "source": [
    "from numpy import random\n",
    "\n",
    "x = random.rand()\n",
    "\n",
    "print(x)"
   ]
  },
  {
   "cell_type": "markdown",
   "metadata": {},
   "source": [
    "<section style=\"direction: rtl; text-align: justify; margin: 30px;\">\n",
    "\n",
    "در NumPy ما با آرایه ها کار می کنیم و شما می توانید از دو روش مثال های بالا برای ساخت آرایه های تصادفی استفاده کنید.\n",
    "\n",
    "متد randint() یک پارامتر اندازه می گیرد که در آن می توانید شکل یک آرایه را مشخص کنید.\n",
    "\n",
    "</section>"
   ]
  },
  {
   "cell_type": "code",
   "execution_count": 109,
   "metadata": {},
   "outputs": [
    {
     "name": "stdout",
     "output_type": "stream",
     "text": [
      "[96 99 22 78  8]\n"
     ]
    }
   ],
   "source": [
    "from numpy import random\n",
    "\n",
    "x = random.randint(100, size=(5))\n",
    "\n",
    "print(x)"
   ]
  },
  {
   "cell_type": "code",
   "execution_count": 110,
   "metadata": {},
   "outputs": [
    {
     "name": "stdout",
     "output_type": "stream",
     "text": [
      "[[31 12 79 31 78]\n",
      " [88 60 78 34 61]\n",
      " [70 68 62 52  6]]\n"
     ]
    }
   ],
   "source": [
    "from numpy import random\n",
    "\n",
    "x = random.randint(100, size=(3, 5))\n",
    "\n",
    "print(x)"
   ]
  },
  {
   "cell_type": "markdown",
   "metadata": {},
   "source": [
    "<section style=\"direction: rtl; text-align: justify; margin: 30px;\">\n",
    "\n",
    "متد rand() همچنین به شما امکان می دهد شکل آرایه را مشخص کنید.\n",
    "\n",
    "</section>"
   ]
  },
  {
   "cell_type": "code",
   "execution_count": 120,
   "metadata": {},
   "outputs": [
    {
     "name": "stdout",
     "output_type": "stream",
     "text": [
      "[0.3643309  0.85650025 0.38104956 0.21428859 0.02939174]\n"
     ]
    }
   ],
   "source": [
    "from numpy import random\n",
    "\n",
    "x = random.rand(5)\n",
    "\n",
    "print(x)"
   ]
  },
  {
   "cell_type": "code",
   "execution_count": 121,
   "metadata": {},
   "outputs": [
    {
     "name": "stdout",
     "output_type": "stream",
     "text": [
      "[[0.46135378 0.72868972 0.23735283 0.87805598 0.44535809]\n",
      " [0.48256889 0.94211328 0.03434818 0.02408865 0.22299934]\n",
      " [0.09198656 0.4010184  0.4628636  0.48731033 0.99082861]]\n"
     ]
    }
   ],
   "source": [
    "from numpy import random\n",
    "\n",
    "x = random.rand(3, 5)\n",
    "\n",
    "print(x)"
   ]
  },
  {
   "cell_type": "markdown",
   "metadata": {},
   "source": [
    "<section style=\"direction: rtl; text-align: justify; margin: 30px;\">\n",
    "\n",
    "متد choice() به شما امکان می دهد یک مقدار تصادفی بر اساس آرایه ای از مقادیر تولید کنید.\n",
    "\n",
    "متد option() یک آرایه را به عنوان پارامتر می گیرد و به صورت تصادفی یکی از مقادیر را برمی گرداند.\n",
    "\n",
    "</section>"
   ]
  },
  {
   "cell_type": "code",
   "execution_count": 129,
   "metadata": {},
   "outputs": [
    {
     "name": "stdout",
     "output_type": "stream",
     "text": [
      "3\n"
     ]
    }
   ],
   "source": [
    "from numpy import random\n",
    "\n",
    "x = random.choice([3, 5, 7, 9])\n",
    "\n",
    "print(x)"
   ]
  },
  {
   "cell_type": "markdown",
   "metadata": {},
   "source": [
    "<section style=\"direction: rtl; text-align: justify; margin: 30px;\">\n",
    "\n",
    "متد () Choice به شما اجازه می دهد تا یک آرایه از مقادیر را برگردانید.\n",
    "\n",
    "برای تعیین شکل آرایه یک پارامتر size اضافه کنید.\n",
    "\n",
    "</section>"
   ]
  },
  {
   "cell_type": "code",
   "execution_count": 130,
   "metadata": {},
   "outputs": [
    {
     "name": "stdout",
     "output_type": "stream",
     "text": [
      "[[7 7 7 5 3]\n",
      " [9 7 9 3 7]\n",
      " [9 3 3 9 3]]\n"
     ]
    }
   ],
   "source": [
    "from numpy import random\n",
    "\n",
    "x = random.choice([3, 5, 7, 9], size=(3, 5))\n",
    "\n",
    "print(x)"
   ]
  },
  {
   "cell_type": "markdown",
   "metadata": {},
   "source": [
    "___\n",
    "\n",
    "Random Data Distribution\n",
    "\n",
    "<section style=\"direction: rtl; text-align: justify; margin: 30px;\">\n",
    "\n",
    "## **توزیع تصادفی داده‌ها**\n",
    "\n",
    "توزیع داده فهرستی از تمام مقادیر ممکن است و هر چند وقت یکبار هر مقدار رخ می دهد.\n",
    "\n",
    "چنین لیست هایی هنگام کار با آمار و علم داده مهم هستند.\n",
    "\n",
    "ماژول تصادفی روش هایی را ارائه می دهد که توزیع داده های تولید شده به صورت تصادفی را برمی گرداند.\n",
    "\n",
    "توزیع تصادفی مجموعه ای از اعداد تصادفی است که تابع چگالی احتمال مشخصی را دنبال می کنند.\n",
    "\n",
    "⚠️ تابع چگالی احتمال: تابعی است که یک احتمال پیوسته را توصیف می کند. یعنی احتمال همه مقادیر در یک آرایه.\n",
    "\n",
    "ما می توانیم اعداد تصادفی را بر اساس احتمالات تعریف شده با استفاده از متد ()گزینه ماژول تصادفی تولید کنیم.\n",
    "\n",
    "متد choice() به ما امکان می دهد برای هر مقدار احتمال را مشخص کنیم.\n",
    "\n",
    "احتمال با عددی بین 0 و 1 تنظیم می شود که 0 به این معنی است که مقدار هرگز رخ نخواهد داد و 1 به این معنی است که مقدار همیشه رخ خواهد داد.\n",
    "\n",
    "</section>"
   ]
  },
  {
   "cell_type": "code",
   "execution_count": 17,
   "metadata": {},
   "outputs": [
    {
     "name": "stdout",
     "output_type": "stream",
     "text": [
      "[7 5 7 7 7 7 5 5 5 5 7 7 5 7 7 3 7 7 3 7 7 7 7 7 5 3 3 7 3 5 5 3 7 5 7 5 7\n",
      " 7 7 7 3 3 7 7 7 7 5 7 5 7 7 7 7 5 7 7 5 3 7 5 5 5 7 7 7 7 7 7 3 7 5 5 7 7\n",
      " 5 7 7 5 3 5 7 5 7 7 7 5 7 5 7 7 5 5 5 3 7 3 5 7 7 7]\n"
     ]
    }
   ],
   "source": [
    "# Generate a 1-D array containing 100 values, where each value has to be 3, 5, 7 or 9.\n",
    "\n",
    "# The probability for the value to be 3 is set to be 0.1\n",
    "\n",
    "# The probability for the value to be 5 is set to be 0.3\n",
    "\n",
    "# The probability for the value to be 7 is set to be 0.6\n",
    "\n",
    "# The probability for the value to be 9 is set to be 0\n",
    "\n",
    "from numpy import random\n",
    "\n",
    "\n",
    "x = random.choice([3, 5, 7, 9], p=[0.1, 0.3, 0.6, 0.0], size=(100))\n",
    "\n",
    "\n",
    "print(x)"
   ]
  },
  {
   "cell_type": "markdown",
   "metadata": {},
   "source": [
    "<section style=\"direction: rtl; text-align: justify; margin: 30px;\">\n",
    "\n",
    "⚠️ مجموع همه اعداد احتمال باید 1 باشد.\n",
    "\n",
    "حتی اگر مثال بالا را 100 بار اجرا کنید، مقدار 9 هرگز رخ نخواهد داد.\n",
    "\n",
    "با تعیین شکل در پارامتر اندازه می توانید آرایه هایی با هر شکل و اندازه ای را برگردانید.\n",
    "\n",
    "</section>"
   ]
  },
  {
   "cell_type": "code",
   "execution_count": 18,
   "metadata": {},
   "outputs": [
    {
     "name": "stdout",
     "output_type": "stream",
     "text": [
      "[[7 5 7 7 5]\n",
      " [7 5 5 7 7]\n",
      " [7 5 7 5 7]]\n"
     ]
    }
   ],
   "source": [
    "from numpy import random\n",
    "\n",
    "x = random.choice([3, 5, 7, 9], p=[0.1, 0.3, 0.6, 0.0], size=(3, 5))\n",
    "\n",
    "print(x)"
   ]
  },
  {
   "cell_type": "markdown",
   "metadata": {},
   "source": [
    "### My Example:"
   ]
  },
  {
   "cell_type": "code",
   "execution_count": 52,
   "metadata": {},
   "outputs": [
    {
     "name": "stdout",
     "output_type": "stream",
     "text": [
      "23\n"
     ]
    }
   ],
   "source": [
    "# تولید عدد تصادفی صحیح بین دو مقدار\n",
    "\n",
    "from numpy import random\n",
    "\n",
    "data = random.randint(20, 30)\n",
    "\n",
    "print(data)"
   ]
  },
  {
   "cell_type": "code",
   "execution_count": 54,
   "metadata": {},
   "outputs": [
    {
     "name": "stdout",
     "output_type": "stream",
     "text": [
      "[26 20 24 23 24]\n"
     ]
    }
   ],
   "source": [
    "# تولید چند عدد تصادفی صحیح بین دو مقدار\n",
    "\n",
    "from numpy import random\n",
    "\n",
    "data = random.randint(20, 30, 5)\n",
    "\n",
    "print(data)"
   ]
  },
  {
   "cell_type": "code",
   "execution_count": 56,
   "metadata": {},
   "outputs": [
    {
     "name": "stdout",
     "output_type": "stream",
     "text": [
      "[0.10001897 0.72566482 0.06583197 0.26864721 0.52673664]\n"
     ]
    }
   ],
   "source": [
    "# تولید یک آرایه از اعداد تصادفی در بازه 0 و ۱\n",
    "\n",
    "from numpy import random\n",
    "\n",
    "data = random.rand(5)\n",
    "\n",
    "print(data)"
   ]
  },
  {
   "cell_type": "code",
   "execution_count": 61,
   "metadata": {},
   "outputs": [
    {
     "name": "stdout",
     "output_type": "stream",
     "text": [
      "[-0.58613944 -0.38749542  0.22431316  0.52109158  0.11172633 -0.77513826\n",
      "  0.33766298 -1.06542363  0.91096154  2.20826449  0.6831322  -0.28188397\n",
      "  0.16463497 -1.30685619 -0.01281572  1.76836419 -0.03403795 -1.93834932\n",
      "  1.03979561  0.50357338]\n"
     ]
    }
   ],
   "source": [
    "# تولید آرایه اعداد تصادفی با توزیع نرمال\n",
    "\n",
    "from numpy import random\n",
    "\n",
    "mean = 0\n",
    "std_dev = 1\n",
    "size = 20  # sample count\n",
    "data = random.normal(mean, std_dev, size)\n",
    "\n",
    "print(data)"
   ]
  },
  {
   "cell_type": "code",
   "execution_count": 62,
   "metadata": {},
   "outputs": [
    {
     "name": "stdout",
     "output_type": "stream",
     "text": [
      "[0.03741538 0.7768383  0.52217025 0.22217541 0.51266431 0.57755493\n",
      " 0.36148375 0.36516953 0.64661301 0.5985943  0.61382141 0.78323985\n",
      " 0.93456394 0.4342704  0.53964319 0.68793768 0.56483828 0.0471022\n",
      " 0.40408939 0.70233144]\n"
     ]
    }
   ],
   "source": [
    "# توزیع یکنواخت\n",
    "\n",
    "from numpy import random\n",
    "\n",
    "low = 0\n",
    "high = 1\n",
    "size = 20  # sample count\n",
    "\n",
    "data = random.uniform(low, high, size)\n",
    "\n",
    "print(data)"
   ]
  },
  {
   "cell_type": "code",
   "execution_count": 64,
   "metadata": {},
   "outputs": [
    {
     "name": "stdout",
     "output_type": "stream",
     "text": [
      "[0.75337227 0.97763544 3.68609851 0.9713819  0.5247546  2.44018717\n",
      " 1.4143263  4.30419688 0.1290664  1.07353287 4.62087498 4.26414926\n",
      " 3.68114956 0.83652891 0.87562067 0.14830788 0.78994449 0.46451167\n",
      " 6.69830331 0.69326341]\n"
     ]
    }
   ],
   "source": [
    "# توزیع تصادفی نمایی\n",
    "\n",
    "from numpy import random\n",
    "\n",
    "beta = 2\n",
    "size = 20  # sample count\n",
    "data = random.exponential(beta, size)\n",
    "\n",
    "print(data)"
   ]
  },
  {
   "cell_type": "code",
   "execution_count": 66,
   "metadata": {},
   "outputs": [
    {
     "name": "stdout",
     "output_type": "stream",
     "text": [
      "[2.66824267 2.94748461 1.61221376 2.23122929 0.95026873 1.25291849\n",
      " 0.65342959 2.29308476 4.32632648 0.97253327 1.38600609 1.67923468\n",
      " 0.80809104 0.62510326 0.71462607 0.67360811 0.6919369  0.29879515\n",
      " 1.72304385 1.04830107]\n"
     ]
    }
   ],
   "source": [
    "# توزیع تصادفی گاما\n",
    "\n",
    "from numpy import random\n",
    "\n",
    "shape = 2\n",
    "scale = 1\n",
    "size = 20  # sample count\n",
    "data = random.gamma(shape, scale, size)\n",
    "\n",
    "print(data)"
   ]
  },
  {
   "cell_type": "markdown",
   "metadata": {},
   "source": [
    "___\n",
    "\n",
    "Random Permutations\n",
    "\n",
    "<section style=\"direction: rtl; text-align: justify; margin: 30px;\">\n",
    "\n",
    "## **جایگشت‌های تصادفی**\n",
    "\n",
    "جایگشت به ترتیبی از عناصر اشاره دارد. به عنوان مثال، [3، 2، 1] جایگشت [1، 2، 3] و بالعکس است.\n",
    "\n",
    "ماژول تصادفی NumPy دو روش برای این کار ارائه می دهد: shuffle() و permutation().\n",
    "\n",
    "Shuffle به معنای تغییر آرایش عناصر در محل است. یعنی در خود آرایه.\n",
    "\n",
    "</section>"
   ]
  },
  {
   "cell_type": "code",
   "execution_count": 82,
   "metadata": {},
   "outputs": [
    {
     "name": "stdout",
     "output_type": "stream",
     "text": [
      "[2 3 4 5 1]\n"
     ]
    }
   ],
   "source": [
    "from numpy import random\n",
    "import numpy as np\n",
    "\n",
    "arr = np.array([1, 2, 3, 4, 5])\n",
    "\n",
    "random.shuffle(arr)\n",
    "\n",
    "print(arr)"
   ]
  },
  {
   "cell_type": "markdown",
   "metadata": {},
   "source": [
    "<section style=\"direction: rtl; text-align: justify; margin: 30px;\">\n",
    "\n",
    "⚠️ متد shuffle() تغییراتی را در آرایه اصلی ایجاد می کند.\n",
    "\n",
    "</section>"
   ]
  },
  {
   "cell_type": "code",
   "execution_count": 80,
   "metadata": {},
   "outputs": [
    {
     "name": "stdout",
     "output_type": "stream",
     "text": [
      "[1 2 4 3 5]\n"
     ]
    }
   ],
   "source": [
    "from numpy import random\n",
    "import numpy as np\n",
    "\n",
    "arr = np.array([1, 2, 3, 4, 5])\n",
    "\n",
    "print(random.permutation(arr))"
   ]
  },
  {
   "cell_type": "markdown",
   "metadata": {},
   "source": [
    "<section style=\"direction: rtl; text-align: justify; margin: 30px;\">\n",
    "\n",
    "⚠️ متد permutation() یک آرایه مرتب شده را برمی گرداند (و آرایه اصلی را بدون تغییر رها می کند).\n",
    "\n",
    "</section>"
   ]
  },
  {
   "cell_type": "markdown",
   "metadata": {},
   "source": [
    "### My Example"
   ]
  },
  {
   "cell_type": "code",
   "execution_count": 94,
   "metadata": {},
   "outputs": [
    {
     "name": "stdout",
     "output_type": "stream",
     "text": [
      "['cards2' 'cards5' 'cards3' 'cards4' 'cards 1']\n"
     ]
    }
   ],
   "source": [
    "import numpy as np\n",
    "\n",
    "# لیست کارت‌های بازی\n",
    "cards = ['cards 1', 'cards2', 'cards3', 'cards4', 'cards5']\n",
    "\n",
    "# جایگشت تصادفی کارت‌ها\n",
    "shuffled_cards = np.random.permutation(cards)\n",
    "\n",
    "print(shuffled_cards)"
   ]
  },
  {
   "cell_type": "markdown",
   "metadata": {},
   "source": [
    "___\n",
    "\n",
    "Seaborn\n",
    "\n",
    "<section style=\"direction: rtl; text-align: justify; margin: 30px;\">\n",
    "\n",
    "## **تجسم داده‌ها با کتابخانه Seaborn**\n",
    "\n",
    "Seaborn کتابخانه ای است که از Matplotlib در زیر آن برای رسم نمودارها استفاده می کند. برای تجسم توزیع های تصادفی استفاده خواهد شد.\n",
    "\n",
    "</section>"
   ]
  },
  {
   "cell_type": "markdown",
   "metadata": {},
   "source": [
    "<section style=\"direction: rtl; text-align: justify; margin: 30px;\">\n",
    "\n",
    "اگر پایتون و PIP را قبلاً روی سیستم خود نصب کرده اید، کتابخانه Seaborn را با استفاده از این دستور نصب کنید:\n",
    "\n",
    "</section>\n",
    "\n",
    "> C:\\Users\\Your Name>pip install seaborn\n",
    "\n",
    "<section style=\"direction: rtl; text-align: justify; margin: 30px;\">\n",
    "\n",
    "تابع histplot در کتابخانه Seaborn، یک ابزار بسیار قدرتمند برای رسم نمودارهای توزیع فراوانی (Histogram) می‌باشد. این تابع به صورت خلاصه به شما این امکان را می‌دهد که توزیع یک متغیر عددی را در داده‌های خود بررسی و نمایش دهید.\n",
    "\n",
    "شی pyplot ماژول Matplotlib را با استفاده از عبارت زیر در کد خود وارد کنید.\n",
    "سپس ماژول Seaborn را با استفاده از عبارت زیر در کد خود وارد کنید:\n",
    "\n",
    "</section>"
   ]
  },
  {
   "cell_type": "code",
   "execution_count": 10,
   "metadata": {},
   "outputs": [
    {
     "data": {
      "image/png": "[encoded data removed]",
      "text/plain": [
       "<Figure size 640x480 with 1 Axes>"
      ]
     },
     "metadata": {},
     "output_type": "display_data"
    }
   ],
   "source": [
    "import matplotlib.pyplot as plt\n",
    "import seaborn as sns\n",
    "\n",
    "sns.histplot([0, 1, 2, 3, 4, 5], kde=True)\n",
    "\n",
    "plt.show()"
   ]
  },
  {
   "cell_type": "markdown",
   "metadata": {},
   "source": [
    "___\n",
    "\n",
    "Normal (Gaussian) Distribution\n",
    "\n",
    "<section style=\"direction: rtl; text-align: justify; margin: 30px;\">\n",
    "\n",
    "## **توزیع نرمال**\n",
    "\n",
    "توزیع نرمال یکی از مهم ترین توزیع ها است.\n",
    "\n",
    "به نام کارل فردریش گاوس، ریاضیدان آلمانی، توزیع گاوسی نیز نامیده می شود.\n",
    "\n",
    "با توزیع احتمال بسیاری از رویدادها مطابقت دارد، به عنوان مثال. نمرات IQ، ضربان قلب و غیره\n",
    "\n",
    "از متد random.normal() برای بدست آوردن توزیع عادی داده استفاده کنید.\n",
    "\n",
    "دارای سه پارامتر است:\n",
    "\n",
    "- loc - (میانگین) جایی که اوج ناقوس وجود دارد.\n",
    "\n",
    "- scale - (انحراف استاندارد) توزیع نمودار چقدر باید مسطح باشد.\n",
    "\n",
    "- size - شکل آرایه برگشتی.\n",
    "\n",
    "</section>"
   ]
  },
  {
   "cell_type": "code",
   "execution_count": 5,
   "metadata": {},
   "outputs": [
    {
     "name": "stdout",
     "output_type": "stream",
     "text": [
      "[[ 0.75607792 -0.78854786 -0.60025643]\n",
      " [-1.44253274  0.77490985  0.09140788]]\n"
     ]
    }
   ],
   "source": [
    "from numpy import random\n",
    "\n",
    "x = random.normal(size=(2, 3))\n",
    "\n",
    "print(x)"
   ]
  },
  {
   "cell_type": "code",
   "execution_count": 6,
   "metadata": {},
   "outputs": [
    {
     "name": "stdout",
     "output_type": "stream",
     "text": [
      "[[ 1.69202391  3.73281262 -0.89085055]\n",
      " [-1.98640305  0.72362911  3.86563981]]\n"
     ]
    }
   ],
   "source": [
    "from numpy import random\n",
    "\n",
    "x = random.normal(loc=1, scale=2, size=(2, 3))\n",
    "\n",
    "print(x)"
   ]
  },
  {
   "cell_type": "markdown",
   "metadata": {},
   "source": [
    "<section style=\"direction: rtl; text-align: justify; margin: 30px;\">\n",
    "\n",
    "### تجسم توزیع نرمال\n",
    "\n",
    "</section>"
   ]
  },
  {
   "cell_type": "code",
   "execution_count": 16,
   "metadata": {},
   "outputs": [
    {
     "data": {
      "image/png": "[encoded data removed]",
      "text/plain": [
       "<Figure size 640x480 with 1 Axes>"
      ]
     },
     "metadata": {},
     "output_type": "display_data"
    }
   ],
   "source": [
    "from numpy import random\n",
    "import matplotlib.pyplot as plt\n",
    "import seaborn as sns\n",
    "\n",
    "sns.kdeplot(random.normal(size=1000))\n",
    "\n",
    "plt.show()"
   ]
  },
  {
   "cell_type": "markdown",
   "metadata": {},
   "source": [
    "<section style=\"direction: rtl; text-align: justify; margin: 30px;\">\n",
    "\n",
    "⚠️ توجه: منحنی توزیع نرمال به دلیل منحنی زنگوله ای شکل به منحنی زنگ نیز معروف است.\n",
    "\n",
    "</section>"
   ]
  },
  {
   "cell_type": "markdown",
   "metadata": {},
   "source": [
    "___\n",
    "\n",
    "Binomial Distribution\n",
    "\n",
    "<section style=\"direction: rtl; text-align: justify; margin: 30px;\">\n",
    "\n",
    "## **دو جمله‌ای**\n",
    "\n",
    "توزیع دو جمله ای یک توزیع گسسته است\n",
    "که نتیجه سناریوهای باینری را توصیف می کند، به عنوان مثال. پرتاب یک سکه، یا شیر خواهد بود یا خط.\n",
    "\n",
    "دارای سه پارامتر است:\n",
    "\n",
    "- n - تعداد آزمایشات.\n",
    "\n",
    "- p - احتمال وقوع هر آزمایش (مثلاً برای پرتاب یک سکه 0.5 هر کدام).\n",
    "\n",
    "- size - شکل آرایه برگشتی.\n",
    "\n",
    "⚠️ توزیع گسسته: توزیع در مجموعه جداگانه ای از رویدادها تعریف می شود، به عنوان مثال. نتیجه پرتاب سکه گسسته است زیرا می تواند فقط شیر یا خط باشد در حالی که قدِ افراد، پیوسته است زیرا می تواند 170، 170.1، 170.11 و غیره باشد.\n",
    "\n",
    "</section>"
   ]
  },
  {
   "cell_type": "code",
   "execution_count": 2,
   "metadata": {},
   "outputs": [
    {
     "name": "stdout",
     "output_type": "stream",
     "text": [
      "[6 2 4 5 7 4 6 2 5 9]\n"
     ]
    }
   ],
   "source": [
    "from numpy import random\n",
    "\n",
    "x = random.binomial(n=10, p=0.5, size=10)\n",
    "\n",
    "print(x)"
   ]
  },
  {
   "cell_type": "markdown",
   "metadata": {},
   "source": [
    "<section style=\"direction: rtl; text-align: justify; margin: 30px;\">\n",
    "\n",
    "### تجسم توزیع دوجمله‌ای (Binomial)\n",
    "\n",
    "</section>"
   ]
  },
  {
   "cell_type": "code",
   "execution_count": 2,
   "metadata": {},
   "outputs": [
    {
     "name": "stderr",
     "output_type": "stream",
     "text": [
      "/home/saleh/.local/lib/python3.10/site-packages/seaborn/_oldcore.py:1498: FutureWarning: is_categorical_dtype is deprecated and will be removed in a future version. Use isinstance(dtype, CategoricalDtype) instead\n",
      "  if pd.api.types.is_categorical_dtype(vector):\n",
      "/home/saleh/.local/lib/python3.10/site-packages/seaborn/_oldcore.py:1119: FutureWarning: use_inf_as_na option is deprecated and will be removed in a future version. Convert inf values to NaN before operating instead.\n",
      "  with pd.option_context('mode.use_inf_as_na', True):\n"
     ]
    },
    {
     "data": {
      "image/png": "[encoded data removed]",
      "text/plain": [
       "<Figure size 640x480 with 1 Axes>"
      ]
     },
     "metadata": {},
     "output_type": "display_data"
    }
   ],
   "source": [
    "from numpy import random\n",
    "import matplotlib.pyplot as plt\n",
    "import seaborn as sns\n",
    "\n",
    "sns.histplot(random.binomial(n=10, p=0.5, size=1000), kde=False)\n",
    "\n",
    "plt.show()"
   ]
  },
  {
   "cell_type": "markdown",
   "metadata": {},
   "source": [
    "<section style=\"direction: rtl; text-align: justify; margin: 30px;\">\n",
    "\n",
    "### تفاوت بین توزیع نرمال و دو جمله ای\n",
    "\n",
    "تفاوت اصلی این است که توزیع نرمال پیوسته است در حالی که دوجمله ای گسسته است، اما اگر نقاط داده کافی وجود داشته باشد کاملاً شبیه توزیع نرمال با مکان و مقیاس معین خواهد بود.\n",
    "\n",
    "</section>"
   ]
  },
  {
   "cell_type": "code",
   "execution_count": 17,
   "metadata": {},
   "outputs": [
    {
     "name": "stderr",
     "output_type": "stream",
     "text": [
      "/home/saleh/.local/lib/python3.10/site-packages/seaborn/_oldcore.py:1498: FutureWarning: is_categorical_dtype is deprecated and will be removed in a future version. Use isinstance(dtype, CategoricalDtype) instead\n",
      "  if pd.api.types.is_categorical_dtype(vector):\n",
      "/home/saleh/.local/lib/python3.10/site-packages/seaborn/_oldcore.py:1119: FutureWarning: use_inf_as_na option is deprecated and will be removed in a future version. Convert inf values to NaN before operating instead.\n",
      "  with pd.option_context('mode.use_inf_as_na', True):\n",
      "/home/saleh/.local/lib/python3.10/site-packages/seaborn/_oldcore.py:1498: FutureWarning: is_categorical_dtype is deprecated and will be removed in a future version. Use isinstance(dtype, CategoricalDtype) instead\n",
      "  if pd.api.types.is_categorical_dtype(vector):\n",
      "/home/saleh/.local/lib/python3.10/site-packages/seaborn/_oldcore.py:1119: FutureWarning: use_inf_as_na option is deprecated and will be removed in a future version. Convert inf values to NaN before operating instead.\n",
      "  with pd.option_context('mode.use_inf_as_na', True):\n"
     ]
    },
    {
     "data": {
      "image/png": "[encoded data removed]",
      "text/plain": [
       "<Figure size 640x480 with 1 Axes>"
      ]
     },
     "metadata": {},
     "output_type": "display_data"
    }
   ],
   "source": [
    "from numpy import random\n",
    "import matplotlib.pyplot as plt\n",
    "import seaborn as sns\n",
    "\n",
    "sns.kdeplot(random.normal(loc=50, scale=5, size=1000),\n",
    "            label='normal')\n",
    "sns.kdeplot(random.binomial(n=100, p=0.5, size=1000),\n",
    "            label='binomial')\n",
    "\n",
    "plt.show()"
   ]
  },
  {
   "cell_type": "markdown",
   "metadata": {},
   "source": [
    "___\n",
    "\n",
    "Poisson Distribution\n",
    "\n",
    "<section style=\"direction: rtl; text-align: justify; margin: 30px;\">\n",
    "\n",
    "## **توزیع پوآسون**\n",
    "\n",
    "🧠 توزیع پوآسون (Poisson Distribution) یک توزیع احتمالاتی است که در آمار و احتمالات استفاده می‌شود و به تعداد رویدادهایی که در یک بازه زمانی یا یک منطقه فضایی رخ می‌دهند، مرتبط است. این توزیع به نام ماتور پوآسون نامگذاری شده است به افتخار ریاضی‌دان فرانسوی \"سیمون دنی پوآسون\" که توسعه داده است.\n",
    "در نامپای، شما می‌توانید از تابع poisson برای محاسبه احتمالات مختلف مرتبط با توزیع پوآسون استفاده کنید. این تابع به شما امکان محاسبه احتمالات P(X=k) را می‌دهد که X تعداد رویدادها است.\n",
    "\n",
    "توزیع پواسون یک توزیع گسسته است.\n",
    "\n",
    "تخمین می‌زند که یک رویداد در یک زمان مشخص چند بار می‌تواند رخ دهد. به عنوان مثال، اگر کسی روزی دو بار غذا بخورد احتمال اینکه سه بار بخورد چقدر است؟\n",
    "\n",
    "دو پارامتر دارد:\n",
    "\n",
    "- lam - نرخ یا تعداد شناخته شده از وقوع به عنوان مثال. 2 برای مشکل بالا\n",
    "\n",
    "\n",
    "- size - شکل آرایه برگشتی.\n",
    "\n",
    "</section>"
   ]
  },
  {
   "cell_type": "code",
   "execution_count": 173,
   "metadata": {},
   "outputs": [
    {
     "name": "stdout",
     "output_type": "stream",
     "text": [
      "[4 6 3 1 5 2 4 1 1 1]\n"
     ]
    }
   ],
   "source": [
    "from numpy import random\n",
    "\n",
    "x = random.poisson(lam=2, size=10)\n",
    "\n",
    "print(x)"
   ]
  },
  {
   "cell_type": "markdown",
   "metadata": {},
   "source": [
    "<section style=\"direction: rtl; text-align: justify; margin: 30px;\">\n",
    "\n",
    "### تجسم توزیع پواسون (Poisson)\n",
    "\n",
    "</section>"
   ]
  },
  {
   "cell_type": "code",
   "execution_count": 3,
   "metadata": {},
   "outputs": [
    {
     "name": "stderr",
     "output_type": "stream",
     "text": [
      "/home/saleh/.local/lib/python3.10/site-packages/seaborn/_oldcore.py:1498: FutureWarning: is_categorical_dtype is deprecated and will be removed in a future version. Use isinstance(dtype, CategoricalDtype) instead\n",
      "  if pd.api.types.is_categorical_dtype(vector):\n",
      "/home/saleh/.local/lib/python3.10/site-packages/seaborn/_oldcore.py:1119: FutureWarning: use_inf_as_na option is deprecated and will be removed in a future version. Convert inf values to NaN before operating instead.\n",
      "  with pd.option_context('mode.use_inf_as_na', True):\n"
     ]
    },
    {
     "data": {
      "image/png": "[encoded data removed]",
      "text/plain": [
       "<Figure size 640x480 with 1 Axes>"
      ]
     },
     "metadata": {},
     "output_type": "display_data"
    }
   ],
   "source": [
    "from numpy import random\n",
    "import matplotlib.pyplot as plt\n",
    "import seaborn as sns\n",
    "\n",
    "sns.histplot(random.poisson(lam=2, size=1000))\n",
    "\n",
    "plt.show()"
   ]
  },
  {
   "cell_type": "markdown",
   "metadata": {},
   "source": [
    "<section style=\"direction: rtl; text-align: justify; margin: 30px;\">\n",
    "\n",
    "### تفاوت بین توزیع نرمال و پواسون\n",
    "\n",
    "توزیع نرمال پیوسته است در حالی که پوآسون گسسته است.\n",
    "\n",
    "اما می‌توانیم ببینیم که مشابه دوجمله‌ای برای یک توزیع پواسون به اندازه کافی بزرگ، مشابه توزیع نرمال با std dev و میانگین خاص می‌شود.\n",
    "\n",
    "</section>"
   ]
  },
  {
   "cell_type": "code",
   "execution_count": 5,
   "metadata": {},
   "outputs": [
    {
     "name": "stderr",
     "output_type": "stream",
     "text": [
      "/home/saleh/.local/lib/python3.10/site-packages/seaborn/_oldcore.py:1498: FutureWarning: is_categorical_dtype is deprecated and will be removed in a future version. Use isinstance(dtype, CategoricalDtype) instead\n",
      "  if pd.api.types.is_categorical_dtype(vector):\n",
      "/home/saleh/.local/lib/python3.10/site-packages/seaborn/_oldcore.py:1119: FutureWarning: use_inf_as_na option is deprecated and will be removed in a future version. Convert inf values to NaN before operating instead.\n",
      "  with pd.option_context('mode.use_inf_as_na', True):\n",
      "/home/saleh/.local/lib/python3.10/site-packages/seaborn/_oldcore.py:1498: FutureWarning: is_categorical_dtype is deprecated and will be removed in a future version. Use isinstance(dtype, CategoricalDtype) instead\n",
      "  if pd.api.types.is_categorical_dtype(vector):\n",
      "/home/saleh/.local/lib/python3.10/site-packages/seaborn/_oldcore.py:1119: FutureWarning: use_inf_as_na option is deprecated and will be removed in a future version. Convert inf values to NaN before operating instead.\n",
      "  with pd.option_context('mode.use_inf_as_na', True):\n"
     ]
    },
    {
     "data": {
      "image/png": "[encoded data removed]",
      "text/plain": [
       "<Figure size 640x480 with 1 Axes>"
      ]
     },
     "metadata": {},
     "output_type": "display_data"
    }
   ],
   "source": [
    "from numpy import random\n",
    "import matplotlib.pyplot as plt\n",
    "import seaborn as sns\n",
    "\n",
    "sns.kdeplot(random.normal(loc=50, scale=7, size=1000), label='Normal')\n",
    "sns.kdeplot(random.poisson(lam=50, size=1000), label='Poisson')\n",
    "\n",
    "plt.show()"
   ]
  },
  {
   "cell_type": "markdown",
   "metadata": {},
   "source": [
    "<section style=\"direction: rtl; text-align: justify; margin: 30px;\">\n",
    "\n",
    "### تفاوت بین توزیع دو جمله ای و پواسون\n",
    "\n",
    "توزیع دو جمله ای فقط دو نتیجه امکان پذیر است، در حالی که توزیع پواسون می تواند نتایج نامحدودی داشته باشد.\n",
    "\n",
    "اما برای n بسیار بزرگ و p توزیع دوجمله ای تقریباً مشابه توزیع پواسون است به طوری که n * p تقریباً برابر با lam است.\n",
    "\n",
    "</section>"
   ]
  },
  {
   "cell_type": "code",
   "execution_count": 9,
   "metadata": {},
   "outputs": [
    {
     "name": "stderr",
     "output_type": "stream",
     "text": [
      "/home/saleh/.local/lib/python3.10/site-packages/seaborn/_oldcore.py:1498: FutureWarning: is_categorical_dtype is deprecated and will be removed in a future version. Use isinstance(dtype, CategoricalDtype) instead\n",
      "  if pd.api.types.is_categorical_dtype(vector):\n",
      "/home/saleh/.local/lib/python3.10/site-packages/seaborn/_oldcore.py:1119: FutureWarning: use_inf_as_na option is deprecated and will be removed in a future version. Convert inf values to NaN before operating instead.\n",
      "  with pd.option_context('mode.use_inf_as_na', True):\n",
      "/home/saleh/.local/lib/python3.10/site-packages/seaborn/_oldcore.py:1498: FutureWarning: is_categorical_dtype is deprecated and will be removed in a future version. Use isinstance(dtype, CategoricalDtype) instead\n",
      "  if pd.api.types.is_categorical_dtype(vector):\n",
      "/home/saleh/.local/lib/python3.10/site-packages/seaborn/_oldcore.py:1119: FutureWarning: use_inf_as_na option is deprecated and will be removed in a future version. Convert inf values to NaN before operating instead.\n",
      "  with pd.option_context('mode.use_inf_as_na', True):\n"
     ]
    },
    {
     "data": {
      "image/png": "[encoded data removed]",
      "text/plain": [
       "<Figure size 640x480 with 1 Axes>"
      ]
     },
     "metadata": {},
     "output_type": "display_data"
    }
   ],
   "source": [
    "from numpy import random\n",
    "import matplotlib.pyplot as plt\n",
    "import seaborn as sns\n",
    "\n",
    "sns.kdeplot(random.binomial(n=1000, p=0.01, size=1000), label='binomial')\n",
    "sns.kdeplot(random.poisson(lam=10, size=1000), label='poisson')\n",
    "\n",
    "plt.legend()\n",
    "plt.show()"
   ]
  },
  {
   "cell_type": "markdown",
   "metadata": {},
   "source": [
    "___\n",
    "\n",
    "Uniform Distribution\n",
    "\n",
    "<section style=\"direction: rtl; text-align: justify; margin: 30px;\">\n",
    "\n",
    "## **توزیع یکنواخت**\n",
    "\n",
    "🧠 توزیع یکنواخت یا Uniform Distribution یکی از توزیع‌های احتمالاتی است که در آمار و احتمالات بسیار متداول است. در این توزیع، احتمال وقوع هر مقدار در یک بازه خاص از مقادیر، یکسان است.\n",
    "\n",
    "در نامپای، می‌توان از تابع uniform برای ایجاد توزیع یکنواخت استفاده کرد. این تابع از دو پارامتر low و high برای تعیین بازه‌ی اعداد استفاده می‌کند.\n",
    "\n",
    "برای توصیف احتمالی استفاده می شود که در آن هر رویداد شانس یکسانی برای وقوع دارد.\n",
    "\n",
    "به عنوان مثال. تولید اعداد تصادفی\n",
    "\n",
    "دارای سه پارامتر است:\n",
    "\n",
    "- a - کران پایین - پیش فرض 0.0.\n",
    "\n",
    "- b - کران بالا - پیش فرض 1.0.\n",
    "\n",
    "- size - شکل آرایه برگشتی.\n",
    "\n",
    "</section>"
   ]
  },
  {
   "cell_type": "code",
   "execution_count": 10,
   "metadata": {},
   "outputs": [
    {
     "name": "stdout",
     "output_type": "stream",
     "text": [
      "[[0.29508079 0.36337081 0.76188989]\n",
      " [0.60087553 0.35480468 0.47592863]]\n"
     ]
    }
   ],
   "source": [
    "from numpy import random\n",
    "\n",
    "x = random.uniform(size=(2, 3))\n",
    "\n",
    "print(x)"
   ]
  },
  {
   "cell_type": "markdown",
   "metadata": {},
   "source": [
    "<section style=\"direction: rtl; text-align: justify; margin: 30px;\">\n",
    "\n",
    "### تجسم توزیع یکنواخت\n",
    "\n",
    "</section>"
   ]
  },
  {
   "cell_type": "code",
   "execution_count": 15,
   "metadata": {},
   "outputs": [
    {
     "name": "stderr",
     "output_type": "stream",
     "text": [
      "/home/saleh/.local/lib/python3.10/site-packages/seaborn/_oldcore.py:1498: FutureWarning: is_categorical_dtype is deprecated and will be removed in a future version. Use isinstance(dtype, CategoricalDtype) instead\n",
      "  if pd.api.types.is_categorical_dtype(vector):\n",
      "/home/saleh/.local/lib/python3.10/site-packages/seaborn/_oldcore.py:1119: FutureWarning: use_inf_as_na option is deprecated and will be removed in a future version. Convert inf values to NaN before operating instead.\n",
      "  with pd.option_context('mode.use_inf_as_na', True):\n"
     ]
    },
    {
     "data": {
      "image/png": "[encoded data removed]",
      "text/plain": [
       "<Figure size 640x480 with 1 Axes>"
      ]
     },
     "metadata": {},
     "output_type": "display_data"
    }
   ],
   "source": [
    "from numpy import random\n",
    "import matplotlib.pyplot as plt\n",
    "import seaborn as sns\n",
    "\n",
    "sns.kdeplot(random.uniform(size=1000))\n",
    "\n",
    "plt.show()"
   ]
  },
  {
   "cell_type": "markdown",
   "metadata": {},
   "source": [
    "___\n",
    "\n",
    "Logistic Distribution\n",
    "\n",
    "<section style=\"direction: rtl; text-align: justify; margin: 30px;\">\n",
    "\n",
    "## **توزیع لاجستیک**\n",
    "\n",
    "🧠 توزیع لجستیک یکی از توزیع‌های احتمالاتی است که در آمار و احتمالات استفاده می‌شود. این توزیع معمولاً برای مدل‌سازی و تحلیل داده‌های پیوسته استفاده می‌شود و به عنوان یک توزیع احتمالاتی برای متغیرهای تصادفی پیوسته به کار می‌رود.\n",
    "\n",
    "توزیع لجستیک برای توصیف رشد استفاده می شود.\n",
    "\n",
    "به طور گسترده در یادگیری ماشین در رگرسیون لجستیک، شبکه های عصبی و غیره استفاده می شود.\n",
    "\n",
    "دارای سه پارامتر است:\n",
    "\n",
    "- loc - به معنی، جایی که قله است. پیش فرض 0.\n",
    "- scale - انحراف استاندارد، مسطح بودن توزیع. پیش فرض 1.\n",
    "- size - شکل آرایه برگشتی.\n",
    "\n",
    "</section>"
   ]
  },
  {
   "cell_type": "code",
   "execution_count": 266,
   "metadata": {},
   "outputs": [
    {
     "name": "stdout",
     "output_type": "stream",
     "text": [
      "[[ 0.53766718  6.54496677  2.7526343 ]\n",
      " [ 1.1766585  -4.22557545  2.52951458]]\n"
     ]
    }
   ],
   "source": [
    "from numpy import random\n",
    "\n",
    "x = random.logistic(loc=1, scale=2, size=(2, 3))\n",
    "\n",
    "print(x)"
   ]
  },
  {
   "cell_type": "markdown",
   "metadata": {},
   "source": [
    "<section style=\"direction: rtl; text-align: justify; margin: 30px;\">\n",
    "\n",
    "### تجسم توزیع یکنواخت\n",
    "\n",
    "</section>"
   ]
  },
  {
   "cell_type": "code",
   "execution_count": 1,
   "metadata": {},
   "outputs": [
    {
     "data": {
      "image/png": "[encoded data removed]",
      "text/plain": [
       "<Figure size 640x480 with 1 Axes>"
      ]
     },
     "metadata": {},
     "output_type": "display_data"
    }
   ],
   "source": [
    "from numpy import random\n",
    "import matplotlib.pyplot as plt\n",
    "import seaborn as sns\n",
    "\n",
    "sns.kdeplot(random.logistic(size=1000))\n",
    "\n",
    "plt.show()"
   ]
  },
  {
   "cell_type": "markdown",
   "metadata": {},
   "source": [
    "<section style=\"direction: rtl; text-align: justify; margin: 30px;\">\n",
    "\n",
    "### تفاوت بین توزیع لجستیک و عادی\n",
    "\n",
    "هر دو توزیع تقریباً یکسان هستند، اما توزیع لجستیک دارای سطح بیشتری در زیر دم است، به این معنی که احتمال وقوع یک رویداد دورتر از میانگین را نشان می دهد.\n",
    "\n",
    "برای مقدار بالاتر مقیاس (انحراف استاندارد) توزیع نرمال و لجستیک جدا از اوج تقریباً یکسان هستند.\n",
    "\n",
    "</section>"
   ]
  },
  {
   "cell_type": "code",
   "execution_count": 17,
   "metadata": {},
   "outputs": [
    {
     "name": "stderr",
     "output_type": "stream",
     "text": [
      "/home/saleh/.local/lib/python3.10/site-packages/seaborn/_oldcore.py:1498: FutureWarning: is_categorical_dtype is deprecated and will be removed in a future version. Use isinstance(dtype, CategoricalDtype) instead\n",
      "  if pd.api.types.is_categorical_dtype(vector):\n",
      "/home/saleh/.local/lib/python3.10/site-packages/seaborn/_oldcore.py:1119: FutureWarning: use_inf_as_na option is deprecated and will be removed in a future version. Convert inf values to NaN before operating instead.\n",
      "  with pd.option_context('mode.use_inf_as_na', True):\n",
      "/home/saleh/.local/lib/python3.10/site-packages/seaborn/_oldcore.py:1498: FutureWarning: is_categorical_dtype is deprecated and will be removed in a future version. Use isinstance(dtype, CategoricalDtype) instead\n",
      "  if pd.api.types.is_categorical_dtype(vector):\n",
      "/home/saleh/.local/lib/python3.10/site-packages/seaborn/_oldcore.py:1119: FutureWarning: use_inf_as_na option is deprecated and will be removed in a future version. Convert inf values to NaN before operating instead.\n",
      "  with pd.option_context('mode.use_inf_as_na', True):\n"
     ]
    },
    {
     "data": {
      "image/png": "[encoded data removed]",
      "text/plain": [
       "<Figure size 640x480 with 1 Axes>"
      ]
     },
     "metadata": {},
     "output_type": "display_data"
    }
   ],
   "source": [
    "from numpy import random\n",
    "import matplotlib.pyplot as plt\n",
    "import seaborn as sns\n",
    "\n",
    "sns.kdeplot(random.normal(scale=2, size=1000), label=\"Normal\")\n",
    "sns.kdeplot(random.logistic(size=1000), label=\"Logistic\")\n",
    "\n",
    "plt.legend()\n",
    "plt.show()"
   ]
  },
  {
   "cell_type": "markdown",
   "metadata": {},
   "source": [
    "___\n",
    "\n",
    "Multinomial Distribution\n",
    "\n",
    "<section style=\"direction: rtl; text-align: justify; margin: 30px;\">\n",
    "\n",
    "## **توزیع چند جمله‌ای**\n",
    "\n",
    "🧠 توزیع چندجمله‌ای (Multinomial Distribution) یک توزیع احتمالاتی است که برای متغیرهای تصادفی گسسته با چندین دسته (در مقایسه با توزیع دوجمله‌ای که دو دسته دارد) استفاده می‌شود. این توزیع معمولاً برای مدل‌سازی تعداد آماری وقوع چندین رخداد گسسته در یک تعداد مشخص از آزمایش‌ها به کار می‌رود.\n",
    "\n",
    "توزیع چند جمله ای تعمیم توزیع دو جمله ای است.\n",
    "\n",
    "نتایج سناریوهای چندجمله ای را بر خلاف سناریوهای دوجمله ای که سناریوها باید فقط یکی از این دو باشند را توصیف می کند. به عنوان مثال، گروه خونی یک جمعیت، نتیجه پرتاب تاس.\n",
    "\n",
    "دارای سه پارامتر است:\n",
    "\n",
    "- n - تعداد نتایج ممکن (مثلاً 6 برای تاس انداختن).\n",
    "- pvals - فهرست احتمالات نتایج (به عنوان مثال [1/6، 1/6، 1/6، 1/6، 1/6، 1/6] برای تاس انداختن).\n",
    "- size - شکل آرایه برگشتی.\n",
    "\n",
    "</section>"
   ]
  },
  {
   "cell_type": "code",
   "execution_count": 36,
   "metadata": {},
   "outputs": [
    {
     "name": "stdout",
     "output_type": "stream",
     "text": [
      "[4 0 0 0 1 1 0]\n"
     ]
    }
   ],
   "source": [
    "from numpy import random\n",
    "\n",
    "x = random.multinomial(n=6, pvals=[1/6, 1/6, 1/6, 1/6, 1/6, 1/6, 1/6])\n",
    "\n",
    "print(x)"
   ]
  },
  {
   "cell_type": "markdown",
   "metadata": {},
   "source": [
    "<section style=\"direction: rtl; text-align: justify; margin: 30px;\">\n",
    "\n",
    "⚠️ توجه: نمونه های چند جمله ای یک مقدار واحد تولید نمی کنند! آنها برای هر pval یک مقدار تولید می کنند.\n",
    "\n",
    "⚠️ توجه: از آنجایی که Multinomial Distribution تعمیم توزیع دو جمله ای هستند، نمایش بصری آنها و شباهت توزیع نرمال مانند توزیع های چند جمله ای است.\n",
    "\n",
    "</section>"
   ]
  },
  {
   "cell_type": "code",
   "execution_count": 2,
   "metadata": {},
   "outputs": [
    {
     "name": "stdout",
     "output_type": "stream",
     "text": [
      "[0 1 2 1]\n"
     ]
    }
   ],
   "source": [
    "# My Example\n",
    "\n",
    "from numpy import random\n",
    "\n",
    "x = random.multinomial(n=4, pvals=[1/4, 1/4, 1/4, 1/4])\n",
    "\n",
    "print(x)"
   ]
  },
  {
   "cell_type": "markdown",
   "metadata": {},
   "source": [
    "___\n",
    "\n",
    "Exponential Distribution\n",
    "\n",
    "<section style=\"direction: rtl; text-align: justify; margin: 30px;\">\n",
    "\n",
    "## **توزیع نمایی**\n",
    "\n",
    "🧠 توزیع نمایی (Exponential Distribution) یکی از توزیع‌های احتمالاتی پیوسته است که برای مدل‌سازی زمان بین وقوع رخدادها با احتمالات وقوع یک رخداد در زمان معین به کار می‌رود. این توزیع به خصوص در حوزه‌هایی مانند مهندسی، علوم کامپیوتر، علوم زیستی، و اقتصاد شناخته شده است.\n",
    "\n",
    "توزیع نمایی برای توصیف زمان تا رویداد بعدی به عنوان مثال استفاده می شود. شکست / موفقیت و غیره\n",
    "\n",
    "دو پارامتر دارد:\n",
    "\n",
    "- مقیاس - معکوس نرخ (نگاه کنید به lam در توزیع پواسون) به طور پیش فرض 1.0 است.\n",
    "- size - شکل آرایه برگشتی.\n",
    "\n",
    "</section>"
   ]
  },
  {
   "cell_type": "code",
   "execution_count": 42,
   "metadata": {},
   "outputs": [
    {
     "name": "stdout",
     "output_type": "stream",
     "text": [
      "[[6.79406952 8.71618656 0.63603668]\n",
      " [0.39359965 0.2034426  0.79246427]]\n"
     ]
    }
   ],
   "source": [
    "from numpy import random\n",
    "\n",
    "x = random.exponential(scale=2, size=(2, 3))\n",
    "\n",
    "print(x)"
   ]
  },
  {
   "cell_type": "markdown",
   "metadata": {},
   "source": [
    "<section style=\"direction: rtl; text-align: justify; margin: 30px;\">\n",
    "\n",
    "### تجسم توزیع یکنواخت\n",
    "\n",
    "</section>"
   ]
  },
  {
   "cell_type": "code",
   "execution_count": 3,
   "metadata": {},
   "outputs": [
    {
     "data": {
      "image/png": "[encoded data removed]",
      "text/plain": [
       "<Figure size 640x480 with 1 Axes>"
      ]
     },
     "metadata": {},
     "output_type": "display_data"
    }
   ],
   "source": [
    "from numpy import random\n",
    "import matplotlib.pyplot as plt\n",
    "import seaborn as sns\n",
    "\n",
    "sns.kdeplot(random.exponential(size=1000))\n",
    "\n",
    "plt.show()"
   ]
  },
  {
   "cell_type": "markdown",
   "metadata": {},
   "source": [
    "<section style=\"direction: rtl; text-align: justify; margin: 30px;\">\n",
    "\n",
    "### رابطه بین پواسون و توزیع نمایی\n",
    "\n",
    "توزیع پواسون با تعداد وقوع یک رویداد در یک دوره زمانی سروکار دارد در حالی که توزیع نمایی با زمان بین این رویدادها سروکار دارد.\n",
    "\n",
    "</section>"
   ]
  },
  {
   "cell_type": "markdown",
   "metadata": {},
   "source": [
    "___\n",
    "\n",
    "Chi Square Distribution\n",
    "\n",
    "<section style=\"direction: rtl; text-align: justify; margin: 30px;\">\n",
    "\n",
    "## **توزیع Chi-Square**\n",
    "\n",
    "🧠 \n",
    "توزیع گاوسی مربع‌ها (Chi-Square Distribution) یک توزیع احتمالاتی است که در آمار و احتمالات استفاده می‌شود، مخصوصاً در تحلیل آزمون‌های فرضیه و اندازه‌گیری انحراف معیارها.\n",
    "\n",
    "توزیع Chi Square به عنوان مبنایی برای تأیید فرضیه استفاده می شود.\n",
    "\n",
    "دو پارامتر دارد:\n",
    "\n",
    "- df - (درجه آزادی).\n",
    "- size - شکل آرایه برگشتی.\n",
    "\n",
    "</section>"
   ]
  },
  {
   "cell_type": "code",
   "execution_count": 52,
   "metadata": {},
   "outputs": [
    {
     "name": "stdout",
     "output_type": "stream",
     "text": [
      "[[0.45372126 1.41641909 2.04749371]\n",
      " [4.44011492 2.25800067 1.04677087]]\n"
     ]
    }
   ],
   "source": [
    "from numpy import random\n",
    "\n",
    "x = random.chisquare(df=2, size=(2, 3))\n",
    "\n",
    "print(x)"
   ]
  },
  {
   "cell_type": "markdown",
   "metadata": {},
   "source": [
    "<section style=\"direction: rtl; text-align: justify; margin: 30px;\">\n",
    "\n",
    "### تجسم توزیع یکنواخت\n",
    "\n",
    "</section>"
   ]
  },
  {
   "cell_type": "code",
   "execution_count": 4,
   "metadata": {},
   "outputs": [
    {
     "data": {
      "image/png": "[encoded data removed]",
      "text/plain": [
       "<Figure size 640x480 with 1 Axes>"
      ]
     },
     "metadata": {},
     "output_type": "display_data"
    }
   ],
   "source": [
    "from numpy import random\n",
    "import matplotlib.pyplot as plt\n",
    "import seaborn as sns\n",
    "\n",
    "sns.kdeplot(random.chisquare(df=1, size=1000))\n",
    "\n",
    "plt.show()"
   ]
  },
  {
   "cell_type": "markdown",
   "metadata": {},
   "source": [
    "___\n",
    "\n",
    "Rayleigh Distribution\n",
    "\n",
    "<section style=\"direction: rtl; text-align: justify; margin: 30px;\">\n",
    "\n",
    "## **توزیع ریلی**\n",
    "\n",
    "🧠 توزیع ریلی (Rayleigh Distribution) یک توزیع احتمالاتی پیوسته است که برای مدل‌سازی متغیرهای تصادفی مثبت، مانند مقادیر بردار سرعت در فیزیک، استفاده می‌شود. این توزیع نام خود را از فیزیکدان ریلی (Lord Rayleigh) گرفته است.\n",
    "\n",
    "توزیع Rayleigh در پردازش سیگنال استفاده می شود.\n",
    "\n",
    "دو پارامتر دارد:\n",
    "\n",
    "- مقیاس - (انحراف استاندارد) تعیین می کند که توزیع چقدر مسطح باشد به طور پیش فرض 1.0.\n",
    "\n",
    "- size - شکل آرایه برگشتی.\n",
    "\n",
    "</section>"
   ]
  },
  {
   "cell_type": "code",
   "execution_count": 5,
   "metadata": {},
   "outputs": [
    {
     "name": "stdout",
     "output_type": "stream",
     "text": [
      "[[3.13720719 5.65831289 3.11164782]\n",
      " [1.21396289 3.04627945 2.84343523]]\n"
     ]
    }
   ],
   "source": [
    "from numpy import random\n",
    "\n",
    "x = random.rayleigh(scale=2, size=(2, 3))\n",
    "\n",
    "print(x)"
   ]
  },
  {
   "cell_type": "markdown",
   "metadata": {},
   "source": [
    "<section style=\"direction: rtl; text-align: justify; margin: 30px;\">\n",
    "\n",
    "### تجسم توزیع ریلی\n",
    "\n",
    "</section>"
   ]
  },
  {
   "cell_type": "code",
   "execution_count": 5,
   "metadata": {},
   "outputs": [
    {
     "data": {
      "image/png": "[encoded data removed]",
      "text/plain": [
       "<Figure size 640x480 with 1 Axes>"
      ]
     },
     "metadata": {},
     "output_type": "display_data"
    }
   ],
   "source": [
    "from numpy import random\n",
    "import matplotlib.pyplot as plt\n",
    "import seaborn as sns\n",
    "\n",
    "sns.kdeplot(random.rayleigh(size=1000))\n",
    "\n",
    "plt.show()"
   ]
  },
  {
   "cell_type": "markdown",
   "metadata": {},
   "source": [
    "<section style=\"direction: rtl; text-align: justify; margin: 30px;\">\n",
    "\n",
    "### شباهت بین توزیع Rayleigh و Chi Square\n",
    "\n",
    "در واحد stddev و 2 درجه آزادی، ریلی و مربع کای توزیع‌های یکسانی را نشان می‌دهند.\n",
    "\n",
    "</section>"
   ]
  },
  {
   "cell_type": "markdown",
   "metadata": {},
   "source": [
    "___\n",
    "\n",
    "Pareto Distribution\n",
    "\n",
    "<section style=\"direction: rtl; text-align: justify; margin: 30px;\">\n",
    "\n",
    "## **توزیع Pareto**\n",
    "\n",
    "🧠 توزیع پارتو (Pareto Distribution) یک توزیع احتمالاتی است که اغلب برای مدل‌سازی توزیع درآمد، ثروت، اندازه‌های شهری، و سایر پدیده‌های کمی مانند توزیع اندازه فایل‌ها در سیستم‌های فایل بزرگ استفاده می‌شود. این توزیع بر اساس مقاله‌ای که توسط عالم اقتصاد ولفرام پارتو منتشر شده است، به نام او نام‌گذاری شده است.\n",
    "\n",
    "\n",
    "توزیعی که از قانون پارتو پیروی می کند، یعنی توزیع 80-20 (20٪ عوامل باعث 80٪ نتیجه می شوند).\n",
    "\n",
    "\n",
    "دو پارامتر دارد:\n",
    "\n",
    "- a - پارامتر شکل.\n",
    "\n",
    "- size - شکل آرایه برگشتی.\n",
    "\n",
    "</section>"
   ]
  },
  {
   "cell_type": "code",
   "execution_count": 31,
   "metadata": {},
   "outputs": [
    {
     "name": "stdout",
     "output_type": "stream",
     "text": [
      "[[2.82888309 0.93852432 0.85262483]\n",
      " [1.31134857 0.47279955 0.45988843]]\n"
     ]
    }
   ],
   "source": [
    "from numpy import random\n",
    "\n",
    "x = random.pareto(a=2, size=(2, 3))\n",
    "\n",
    "print(x)"
   ]
  },
  {
   "cell_type": "markdown",
   "metadata": {},
   "source": [
    "<section style=\"direction: rtl; text-align: justify; margin: 30px;\">\n",
    "\n",
    "### تجسم توزیع ریلی\n",
    "\n",
    "</section>"
   ]
  },
  {
   "cell_type": "code",
   "execution_count": 7,
   "metadata": {},
   "outputs": [
    {
     "data": {
      "image/png": "[encoded data removed]",
      "text/plain": [
       "<Figure size 640x480 with 1 Axes>"
      ]
     },
     "metadata": {},
     "output_type": "display_data"
    }
   ],
   "source": [
    "from numpy import random\n",
    "import matplotlib.pyplot as plt\n",
    "import seaborn as sns\n",
    "\n",
    "sns.histplot(random.pareto(a=2, size=1000))\n",
    "\n",
    "plt.show()"
   ]
  },
  {
   "cell_type": "markdown",
   "metadata": {},
   "source": [
    "___\n",
    "\n",
    "Zipf Distribution\n",
    "\n",
    "<section style=\"direction: rtl; text-align: justify; margin: 30px;\">\n",
    "\n",
    "## **توزیع Pareto**\n",
    "\n",
    "🧠 توزیع پارتو (Pareto Distribution) یک توزیع احتمالاتی است که اغلب برای مدل‌سازی توزیع درآمد، ثروت، اندازه‌های شهری، و سایر پدیده‌های کمی مانند توزیع اندازه فایل‌ها در سیستم‌های فایل بزرگ استفاده می‌شود. این توزیع بر اساس مقاله‌ای که توسط عالم اقتصاد ولفرام پارتو منتشر شده است، به نام او نام‌گذاری شده است.\n",
    "\n",
    "\n",
    "توزیع های Zipf برای نمونه برداری از داده ها بر اساس قانون zipf استفاده می شود.\n",
    "\n",
    "⚠️ قانون Zipf: در یک مجموعه، nامین عبارت رایج 1/n برابر رایج ترین عبارت است. به عنوان مثال. پنجمین کلمه رایج در انگلیسی تقریباً 1/5 برابر رایج ترین کلمه است.\n",
    "\n",
    "\n",
    "دو پارامتر دارد:\n",
    "\n",
    "- a - پارامتر توزیع\n",
    "\n",
    "- size - شکل آرایه برگشتی.\n",
    "\n",
    "</section>"
   ]
  },
  {
   "cell_type": "code",
   "execution_count": 63,
   "metadata": {},
   "outputs": [
    {
     "name": "stdout",
     "output_type": "stream",
     "text": [
      "[[4 1 3]\n",
      " [1 2 1]]\n"
     ]
    }
   ],
   "source": [
    "from numpy import random\n",
    "\n",
    "x = random.zipf(a=2, size=(2, 3))\n",
    "\n",
    "print(x)"
   ]
  },
  {
   "cell_type": "markdown",
   "metadata": {},
   "source": [
    "<section style=\"direction: rtl; text-align: justify; margin: 30px;\">\n",
    "\n",
    "### تجسم توزیع ریلی\n",
    "\n",
    "</section>"
   ]
  },
  {
   "cell_type": "code",
   "execution_count": 8,
   "metadata": {},
   "outputs": [
    {
     "data": {
      "image/png": "[encoded data removed]",
      "text/plain": [
       "<Figure size 640x480 with 1 Axes>"
      ]
     },
     "metadata": {},
     "output_type": "display_data"
    }
   ],
   "source": [
    "from numpy import random\n",
    "import matplotlib.pyplot as plt\n",
    "import seaborn as sns\n",
    "\n",
    "x = random.zipf(a=2, size=1000)\n",
    "sns.histplot(x[x < 10], kde=False)\n",
    "\n",
    "plt.show()"
   ]
  },
  {
   "cell_type": "markdown",
   "metadata": {},
   "source": [
    "___\n",
    "\n",
    "NumPy ufuncs\n",
    "\n",
    "<section style=\"direction: rtl; text-align: justify; margin: 30px;\">\n",
    "\n",
    "## **NumPy ufuncs**\n",
    "\n",
    "🧠 در NumPy، توابع یکانی یا ufuncs توابعی هستند که بر روی هر عضو از یک آرایه اعمال می‌شوند، به طوری که نیازی به حلقه for ندارد. این توابع بر اساس ایده‌های موجود در توابع یکانی در ریاضیات ساخته شده‌اند. NumPy بر اساس آرایه‌های چندبعدی عمل می‌کند و ufuncs این امکان را فراهم می‌کنند تا به سرعت و بهینه بر روی داده‌های NumPy عملیات ریاضی و تابعی انجام دهید.\n",
    "\n",
    "ufuncs مخفف \"Universal Functions\" است و آنها توابع NumPy هستند که روی شی ndarray کار می کنند.\n",
    "\n",
    "ufunc ها برای پیاده سازی برداری در NumPy استفاده می شوند که بسیار سریعتر از تکرار روی عناصر است.\n",
    "\n",
    "آنها همچنین پخش و روش های اضافی مانند کاهش، تجمع و غیره را ارائه می دهند که برای محاسبه بسیار مفید هستند.\n",
    "\n",
    "ufunc ها آرگومان های اضافی را نیز می گیرند، مانند:\n",
    "\n",
    "- where - جایی که آرایه بولی یا شرایطی که عملیات باید انجام شود را تعیین می کند.\n",
    "- dtype - نوع برگشتی عناصر را تعریف می کند.\n",
    "- out - آرایه خروجی که در آن مقدار بازگشتی باید کپی شود.\n",
    "\n",
    "تبدیل عبارات تکرار شونده به یک عملیات مبتنی بر برداری vectorization نامیده می شود.\n",
    "\n",
    "این سریعتر است زیرا CPUهای مدرن برای چنین عملیاتی بهینه شده اند.\n",
    "\n",
    "عناصر دو لیست را اضافه کنید:\n",
    "\n",
    "</section>\n",
    "\n",
    "list 1: [1، 2، 3، 4] \n",
    "\n",
    "list 2: [4، 5، 6، 7] \n",
    "\n",
    "<section style=\"direction: rtl; text-align: justify; margin: 30px;\">\n",
    "\n",
    "یکی از راه های انجام آن این است که روی هر دو لیست تکرار کنید و سپس هر عنصر را جمع کنید.\n",
    "\n",
    "</section>"
   ]
  },
  {
   "cell_type": "code",
   "execution_count": 71,
   "metadata": {},
   "outputs": [
    {
     "name": "stdout",
     "output_type": "stream",
     "text": [
      "[5, 7, 9, 11]\n"
     ]
    }
   ],
   "source": [
    "x = [1, 2, 3, 4]\n",
    "y = [4, 5, 6, 7]\n",
    "z = []\n",
    "\n",
    "for i, j in zip(x, y):\n",
    "    z.append(i + j)\n",
    "\n",
    "print(z)"
   ]
  },
  {
   "cell_type": "code",
   "execution_count": 72,
   "metadata": {},
   "outputs": [
    {
     "name": "stdout",
     "output_type": "stream",
     "text": [
      "[ 5  7  9 11]\n"
     ]
    }
   ],
   "source": [
    "import numpy as np\n",
    "\n",
    "x = [1, 2, 3, 4]\n",
    "y = [4, 5, 6, 7]\n",
    "\n",
    "z = np.add(x, y)\n",
    "\n",
    "print(z)"
   ]
  },
  {
   "cell_type": "markdown",
   "metadata": {},
   "source": [
    "<section style=\"direction: rtl; text-align: justify; margin: 30px;\">\n",
    "\n",
    "NumPy برای این کار یک ufunc به نام add(x,y) دارد که همان نتیجه را ایجاد می کند.\n",
    "\n",
    "</section>"
   ]
  },
  {
   "cell_type": "markdown",
   "metadata": {},
   "source": [
    "___\n",
    "\n",
    "NumPy ufuncs\n",
    "\n",
    "<section style=\"direction: rtl; text-align: justify; margin: 30px;\">\n",
    "\n",
    "## **unfuc خود را ایجاد کنید**\n",
    "\n",
    "برای ایجاد ufunc خود، باید یک تابع را تعریف کنید، مانند توابع معمولی در پایتون، سپس آن را با روش frompyfunc() به کتابخانه ufunc NumPy خود اضافه کنید.\n",
    "\n",
    "متد frompyfunc() آرگومان های زیر را می گیرد:\n",
    "\n",
    "- function - نام تابع.\n",
    "- inputs - تعداد آرگومان های ورودی (آرایه ها).\n",
    "- outputs - تعداد آرایه های خروجی.\n",
    "\n",
    "</section>"
   ]
  },
  {
   "cell_type": "code",
   "execution_count": 4,
   "metadata": {},
   "outputs": [
    {
     "name": "stdout",
     "output_type": "stream",
     "text": [
      "[6 8 10 12]\n"
     ]
    }
   ],
   "source": [
    "import numpy as np\n",
    "\n",
    "\n",
    "def myadd(x, y):\n",
    "\n",
    "    return x + y\n",
    "\n",
    "\n",
    "myadd = np.frompyfunc(myadd, 2, 1)\n",
    "\n",
    "\n",
    "print(myadd([1, 2, 3, 4], [5, 6, 7, 8]))"
   ]
  },
  {
   "cell_type": "markdown",
   "metadata": {},
   "source": [
    "<section style=\"direction: rtl; text-align: justify; margin: 30px;\">\n",
    "\n",
    "نوع یک تابع را بررسی کنید تا بررسی کنید که آیا Ufunc است یا خیر.\n",
    "\n",
    "یک ufunc باید <class 'numpy.ufunc'> را برگرداند.\n",
    "\n",
    "</section>"
   ]
  },
  {
   "cell_type": "code",
   "execution_count": 74,
   "metadata": {},
   "outputs": [
    {
     "name": "stdout",
     "output_type": "stream",
     "text": [
      "<class 'numpy.ufunc'>\n"
     ]
    }
   ],
   "source": [
    "import numpy as np\n",
    "\n",
    "print(type(np.add))"
   ]
  },
  {
   "cell_type": "markdown",
   "metadata": {},
   "source": [
    "<section style=\"direction: rtl; text-align: justify; margin: 30px;\">\n",
    "\n",
    "اگر یک ufunc نباشد، نوع دیگری را برمی گرداند، مانند این تابع NumPy داخلی برای اتصال دو یا چند آرایه:\n",
    "\n",
    "</section>"
   ]
  },
  {
   "cell_type": "code",
   "execution_count": 76,
   "metadata": {},
   "outputs": [
    {
     "name": "stdout",
     "output_type": "stream",
     "text": [
      "<class 'numpy._ArrayFunctionDispatcher'>\n"
     ]
    }
   ],
   "source": [
    "import numpy as np\n",
    "\n",
    "print(type(np.concatenate))"
   ]
  },
  {
   "cell_type": "code",
   "execution_count": 77,
   "metadata": {},
   "outputs": [
    {
     "ename": "AttributeError",
     "evalue": "module 'numpy' has no attribute 'blahblah'",
     "output_type": "error",
     "traceback": [
      "\u001b[0;31m---------------------------------------------------------------------------\u001b[0m",
      "\u001b[0;31mAttributeError\u001b[0m                            Traceback (most recent call last)",
      "\u001b[1;32m/home/saleh/Projects/PythonFundamentals-Farsi/w3schools/36-Numpy_Tutorial.ipynb Cell 186\u001b[0m line \u001b[0;36m3\n\u001b[1;32m      <a href='vscode-notebook-cell://wsl%2Bubuntu/home/saleh/Projects/PythonFundamentals-Farsi/w3schools/36-Numpy_Tutorial.ipynb#Y356sdnNjb2RlLXJlbW90ZQ%3D%3D?line=0'>1</a>\u001b[0m \u001b[39mimport\u001b[39;00m \u001b[39mnumpy\u001b[39;00m \u001b[39mas\u001b[39;00m \u001b[39mnp\u001b[39;00m\n\u001b[0;32m----> <a href='vscode-notebook-cell://wsl%2Bubuntu/home/saleh/Projects/PythonFundamentals-Farsi/w3schools/36-Numpy_Tutorial.ipynb#Y356sdnNjb2RlLXJlbW90ZQ%3D%3D?line=2'>3</a>\u001b[0m \u001b[39mprint\u001b[39m(\u001b[39mtype\u001b[39m(np\u001b[39m.\u001b[39;49mblahblah))\n",
      "File \u001b[0;32m~/.local/lib/python3.10/site-packages/numpy/__init__.py:333\u001b[0m, in \u001b[0;36m__getattr__\u001b[0;34m(attr)\u001b[0m\n\u001b[1;32m    330\u001b[0m     \u001b[39m\"\u001b[39m\u001b[39mRemoved in NumPy 1.25.0\u001b[39m\u001b[39m\"\u001b[39m\n\u001b[1;32m    331\u001b[0m     \u001b[39mraise\u001b[39;00m \u001b[39mRuntimeError\u001b[39;00m(\u001b[39m\"\u001b[39m\u001b[39mTester was removed in NumPy 1.25.\u001b[39m\u001b[39m\"\u001b[39m)\n\u001b[0;32m--> 333\u001b[0m \u001b[39mraise\u001b[39;00m \u001b[39mAttributeError\u001b[39;00m(\u001b[39m\"\u001b[39m\u001b[39mmodule \u001b[39m\u001b[39m{!r}\u001b[39;00m\u001b[39m has no attribute \u001b[39m\u001b[39m\"\u001b[39m\n\u001b[1;32m    334\u001b[0m                      \u001b[39m\"\u001b[39m\u001b[39m{!r}\u001b[39;00m\u001b[39m\"\u001b[39m\u001b[39m.\u001b[39mformat(\u001b[39m__name__\u001b[39m, attr))\n",
      "\u001b[0;31mAttributeError\u001b[0m: module 'numpy' has no attribute 'blahblah'"
     ]
    }
   ],
   "source": [
    "import numpy as np\n",
    "\n",
    "print(type(np.blahblah))"
   ]
  },
  {
   "cell_type": "markdown",
   "metadata": {},
   "source": [
    "<section style=\"direction: rtl; text-align: justify; margin: 30px;\">\n",
    "\n",
    "برای آزمایش اینکه آیا تابع در دستور if یک ufunc است، از مقدار numpy.ufunc (یا np.ufunc اگر از np به عنوان نام مستعار برای numpy استفاده می کنید) استفاده کنید:\n",
    "\n",
    "</section>"
   ]
  },
  {
   "cell_type": "code",
   "execution_count": 78,
   "metadata": {},
   "outputs": [
    {
     "name": "stdout",
     "output_type": "stream",
     "text": [
      "add is ufunc\n"
     ]
    }
   ],
   "source": [
    "import numpy as np\n",
    "\n",
    "if type(np.add) == np.ufunc:\n",
    "    print('add is ufunc')\n",
    "else:\n",
    "    print('add is not ufunc')"
   ]
  },
  {
   "cell_type": "markdown",
   "metadata": {},
   "source": [
    "___\n",
    "\n",
    "Simple Arithmetic\n",
    "\n",
    "<section style=\"direction: rtl; text-align: justify; margin: 30px;\">\n",
    "\n",
    "## **محاسبات ساده**\n",
    "\n",
    "شما می‌توانید از عملگرهای حسابی + - * / به طور مستقیم بین آرایه‌های NumPy استفاده کنید، اما این بخش در مورد یک فرمت مشابه که در آن توابعی داریم که می‌تواند هر شیء آرایه‌مانندی را بگیرد، بحث می‌کند. لیست ها، تاپل ها و غیره و انجام محاسبات مشروط.\n",
    "\n",
    "⚠️ Arithmetic Conditionally: به این معنی است که می توانیم شرایطی را تعریف کنیم که عملیات حسابی باید در آن اتفاق بیفتد.\n",
    "\n",
    "همه توابع حسابی مورد بحث یک پارامتر Where دارند که در آن می‌توانیم آن شرط را مشخص کنیم.\n",
    "\n",
    "تابع add() محتوای دو آرایه را جمع می کند و نتایج را در یک آرایه جدید برمی گرداند.\n",
    "\n",
    "</section>"
   ]
  },
  {
   "cell_type": "code",
   "execution_count": 79,
   "metadata": {},
   "outputs": [
    {
     "name": "stdout",
     "output_type": "stream",
     "text": [
      "[30 32 34 36 38 40]\n"
     ]
    }
   ],
   "source": [
    "# Addition\n",
    "\n",
    "import numpy as np\n",
    "\n",
    "arr1 = np.array([10, 11, 12, 13, 14, 15])\n",
    "arr2 = np.array([20, 21, 22, 23, 24, 25])\n",
    "\n",
    "newarr = np.add(arr1, arr2)\n",
    "\n",
    "print(newarr)"
   ]
  },
  {
   "cell_type": "markdown",
   "metadata": {},
   "source": [
    "<section style=\"direction: rtl; text-align: justify; margin: 30px;\">\n",
    "\n",
    "⚠️ مثال بالا برمی گردد [30 32 34 36 38 40] که حاصل جمع 10+20، 11+21، 12+22 و غیره است.\n",
    "\n",
    "تابع subtract() مقادیر یک آرایه را با مقادیر آرایه دیگر کم می کند و نتایج را در یک آرایه جدید برمی گرداند.\n",
    "\n",
    "</section>"
   ]
  },
  {
   "cell_type": "code",
   "execution_count": 81,
   "metadata": {},
   "outputs": [
    {
     "name": "stdout",
     "output_type": "stream",
     "text": [
      "[-10  -1   8  17  26  35]\n"
     ]
    }
   ],
   "source": [
    "# Subtraction\n",
    "\n",
    "import numpy as np\n",
    "\n",
    "arr1 = np.array([10, 20, 30, 40, 50, 60])\n",
    "arr2 = np.array([20, 21, 22, 23, 24, 25])\n",
    "\n",
    "newarr = np.subtract(arr1, arr2)\n",
    "\n",
    "print(newarr)"
   ]
  },
  {
   "cell_type": "markdown",
   "metadata": {},
   "source": [
    "<section style=\"direction: rtl; text-align: justify; margin: 30px;\">\n",
    "\n",
    "⚠️ مثال بالا [-10 -1 8 17 26 35] را برمی گرداند که نتیجه 10-20، 20-21، 30-22 و غیره است.\n",
    "\n",
    "تابع multiply() مقادیر یک آرایه را با مقادیر آرایه دیگر ضرب می کند و نتایج را در یک آرایه جدید برمی گرداند.\n",
    "\n",
    "</section>"
   ]
  },
  {
   "cell_type": "code",
   "execution_count": 82,
   "metadata": {},
   "outputs": [
    {
     "name": "stdout",
     "output_type": "stream",
     "text": [
      "[ 200  420  660  920 1200 1500]\n"
     ]
    }
   ],
   "source": [
    "# Multiplication\n",
    "\n",
    "import numpy as np\n",
    "\n",
    "arr1 = np.array([10, 20, 30, 40, 50, 60])\n",
    "arr2 = np.array([20, 21, 22, 23, 24, 25])\n",
    "\n",
    "newarr = np.multiply(arr1, arr2)\n",
    "\n",
    "print(newarr)"
   ]
  },
  {
   "cell_type": "markdown",
   "metadata": {},
   "source": [
    "<section style=\"direction: rtl; text-align: justify; margin: 30px;\">\n",
    "\n",
    "⚠️ مثال بالا برمی گردد [200 420 660 920 1200 1500] که نتیجه 10 *20، 20*21، 30*22 و غیره است.\n",
    "\n",
    "تابع divide() مقادیر یک آرایه را با مقادیر آرایه دیگر تقسیم می کند و نتایج را در یک آرایه جدید برمی گرداند.\n",
    "\n",
    "</section>"
   ]
  },
  {
   "cell_type": "code",
   "execution_count": 85,
   "metadata": {},
   "outputs": [
    {
     "name": "stdout",
     "output_type": "stream",
     "text": [
      "[ 3.33333333  4.          3.          5.         25.          1.81818182]\n"
     ]
    }
   ],
   "source": [
    "# Division\n",
    "\n",
    "import numpy as np\n",
    "\n",
    "arr1 = np.array([10, 20, 30, 40, 50, 60])\n",
    "arr2 = np.array([3, 5, 10, 8, 2, 33])\n",
    "\n",
    "newarr = np.divide(arr1, arr2)\n",
    "\n",
    "print(newarr)"
   ]
  },
  {
   "cell_type": "markdown",
   "metadata": {},
   "source": [
    "<section style=\"direction: rtl; text-align: justify; margin: 30px;\">\n",
    "\n",
    "⚠️ مثال بالا برمی گردد [3.33333333 4. 3. 5. 25. 1.81818182] که نتیجه 10/3، 20/5، 30/10 و غیره است.\n",
    "\n",
    "تابع power() مقادیر را از آرایه اول به توان مقادیر آرایه دوم افزایش می دهد و نتایج را در یک آرایه جدید برمی گرداند.\n",
    "\n",
    "</section>"
   ]
  },
  {
   "cell_type": "code",
   "execution_count": 87,
   "metadata": {},
   "outputs": [
    {
     "name": "stdout",
     "output_type": "stream",
     "text": [
      "[         1000       3200000     729000000 6553600000000          2500\n",
      "             0]\n"
     ]
    }
   ],
   "source": [
    "# Power\n",
    "\n",
    "import numpy as np\n",
    "\n",
    "arr1 = np.array([10, 20, 30, 40, 50, 60])\n",
    "arr2 = np.array([3, 5, 6, 8, 2, 33])\n",
    "\n",
    "newarr = np.power(arr1, arr2)\n",
    "\n",
    "print(newarr)"
   ]
  },
  {
   "cell_type": "markdown",
   "metadata": {},
   "source": [
    "<section style=\"direction: rtl; text-align: justify; margin: 30px;\">\n",
    "\n",
    "⚠️ مثال بالا برمی گردد [1000 3200000 729000000 6553600000000 2500 0] که حاصل 10*10*10، 20*20*20*20*20، 30*30*30*30*30 است.\n",
    "\n",
    "هر دو تابع mod() و بقیه () باقیمانده مقادیر آرایه اول مربوط به مقادیر آرایه دوم را برمی گرداند و نتایج را در یک آرایه جدید برمی گرداند.\n",
    "\n",
    "</section>"
   ]
  },
  {
   "cell_type": "code",
   "execution_count": 88,
   "metadata": {},
   "outputs": [
    {
     "name": "stdout",
     "output_type": "stream",
     "text": [
      "[ 1  6  3  0  0 27]\n"
     ]
    }
   ],
   "source": [
    "# Mod\n",
    "\n",
    "import numpy as np\n",
    "\n",
    "arr1 = np.array([10, 20, 30, 40, 50, 60])\n",
    "arr2 = np.array([3, 7, 9, 8, 2, 33])\n",
    "\n",
    "newarr = np.mod(arr1, arr2)\n",
    "\n",
    "print(newarr)"
   ]
  },
  {
   "cell_type": "markdown",
   "metadata": {},
   "source": [
    "<section style=\"direction: rtl; text-align: justify; margin: 30px;\">\n",
    "\n",
    "⚠️ مثال بالا برمی گردد [1 6 3 0 0 27] که وقتی 10 را بر 3 (10%3)، 20 را با 7 (20%7) 30 را با 9 (30%9) و غیره تقسیم می کنید، باقیمانده است.\n",
    "\n",
    "هنگام استفاده از تابع باقی مانده () نتیجه یکسانی دریافت می کنید:\n",
    "\n",
    "</section>"
   ]
  },
  {
   "cell_type": "code",
   "execution_count": 89,
   "metadata": {},
   "outputs": [
    {
     "name": "stdout",
     "output_type": "stream",
     "text": [
      "[ 1  6  3  0  0 27]\n"
     ]
    }
   ],
   "source": [
    "# Remainder\n",
    "\n",
    "import numpy as np\n",
    "\n",
    "arr1 = np.array([10, 20, 30, 40, 50, 60])\n",
    "arr2 = np.array([3, 7, 9, 8, 2, 33])\n",
    "\n",
    "newarr = np.remainder(arr1, arr2)\n",
    "\n",
    "print(newarr)"
   ]
  },
  {
   "cell_type": "markdown",
   "metadata": {},
   "source": [
    "<section style=\"direction: rtl; text-align: justify; margin: 30px;\">\n",
    "\n",
    "تابع divmod() هم ضریب و هم mod را برمی گرداند. مقدار بازگشتی دو آرایه است، آرایه اول شامل ضریب و آرایه دوم حاوی mod است.\n",
    "\n",
    "</section>"
   ]
  },
  {
   "cell_type": "code",
   "execution_count": 90,
   "metadata": {},
   "outputs": [
    {
     "name": "stdout",
     "output_type": "stream",
     "text": [
      "(array([ 3,  2,  3,  5, 25,  1]), array([ 1,  6,  3,  0,  0, 27]))\n"
     ]
    }
   ],
   "source": [
    "# Quotient and Mod\n",
    "\n",
    "import numpy as np\n",
    "\n",
    "arr1 = np.array([10, 20, 30, 40, 50, 60])\n",
    "arr2 = np.array([3, 7, 9, 8, 2, 33])\n",
    "\n",
    "newarr = np.divmod(arr1, arr2)\n",
    "\n",
    "print(newarr)"
   ]
  },
  {
   "cell_type": "markdown",
   "metadata": {},
   "source": [
    "<section style=\"direction: rtl; text-align: justify; margin: 30px;\">\n",
    "\n",
    "⚠️ مثال بالا باز خواهد گشت: (آرایه([3، 2، 3، 5، 25، 1])، آرایه ([1، 6، 3، 0، 0، 27])) آرایه اول نشان دهنده ضرایب است، (مقدار صحیح وقتی 10 را با 3، 20 را با 7، 30 را با 9 و غیره تقسیم می کنید).\n",
    "\n",
    "آرایه دوم باقیمانده تقسیمات مشابه را نشان می دهد.\n",
    "\n",
    "هر دو تابع absolute() و abs() از نظر عنصر عملیات مطلق یکسان را انجام می دهند، اما ما باید از absolute() استفاده کنیم تا با math.abs() داخلی پایتون اشتباه نگیریم.\n",
    "\n",
    "</section>"
   ]
  },
  {
   "cell_type": "code",
   "execution_count": 93,
   "metadata": {},
   "outputs": [
    {
     "name": "stdout",
     "output_type": "stream",
     "text": [
      "[1 2 1 2 3 4]\n"
     ]
    }
   ],
   "source": [
    "# Absolute Values\n",
    "\n",
    "import numpy as np\n",
    "\n",
    "arr = np.array([-1, -2, 1, 2, 3, -4])\n",
    "\n",
    "newarr = np.absolute(arr)\n",
    "\n",
    "print(newarr)"
   ]
  },
  {
   "cell_type": "markdown",
   "metadata": {},
   "source": [
    "<section style=\"direction: rtl; text-align: justify; margin: 30px;\">\n",
    "\n",
    "⚠️ مثال بالا خروجی روبرو را بر‌میگرداند: [1 2 1 2 3 4].\n",
    "\n",
    "</section>"
   ]
  },
  {
   "cell_type": "markdown",
   "metadata": {},
   "source": [
    "___\n",
    "\n",
    "Rounding Decimals\n",
    "\n",
    "<section style=\"direction: rtl; text-align: justify; margin: 30px;\">\n",
    "\n",
    "## **گرد کردن اعداد اعشاری**\n",
    "\n",
    "اصولاً پنج راه برای گرد کردن اعداد اعشاری در NumPy وجود دارد:\n",
    "\n",
    "- truncation\n",
    "- fix\n",
    "- rounding\n",
    "- floor\n",
    "- ceil\n",
    "\n",
    "اعداد اعشاری را حذف کرده و نزدیکترین عدد شناور را به صفر برگردانید. از توابع trunc() و fix() استفاده کنید.\n",
    "\n",
    "</section>"
   ]
  },
  {
   "cell_type": "code",
   "execution_count": 94,
   "metadata": {},
   "outputs": [
    {
     "name": "stdout",
     "output_type": "stream",
     "text": [
      "[-3.  3.]\n"
     ]
    }
   ],
   "source": [
    "import numpy as np\n",
    "\n",
    "arr = np.trunc([-3.1666, 3.6667])\n",
    "\n",
    "print(arr)"
   ]
  },
  {
   "cell_type": "code",
   "execution_count": 95,
   "metadata": {},
   "outputs": [
    {
     "name": "stdout",
     "output_type": "stream",
     "text": [
      "[-3.  3.]\n"
     ]
    }
   ],
   "source": [
    "import numpy as np\n",
    "\n",
    "arr = np.fix([-3.1666, 3.6667])\n",
    "\n",
    "print(arr)"
   ]
  },
  {
   "cell_type": "markdown",
   "metadata": {},
   "source": [
    "<section style=\"direction: rtl; text-align: justify; margin: 30px;\">\n",
    "\n",
    "تابع اطراف () قبل از رقم یا اعشار 1 افزایش می یابد اگر >=5 چیز دیگری انجام نمی دهد.\n",
    "\n",
    "به عنوان مثال اگر به 1 رقم اعشار گرد کنید، 3.16666 برابر با 3.2 است\n",
    "\n",
    "</section>"
   ]
  },
  {
   "cell_type": "code",
   "execution_count": 3,
   "metadata": {},
   "outputs": [
    {
     "name": "stdout",
     "output_type": "stream",
     "text": [
      "[3. 2.]\n"
     ]
    }
   ],
   "source": [
    "import numpy as np\n",
    "\n",
    "arr = np.around([3.1666, 2])\n",
    "\n",
    "print(arr)"
   ]
  },
  {
   "cell_type": "markdown",
   "metadata": {},
   "source": [
    "<section style=\"direction: rtl; text-align: justify; margin: 30px;\">\n",
    "\n",
    "تابع floor() اعشاری را به نزدیکترین عدد صحیح پایین تر گرد می کند.\n",
    "\n",
    "برای مثال ۳.۱۶۶ برابر با ۳ می‌شود.\n",
    "\n",
    "</section>"
   ]
  },
  {
   "cell_type": "code",
   "execution_count": 101,
   "metadata": {},
   "outputs": [
    {
     "name": "stdout",
     "output_type": "stream",
     "text": [
      "[-4.  3.]\n"
     ]
    }
   ],
   "source": [
    "# Floor\n",
    "\n",
    "import numpy as np\n",
    "\n",
    "arr = np.floor([-3.1666, 3.6667])\n",
    "\n",
    "print(arr)"
   ]
  },
  {
   "cell_type": "markdown",
   "metadata": {},
   "source": [
    "<section style=\"direction: rtl; text-align: justify; margin: 30px;\">\n",
    "\n",
    "تابع ceil() اعشاری را به نزدیکترین عدد صحیح بالایی گرد می کند.\n",
    "\n",
    "برای مثال ۳.۱۶۶ برابر با ۴ می‌شود.\n",
    "\n",
    "</section>"
   ]
  },
  {
   "cell_type": "code",
   "execution_count": 102,
   "metadata": {},
   "outputs": [
    {
     "name": "stdout",
     "output_type": "stream",
     "text": [
      "[-3.  4.]\n"
     ]
    }
   ],
   "source": [
    "# Ceil\n",
    "\n",
    "import numpy as np\n",
    "\n",
    "arr = np.ceil([-3.1666, 3.6667])\n",
    "\n",
    "print(arr)"
   ]
  },
  {
   "cell_type": "markdown",
   "metadata": {},
   "source": [
    "___\n",
    "\n",
    "NumPy Logs\n",
    "\n",
    "<section style=\"direction: rtl; text-align: justify; margin: 30px;\">\n",
    "\n",
    "## **لگاریتم در نامپای**\n",
    "\n",
    "NumPy توابعی را برای انجام log در پایه 2، e و 10 فراهم می کند.\n",
    "\n",
    "همچنین بررسی خواهیم کرد که چگونه می‌توانیم با ایجاد یک ufunc سفارشی، برای هر پایگاهی لاگ بگیریم.\n",
    "\n",
    "اگر log قابل محاسبه نباشد، همه توابع log -inf یا inf را در عناصر قرار می دهند.\n",
    "\n",
    "از تابع log2() برای اجرای log در پایه 2 استفاده کنید.\n",
    "\n",
    "</section>"
   ]
  },
  {
   "cell_type": "code",
   "execution_count": 4,
   "metadata": {},
   "outputs": [
    {
     "name": "stdout",
     "output_type": "stream",
     "text": [
      "[0.         1.         1.5849625  2.         2.32192809 2.5849625\n",
      " 2.80735492 3.         3.169925  ]\n"
     ]
    }
   ],
   "source": [
    "# Log at Base 2\n",
    "\n",
    "import numpy as np\n",
    "\n",
    "arr = np.arange(1, 10)\n",
    "\n",
    "print(np.log2(arr))"
   ]
  },
  {
   "cell_type": "markdown",
   "metadata": {},
   "source": [
    "<section style=\"direction: rtl; text-align: justify; margin: 30px;\">\n",
    "\n",
    "⚠️ ☝🏽 توجه: تابع arange(1,10) آرایه ای با اعداد صحیح از 1 (شامل) تا 10 (شامل نمی شود) برمی گرداند. \n",
    "\n",
    "از تابع log10() برای اجرای log در پایه 10 استفاده کنید.\n",
    "\n",
    "</section>"
   ]
  },
  {
   "cell_type": "code",
   "execution_count": 107,
   "metadata": {},
   "outputs": [
    {
     "name": "stdout",
     "output_type": "stream",
     "text": [
      "[0.         0.30103    0.47712125 0.60205999 0.69897    0.77815125\n",
      " 0.84509804 0.90308999 0.95424251]\n"
     ]
    }
   ],
   "source": [
    "# Log ar Base 10\n",
    "\n",
    "import numpy as np\n",
    "\n",
    "arr = np.arange(1, 10)\n",
    "\n",
    "print(np.log10(arr))"
   ]
  },
  {
   "cell_type": "markdown",
   "metadata": {},
   "source": [
    "<section style=\"direction: rtl; text-align: justify; margin: 30px;\">\n",
    "\n",
    "از تابع log() برای اجرای log در پایه e استفاده کنید.\n",
    "\n",
    "</section>"
   ]
  },
  {
   "cell_type": "code",
   "execution_count": 109,
   "metadata": {},
   "outputs": [
    {
     "name": "stdout",
     "output_type": "stream",
     "text": [
      "[0.         0.69314718 1.09861229 1.38629436 1.60943791 1.79175947\n",
      " 1.94591015 2.07944154 2.19722458]\n"
     ]
    }
   ],
   "source": [
    "# Natural Log, or Log at Base e\n",
    "\n",
    "import numpy as np\n",
    "\n",
    "arr = np.arange(1, 10)\n",
    "\n",
    "print(np.log(arr))"
   ]
  },
  {
   "cell_type": "markdown",
   "metadata": {},
   "source": [
    "<section style=\"direction: rtl; text-align: justify; margin: 30px;\">\n",
    "\n",
    "NumPy هیچ تابعی برای ورود به سیستم در هیچ پایه ای ارائه نمی دهد، بنابراین می توانیم از تابع frompyfunc() همراه با تابع داخلی math.log() با دو پارامتر ورودی و یک پارامتر خروجی استفاده کنیم:\n",
    "\n",
    "</section>"
   ]
  },
  {
   "cell_type": "code",
   "execution_count": 117,
   "metadata": {},
   "outputs": [
    {
     "name": "stdout",
     "output_type": "stream",
     "text": [
      "1.7005483074552052\n"
     ]
    }
   ],
   "source": [
    "from math import log\n",
    "import numpy as np\n",
    "\n",
    "nplog = np.frompyfunc(log, 2, 1)\n",
    "\n",
    "print(nplog(100, 15))"
   ]
  },
  {
   "cell_type": "markdown",
   "metadata": {},
   "source": [
    "___\n",
    "\n",
    "NumPy Summations\n",
    "\n",
    "<section style=\"direction: rtl; text-align: justify; margin: 30px;\">\n",
    "\n",
    "## **جمع در نامپای**\n",
    "\n",
    "تفاوت بین جمع و اضافه کردن چیست؟\n",
    "\n",
    "اضافه کردن بین دو آرگومان انجام می شود در حالی که جمع بر روی n عنصر اتفاق می افتد.\n",
    "\n",
    "</section>"
   ]
  },
  {
   "cell_type": "code",
   "execution_count": 1,
   "metadata": {},
   "outputs": [
    {
     "name": "stdout",
     "output_type": "stream",
     "text": [
      "[2 4 6]\n"
     ]
    }
   ],
   "source": [
    "import numpy as np\n",
    "\n",
    "arr1 = np.array([1, 2, 3])\n",
    "arr2 = np.array([1, 2, 3])\n",
    "\n",
    "newarr = np.add(arr1, arr2)\n",
    "\n",
    "print(newarr)"
   ]
  },
  {
   "cell_type": "code",
   "execution_count": 2,
   "metadata": {},
   "outputs": [
    {
     "name": "stdout",
     "output_type": "stream",
     "text": [
      "12\n"
     ]
    }
   ],
   "source": [
    "import numpy as np\n",
    "\n",
    "arr1 = np.array([1, 2, 3])\n",
    "arr2 = np.array([1, 2, 3])\n",
    "\n",
    "newarr = np.sum([arr1, arr2])\n",
    "\n",
    "print(newarr)"
   ]
  },
  {
   "cell_type": "markdown",
   "metadata": {},
   "source": [
    "<section style=\"direction: rtl; text-align: justify; margin: 30px;\">\n",
    "\n",
    "اگر axis=1 را مشخص کنید، NumPy اعداد هر آرایه را جمع می کند.\n",
    "\n",
    "</section>"
   ]
  },
  {
   "cell_type": "code",
   "execution_count": 12,
   "metadata": {},
   "outputs": [
    {
     "name": "stdout",
     "output_type": "stream",
     "text": [
      "[6 6]\n"
     ]
    }
   ],
   "source": [
    "import numpy as np\n",
    "\n",
    "arr1 = np.array([1, 2, 3])\n",
    "arr2 = np.array([1, 2, 3])\n",
    "\n",
    "newarr = np.sum([arr1, arr2], axis=1)\n",
    "\n",
    "print(newarr)"
   ]
  },
  {
   "cell_type": "markdown",
   "metadata": {},
   "source": [
    "<section style=\"direction: rtl; text-align: justify; margin: 30px;\">\n",
    "\n",
    "جمع تجمعی به معنای اضافه کردن جزئی عناصر در آرایه است.\n",
    "\n",
    "به عنوان مثال. مجموع جزئی [1، 2، 3، 4] خواهد بود [1، 1+2، 1+2+3، 1+2+3+4] = [1، 3، 6، 10].\n",
    "\n",
    "جمع جزئی را با تابع cumsum() انجام دهید.\n",
    "\n",
    "</section>"
   ]
  },
  {
   "cell_type": "code",
   "execution_count": 1,
   "metadata": {},
   "outputs": [
    {
     "name": "stdout",
     "output_type": "stream",
     "text": [
      "[1 3 6]\n"
     ]
    }
   ],
   "source": [
    "import numpy as np\n",
    "\n",
    "arr = np.array([1, 2, 3])\n",
    "\n",
    "newarr = np.cumsum(arr)\n",
    "\n",
    "print(newarr)"
   ]
  },
  {
   "cell_type": "markdown",
   "metadata": {},
   "source": [
    "___\n",
    "\n",
    "NumPy Products\n",
    "\n",
    "<section style=\"direction: rtl; text-align: justify; margin: 30px;\">\n",
    "\n",
    "## **حاصلضرب در نامپای**\n",
    "\n",
    "برای یافتن حاصل ضرب عناصر در یک آرایه، از تابع ()prod استفاده کنید.\n",
    "\n",
    "</section>"
   ]
  },
  {
   "cell_type": "code",
   "execution_count": 2,
   "metadata": {},
   "outputs": [
    {
     "name": "stdout",
     "output_type": "stream",
     "text": [
      "24\n"
     ]
    }
   ],
   "source": [
    "import numpy as np\n",
    "\n",
    "arr = np.array([1, 2, 3, 4])\n",
    "\n",
    "x = np.prod(arr)\n",
    "\n",
    "print(x)"
   ]
  },
  {
   "cell_type": "markdown",
   "metadata": {},
   "source": [
    "<section style=\"direction: rtl; text-align: justify; margin: 30px;\">\n",
    "\n",
    "نتیجه برای با ۲۴ است زیرا:\n",
    "\n",
    "</section>\n",
    "\n",
    "<section style=\"text-align: center; margin: 30px;\">\n",
    "\n",
    "1 * 2 * 3 * 4 = 24\n",
    "\n",
    "</section>"
   ]
  },
  {
   "cell_type": "code",
   "execution_count": 2,
   "metadata": {},
   "outputs": [
    {
     "name": "stdout",
     "output_type": "stream",
     "text": [
      "40320\n"
     ]
    }
   ],
   "source": [
    "import numpy as np\n",
    "\n",
    "arr1 = np.array([1, 2, 3, 4])\n",
    "arr2 = np.array([5, 6, 7, 8])\n",
    "\n",
    "x = np.prod([arr1, arr2])\n",
    "\n",
    "print(x)"
   ]
  },
  {
   "cell_type": "markdown",
   "metadata": {},
   "source": [
    "<section style=\"direction: rtl; text-align: justify; margin: 30px;\">\n",
    "\n",
    "نتیجه برای با 40320 است زیرا:\n",
    "\n",
    "</section>\n",
    "\n",
    "<section style=\"text-align: center; margin: 30px;\">\n",
    "\n",
    "1 * 2 * 3 * 4 * 5 * 6 * 7 * 8 = 40320\n",
    "\n",
    "</section>"
   ]
  },
  {
   "cell_type": "markdown",
   "metadata": {},
   "source": [
    "<section style=\"direction: rtl; text-align: justify; margin: 30px;\">\n",
    "\n",
    "اگر axis=1 را مشخص کنید، NumPy حاصلضرب هر آرایه را برمی گرداند.\n",
    "\n",
    "</section>"
   ]
  },
  {
   "cell_type": "code",
   "execution_count": 3,
   "metadata": {},
   "outputs": [
    {
     "name": "stdout",
     "output_type": "stream",
     "text": [
      "[  24 1680]\n"
     ]
    }
   ],
   "source": [
    "import numpy as np\n",
    "\n",
    "arr1 = np.array([1, 2, 3, 4])\n",
    "arr2 = np.array([5, 6, 7, 8])\n",
    "\n",
    "newarr = np.prod([arr1, arr2], axis=1)\n",
    "\n",
    "print(newarr)"
   ]
  },
  {
   "cell_type": "markdown",
   "metadata": {},
   "source": [
    "<section style=\"direction: rtl; text-align: justify; margin: 30px;\">\n",
    "\n",
    "محصول انباشته به معنای مصرف جزئی محصول است.\n",
    "\n",
    "به عنوان مثال. حاصلضرب جزئی [1، 2، 3، 4] برابر است با\n",
    "\n",
    "</section>\n",
    "\n",
    "<section style=\"text-align: center; margin: 30px;\">\n",
    "\n",
    "[1، 1 * 2، 1 * 2 * 3، 1 * 2 * 3 * 4] = [1، 2، 6، 24]\n",
    "\n",
    "</section>\n",
    "\n",
    "<section style=\"direction: rtl; text-align: justify; margin: 30px;\">\n",
    "\n",
    "جمع جزئی را با تابع cumprod() انجام دهید.\n",
    "\n",
    "</section>"
   ]
  },
  {
   "cell_type": "code",
   "execution_count": 4,
   "metadata": {},
   "outputs": [
    {
     "name": "stdout",
     "output_type": "stream",
     "text": [
      "[   5   30  210 1680]\n"
     ]
    }
   ],
   "source": [
    "import numpy as np\n",
    "\n",
    "arr = np.array([5, 6, 7, 8])\n",
    "\n",
    "newarr = np.cumprod(arr)\n",
    "\n",
    "print(newarr)"
   ]
  },
  {
   "cell_type": "markdown",
   "metadata": {},
   "source": [
    "___\n",
    "\n",
    "NumPy Differences\n",
    "\n",
    "<section style=\"direction: rtl; text-align: justify; margin: 30px;\">\n",
    "\n",
    "## **تفاضل اعداد در نامپای**\n",
    "\n",
    "تفاوت گسسته به معنای تفریق دو عنصر متوالی است.\n",
    "\n",
    "به عنوان مثال. برای [1، 2، 3، 4]، تفاوت گسسته خواهد بود [2-1، 3-2، 4-3] = [1، 1، 1]\n",
    "\n",
    "برای پیدا کردن تفاوت گسسته، از تابع diff() استفاده کنید.\n",
    "\n",
    "</section>"
   ]
  },
  {
   "cell_type": "code",
   "execution_count": 5,
   "metadata": {},
   "outputs": [
    {
     "name": "stdout",
     "output_type": "stream",
     "text": [
      "[  5  10 -20]\n"
     ]
    }
   ],
   "source": [
    "import numpy as np\n",
    "\n",
    "arr = np.array([10, 15, 25, 5])\n",
    "\n",
    "newarr = np.diff(arr)\n",
    "\n",
    "print(newarr)"
   ]
  },
  {
   "cell_type": "markdown",
   "metadata": {},
   "source": [
    "<section style=\"direction: rtl; text-align: justify; margin: 30px;\">\n",
    "\n",
    "با دادن پارامتر n می توانیم این عمل را مکررا انجام دهیم.\n",
    "\n",
    "به عنوان مثال. برای [1، 2، 3، 4]، تفاوت گسسته با n = 2 خواهد بود [2-1، 3-2، 4-3] = [1، 1، 1]، پس از آنجایی که n=2 است، ما این کار را یک بار دیگر با نتیجه جدید انجام خواهد داد: [1-1، 1-1] = [0، 0]\n",
    "\n",
    "</section>"
   ]
  },
  {
   "cell_type": "code",
   "execution_count": 10,
   "metadata": {},
   "outputs": [
    {
     "name": "stdout",
     "output_type": "stream",
     "text": [
      "[  5 -30]\n"
     ]
    }
   ],
   "source": [
    "import numpy as np\n",
    "\n",
    "arr = np.array([10, 15, 25, 5])\n",
    "\n",
    "# We can perform this operation repeatedly by giving parameter n.\n",
    "newarr = np.diff(arr, n=2)\n",
    "\n",
    "print(newarr)"
   ]
  },
  {
   "cell_type": "markdown",
   "metadata": {},
   "source": [
    "<section style=\"direction: rtl; text-align: justify; margin: 30px;\">\n",
    "\n",
    "⚠️ برمی‌گرداند: [5 -30] زیرا: 15-10=5، 25-15=10، و 5-25=-20 و 10-5=5 و -20-10=-30\n",
    "\n",
    "</section>"
   ]
  },
  {
   "cell_type": "markdown",
   "metadata": {},
   "source": [
    "___\n",
    "\n",
    "NumPy LCM Lowest Common Multiple\n",
    "\n",
    "<section style=\"direction: rtl; text-align: justify; margin: 30px;\">\n",
    "\n",
    "## **کوچکترین مضرب مشترک**\n",
    "\n",
    "کمترین مضرب مشترک کوچکترین عددی است که مضرب مشترک دو عدد است.\n",
    "\n",
    "</section>"
   ]
  },
  {
   "cell_type": "code",
   "execution_count": 11,
   "metadata": {},
   "outputs": [
    {
     "name": "stdout",
     "output_type": "stream",
     "text": [
      "12\n"
     ]
    }
   ],
   "source": [
    "import numpy as np\n",
    "\n",
    "num1 = 4\n",
    "num2 = 6\n",
    "\n",
    "x = np.lcm(num1, num2)\n",
    "\n",
    "print(x)"
   ]
  },
  {
   "cell_type": "markdown",
   "metadata": {},
   "source": [
    "<section style=\"direction: rtl; text-align: justify; margin: 30px;\">\n",
    "\n",
    "⚠️ برمی گرداند: 12 زیرا این کمترین مضرب مشترک هر دو عدد است (4 * 3 = 12 و 6 * 2 = 12).\n",
    "\n",
    "برای یافتن کمترین مضرب مشترک از تمام مقادیر یک آرایه، می‌توانید از متد ()reduce استفاده کنید.\n",
    "\n",
    "⚠️ متد ()reduce از ufunc، در این مورد تابع lcm() روی هر عنصر استفاده می کند و آرایه را یک بعد کاهش می دهد.\n",
    "\n",
    "</section>"
   ]
  },
  {
   "cell_type": "code",
   "execution_count": 17,
   "metadata": {},
   "outputs": [
    {
     "name": "stdout",
     "output_type": "stream",
     "text": [
      "18\n"
     ]
    }
   ],
   "source": [
    "# Finding LCM in Arrays\n",
    "\n",
    "import numpy as np\n",
    "\n",
    "arr = np.array([3, 6, 9])\n",
    "\n",
    "x = np.lcm.reduce(arr)\n",
    "\n",
    "print(x)"
   ]
  },
  {
   "cell_type": "markdown",
   "metadata": {},
   "source": [
    "<section style=\"direction: rtl; text-align: justify; margin: 30px;\">\n",
    "\n",
    "⚠️ برمی‌گرداند: 18 زیرا این کمترین مضرب مشترک هر سه عدد است (3 * 6 = 18، 6 * 3 = 18 و 9 * 2 = 18).\n",
    "\n",
    "</section>"
   ]
  },
  {
   "cell_type": "code",
   "execution_count": 20,
   "metadata": {},
   "outputs": [
    {
     "name": "stdout",
     "output_type": "stream",
     "text": [
      "2520\n"
     ]
    }
   ],
   "source": [
    "import numpy as np\n",
    "\n",
    "arr = np.arange(1, 11)\n",
    "\n",
    "# print(arr)\n",
    "\n",
    "x = np.lcm.reduce(arr)\n",
    "\n",
    "print(x)"
   ]
  },
  {
   "cell_type": "markdown",
   "metadata": {},
   "source": [
    "___\n",
    "NumPy GCD Greatest Common Denominator\n",
    "\n",
    "<section style=\"direction: rtl; text-align: justify; margin: 30px;\">\n",
    "\n",
    "## **بزرگترین مخرج مشترک**\n",
    "\n",
    "GCD (بزرگترین مخرج مشترک)، همچنین به عنوان HCF (بالاترین عامل مشترک) شناخته می شود، بزرگترین عددی است که عامل مشترک هر دو اعداد است.\n",
    "\n",
    "</section>"
   ]
  },
  {
   "cell_type": "code",
   "execution_count": 21,
   "metadata": {},
   "outputs": [
    {
     "name": "stdout",
     "output_type": "stream",
     "text": [
      "3\n"
     ]
    }
   ],
   "source": [
    "import numpy as np\n",
    "\n",
    "num1 = 6\n",
    "num2 = 9\n",
    "\n",
    "x = np.gcd(num1, num2)\n",
    "\n",
    "print(x)"
   ]
  },
  {
   "cell_type": "markdown",
   "metadata": {},
   "source": [
    "<section style=\"direction: rtl; text-align: justify; margin: 30px;\">\n",
    "\n",
    "⚠️ برمی گرداند: 3 زیرا این بالاترین عدد است، هر دو عدد را می توان بر (6/3=2 و 9/3=3) تقسیم کرد.\n",
    "\n",
    "برای پیدا کردن بالاترین ضریب مشترک از تمام مقادیر یک آرایه، می‌توانید از متد ()reduce استفاده کنید.\n",
    "\n",
    "⚠️ متد ()reduce از ufunc، در این مورد تابع gcd() روی هر عنصر استفاده می کند و آرایه را یک بعد کاهش می دهد.\n",
    "\n",
    "</section>"
   ]
  },
  {
   "cell_type": "code",
   "execution_count": 26,
   "metadata": {},
   "outputs": [
    {
     "name": "stdout",
     "output_type": "stream",
     "text": [
      "4\n"
     ]
    }
   ],
   "source": [
    "# Finding GCD in Arrays\n",
    "\n",
    "import numpy as np\n",
    "\n",
    "arr = np.array([20, 8, 32, 36, 16])\n",
    "\n",
    "x = np.gcd.reduce(arr)\n",
    "\n",
    "print(x)"
   ]
  },
  {
   "cell_type": "markdown",
   "metadata": {},
   "source": [
    "<section style=\"direction: rtl; text-align: justify; margin: 30px;\">\n",
    "\n",
    "⚠️ برمی گرداند: 4 زیرا این بالاترین عددی است که می توان همه مقادیر را بر آن تقسیم کرد.\n",
    "\n",
    "</section>"
   ]
  },
  {
   "cell_type": "markdown",
   "metadata": {},
   "source": [
    "___\n",
    "NumPy Trigonometric Functions\n",
    "\n",
    "<section style=\"direction: rtl; text-align: justify; margin: 30px;\">\n",
    "\n",
    "## **توابع مثلثاتی**\n",
    "\n",
    "- NumPy ufuncs sin()، cos() و tan() را ارائه می کند که مقادیر را بر حسب رادیان می گیرند و مقادیر sin، cos و tan مربوطه را تولید می کنند.\n",
    "\n",
    "</section>"
   ]
  },
  {
   "cell_type": "code",
   "execution_count": 27,
   "metadata": {},
   "outputs": [
    {
     "name": "stdout",
     "output_type": "stream",
     "text": [
      "1.0\n"
     ]
    }
   ],
   "source": [
    "import numpy as np\n",
    "\n",
    "x = np.sin(np.pi/2)\n",
    "\n",
    "print(x)"
   ]
  },
  {
   "cell_type": "code",
   "execution_count": 28,
   "metadata": {},
   "outputs": [
    {
     "name": "stdout",
     "output_type": "stream",
     "text": [
      "[1.         0.8660254  0.70710678 0.58778525]\n"
     ]
    }
   ],
   "source": [
    "import numpy as np\n",
    "\n",
    "arr = np.array([np.pi/2, np.pi/3, np.pi/4, np.pi/5])\n",
    "\n",
    "x = np.sin(arr)\n",
    "\n",
    "print(x)"
   ]
  },
  {
   "cell_type": "markdown",
   "metadata": {},
   "source": [
    "<section style=\"direction: rtl; text-align: justify; margin: 30px;\">\n",
    "\n",
    "## **تبدیل درجه به رادیان**\n",
    "\n",
    "به طور پیش فرض همه توابع مثلثاتی رادیان ها را به عنوان پارامتر می گیرند، اما ما می توانیم رادیان ها را به درجه و برعکس در NumPy نیز تبدیل کنیم.\n",
    "\n",
    "</section>"
   ]
  },
  {
   "cell_type": "code",
   "execution_count": 30,
   "metadata": {},
   "outputs": [
    {
     "name": "stdout",
     "output_type": "stream",
     "text": [
      "[1.57079633 3.14159265 4.71238898 6.28318531]\n"
     ]
    }
   ],
   "source": [
    "# Convert Degrees Into Radians\n",
    "\n",
    "import numpy as np\n",
    "\n",
    "arr = np.array([90, 180, 270, 360])\n",
    "\n",
    "x = np.deg2rad(arr)\n",
    "\n",
    "print(x)"
   ]
  },
  {
   "cell_type": "code",
   "execution_count": 31,
   "metadata": {},
   "outputs": [
    {
     "name": "stdout",
     "output_type": "stream",
     "text": [
      "[ 90. 180. 270. 360.]\n"
     ]
    }
   ],
   "source": [
    "# Radians to Degrees\n",
    "\n",
    "import numpy as np\n",
    "\n",
    "arr = np.array([np.pi/2, np.pi, 1.5*np.pi, 2*np.pi])\n",
    "\n",
    "x = np.rad2deg(arr)\n",
    "\n",
    "print(x)"
   ]
  },
  {
   "cell_type": "markdown",
   "metadata": {},
   "source": [
    "Finding Angles\n",
    "\n",
    "<section style=\"direction: rtl; text-align: justify; margin: 30px;\">\n",
    "\n",
    "### **پیدا کردن زاویه‌ها**\n",
    "\n",
    "یافتن زاویه از مقادیر سینوس، cos، tan. به عنوان مثال. معکوس sin، cos و tan (arcsin، arccos، arctan). NumPy ufuncs arcsin()، arccos() و arctan() را ارائه می کند که مقادیر رادیانی را برای مقادیر sin، cos و tan مربوطه تولید می کند.\n",
    "\n",
    "</section>"
   ]
  },
  {
   "cell_type": "code",
   "execution_count": 32,
   "metadata": {},
   "outputs": [
    {
     "name": "stdout",
     "output_type": "stream",
     "text": [
      "1.5707963267948966\n"
     ]
    }
   ],
   "source": [
    "import numpy as np\n",
    "\n",
    "x = np.arcsin(1.0)\n",
    "\n",
    "print(x)"
   ]
  },
  {
   "cell_type": "markdown",
   "metadata": {},
   "source": [
    "Angles of Each Value in Arrays\n",
    "\n",
    "<section style=\"direction: rtl; text-align: justify; margin: 30px;\">\n",
    "\n",
    "### **زوایای هر مقدار در آرایه ها**\n",
    "\n",
    "</section>"
   ]
  },
  {
   "cell_type": "code",
   "execution_count": 33,
   "metadata": {},
   "outputs": [
    {
     "name": "stdout",
     "output_type": "stream",
     "text": [
      "[ 1.57079633 -1.57079633  0.10016742]\n"
     ]
    }
   ],
   "source": [
    "import numpy as np\n",
    "\n",
    "arr = np.array([1, -1, 0.1])\n",
    "\n",
    "x = np.arcsin(arr)\n",
    "\n",
    "print(x)"
   ]
  },
  {
   "cell_type": "markdown",
   "metadata": {},
   "source": [
    "Hypotenues\n",
    "\n",
    "<section style=\"direction: rtl; text-align: justify; margin: 30px;\">\n",
    "\n",
    "### **یافتن هیپتوتنها با استفاده از قضیه فیساغورث**\n",
    "\n",
    "</section>"
   ]
  },
  {
   "cell_type": "code",
   "execution_count": 38,
   "metadata": {},
   "outputs": [
    {
     "name": "stdout",
     "output_type": "stream",
     "text": [
      "5.0\n"
     ]
    }
   ],
   "source": [
    "import numpy as np\n",
    "\n",
    "base = 3\n",
    "prep = 4\n",
    "\n",
    "x = np.hypot(base, prep)\n",
    "\n",
    "print(x)"
   ]
  },
  {
   "cell_type": "markdown",
   "metadata": {},
   "source": [
    "___\n",
    "\n",
    "NumPy Hyperbolic Functions\n",
    "\n",
    "<section style=\"direction: rtl; text-align: justify; margin: 30px;\">\n",
    "\n",
    "## **توابع هایپر بولیک**\n",
    "\n",
    "NumPy ufuncs sinh()، cosh() و tanh() را ارائه می کند که مقادیر را بر حسب رادیان می گیرند و مقادیر sinh، cosh و tanh مربوطه را تولید می کنند.\n",
    "\n",
    "</section>"
   ]
  },
  {
   "cell_type": "code",
   "execution_count": 40,
   "metadata": {},
   "outputs": [
    {
     "name": "stdout",
     "output_type": "stream",
     "text": [
      "2.3012989023072947\n"
     ]
    }
   ],
   "source": [
    "import numpy as np\n",
    "\n",
    "x = np.sinh(np.pi/2)\n",
    "\n",
    "print(x)"
   ]
  },
  {
   "cell_type": "code",
   "execution_count": 41,
   "metadata": {},
   "outputs": [
    {
     "name": "stdout",
     "output_type": "stream",
     "text": [
      "[2.50917848 1.60028686 1.32460909 1.20397209]\n"
     ]
    }
   ],
   "source": [
    "# Find cosh values for all of the values in arr:\n",
    "\n",
    "import numpy as np\n",
    "\n",
    "arr = np.array([np.pi/2, np.pi/3, np.pi/4, np.pi/5])\n",
    "\n",
    "x = np.cosh(arr)\n",
    "\n",
    "print(x)"
   ]
  },
  {
   "cell_type": "markdown",
   "metadata": {},
   "source": [
    "Finding Angles\n",
    "\n",
    "<section style=\"direction: rtl; text-align: justify; margin: 30px;\">\n",
    "\n",
    "### **پیدا کردن زاویه‌ها**\n",
    "\n",
    "یافتن زاویه از مقادیر سینوس هایپربولیک، cos، tan. به عنوان مثال. معکوس sinh، cosh و tanh (arcsinh، arccosh، arctanh).\n",
    "\n",
    "Numpy ufuncs arcsinh()، arccosh() و arctanh() را ارائه می کند که مقادیر رادیانی را برای مقادیر sinh، cosh و tanh مربوطه تولید می کند.\n",
    "\n",
    "</section>"
   ]
  },
  {
   "cell_type": "code",
   "execution_count": 42,
   "metadata": {},
   "outputs": [
    {
     "name": "stdout",
     "output_type": "stream",
     "text": [
      "0.881373587019543\n"
     ]
    }
   ],
   "source": [
    "import numpy as np\n",
    "\n",
    "x = np.arcsinh(1.0)\n",
    "\n",
    "print(x)"
   ]
  },
  {
   "cell_type": "markdown",
   "metadata": {},
   "source": [
    "Finding Angles\n",
    "\n",
    "<section style=\"direction: rtl; text-align: justify; margin: 30px;\">\n",
    "\n",
    "زوایای هر مقدار در آرایه ها\n",
    "\n",
    "</section>"
   ]
  },
  {
   "cell_type": "code",
   "execution_count": 4,
   "metadata": {},
   "outputs": [
    {
     "name": "stdout",
     "output_type": "stream",
     "text": [
      "[0.10033535 0.20273255 0.                nan]\n"
     ]
    },
    {
     "name": "stderr",
     "output_type": "stream",
     "text": [
      "/tmp/ipykernel_537/575051581.py:7: RuntimeWarning: invalid value encountered in arctanh\n",
      "  x = np.arctanh(arr)\n"
     ]
    }
   ],
   "source": [
    "# Angles of Each Value in Arrays\n",
    "\n",
    "import numpy as np\n",
    "\n",
    "arr = np.array([0.1, 0.2, 0, 5])\n",
    "\n",
    "x = np.arctanh(arr)\n",
    "\n",
    "print(x)"
   ]
  },
  {
   "cell_type": "markdown",
   "metadata": {},
   "source": [
    "___\n",
    "\n",
    "NumPy Set Operations\n",
    "\n",
    "<section style=\"direction: rtl; text-align: justify; margin: 30px;\">\n",
    "\n",
    "## **عملیات مجموعه**\n",
    "\n",
    "مجموعه در ریاضیات مجموعه ای از عناصر منحصر به فرد است.\n",
    "مجموعه ها برای عملیاتی که شامل عملیات متقاطع، اتحاد و تفاوت است استفاده می شود.\n",
    "\n",
    "می‌توانیم از متد ()NumPy برای یافتن عناصر منحصربه‌فرد از هر آرایه استفاده کنیم. به عنوان مثال. یک آرایه مجموعه ایجاد کنید، اما به یاد داشته باشید که آرایه های مجموعه فقط باید آرایه های 1 بعدی باشند.\n",
    "\n",
    "</section>"
   ]
  },
  {
   "cell_type": "code",
   "execution_count": 1,
   "metadata": {},
   "outputs": [
    {
     "name": "stdout",
     "output_type": "stream",
     "text": [
      "[1 2 3 4 5 6 7]\n"
     ]
    }
   ],
   "source": [
    "# Convert following array with repeated elements to a set:\n",
    "\n",
    "import numpy as np\n",
    "\n",
    "arr = np.array([1, 1, 1, 2, 3, 4, 5, 5, 6, 7])\n",
    "\n",
    "x = np.unique(arr)\n",
    "\n",
    "print(x)"
   ]
  },
  {
   "cell_type": "markdown",
   "metadata": {},
   "source": [
    "<section style=\"direction: rtl; text-align: justify; margin: 30px;\">\n",
    "\n",
    "برای یافتن مقادیر منحصر به فرد دو آرایه، از متد ()union1d استفاده کنید.\n",
    "\n",
    "</section>"
   ]
  },
  {
   "cell_type": "code",
   "execution_count": 2,
   "metadata": {},
   "outputs": [
    {
     "name": "stdout",
     "output_type": "stream",
     "text": [
      "[1 2 3 4 5 6]\n"
     ]
    }
   ],
   "source": [
    "# Find union of the following two set arrays:\n",
    "\n",
    "import numpy as np\n",
    "\n",
    "arr1 = np.array([1, 2, 3, 4])\n",
    "arr2 = np.array([3, 4, 5, 6])\n",
    "\n",
    "newarr = np.union1d(arr1, arr2)\n",
    "\n",
    "print(newarr)"
   ]
  },
  {
   "cell_type": "markdown",
   "metadata": {},
   "source": [
    "Finding Intersection\n",
    "\n",
    "<section style=\"direction: rtl; text-align: justify; margin: 30px;\">\n",
    "\n",
    "### **یافتن تقاطع**\n",
    "\n",
    "برای یافتن تنها مقادیر موجود در هر دو آرایه، از متد intersect1d() استفاده کنید.\n",
    "\n",
    "\n",
    "</section>"
   ]
  },
  {
   "cell_type": "code",
   "execution_count": 3,
   "metadata": {},
   "outputs": [
    {
     "name": "stdout",
     "output_type": "stream",
     "text": [
      "[3 4]\n"
     ]
    }
   ],
   "source": [
    "import numpy as np\n",
    "\n",
    "arr1 = np.array([1, 2, 3, 4])\n",
    "arr2 = np.array([3, 4, 5, 6])\n",
    "\n",
    "newarr = np.intersect1d(arr1, arr2)\n",
    "\n",
    "print(newarr)"
   ]
  },
  {
   "cell_type": "markdown",
   "metadata": {},
   "source": [
    "<section style=\"direction: rtl; text-align: justify; margin: 30px;\">\n",
    "\n",
    "⚠️ نکته: متد intersect1d() یک آرگومان اختیاری assume_unique می گیرد که اگر روی True تنظیم شود می تواند محاسبات را سرعت ببخشد. هنگام کار با مجموعه ها باید همیشه روی True تنظیم شود.\n",
    "\n",
    "\n",
    "### **پیدا کردن تفاوت**\n",
    "\n",
    "برای یافتن تنها مقادیری در مجموعه اول که در مجموعه دوم وجود ندارد، از متد setdiff1d() استفاده کنید.\n",
    "\n",
    "\n",
    "</section>"
   ]
  },
  {
   "cell_type": "code",
   "execution_count": 5,
   "metadata": {},
   "outputs": [
    {
     "name": "stdout",
     "output_type": "stream",
     "text": [
      "[1 2]\n"
     ]
    }
   ],
   "source": [
    "# Find the difference of the set1 from set2:\n",
    "\n",
    "import numpy as np\n",
    "\n",
    "set1 = np.array([1, 2, 3, 4])\n",
    "set2 = np.array([3, 4, 5, 6])\n",
    "\n",
    "newarr = np.setdiff1d(set1, set2, assume_unique=True)\n",
    "\n",
    "print(newarr)"
   ]
  },
  {
   "cell_type": "markdown",
   "metadata": {},
   "source": [
    "<section style=\"direction: rtl; text-align: justify; margin: 30px;\">\n",
    "\n",
    "⚠️ نکته: متد setdiff1d() یک آرگومان اختیاری assume_unique می گیرد که اگر روی True تنظیم شود می تواند محاسبات را سرعت ببخشد. هنگام کار با مجموعه ها باید همیشه روی True تنظیم شود.\n",
    "\n",
    "### **پیدا کردن تفاوت متقارن**\n",
    "\n",
    "برای یافتن تنها مقادیری که در هر دو مجموعه وجود ندارند، از متد ()setxor1d استفاده کنید.\n",
    "\n",
    "\n",
    "</section>"
   ]
  },
  {
   "cell_type": "code",
   "execution_count": 7,
   "metadata": {},
   "outputs": [
    {
     "name": "stdout",
     "output_type": "stream",
     "text": [
      "[1 2 5 6]\n"
     ]
    }
   ],
   "source": [
    "# Find the symmetric difference of the set1 and set2:\n",
    "\n",
    "import numpy as np\n",
    "\n",
    "set1 = np.array([1, 2, 3, 4])\n",
    "set2 = np.array([3, 4, 5, 6])\n",
    "\n",
    "newarr = np.setxor1d(set1, set2, assume_unique=True)\n",
    "\n",
    "print(newarr)"
   ]
  },
  {
   "cell_type": "markdown",
   "metadata": {},
   "source": [
    "<section style=\"direction: rtl; text-align: justify; margin: 30px;\">\n",
    "\n",
    "⚠️ نکته: متد setxor1d() یک آرگومان اختیاری assume_unique می گیرد که اگر روی True تنظیم شود می تواند محاسبات را سرعت ببخشد. هنگام کار با مجموعه ها باید همیشه روی True تنظیم شود.\n",
    "\n",
    "</section>"
   ]
  },
  {
   "cell_type": "markdown",
   "metadata": {},
   "source": [
    "___\n",
    "<section style=\" text-align: center; margin: 30px;\">\n",
    "\n",
    "<a href=\"https://www.w3schools.com/python/numpy/numpy_quiz.asp>\"> 💁🏽 سوالات مربوط به درس نامپای 💁🏽 </a>\n",
    "\n",
    "### **پایان بخش نامپای**\n",
    "\n",
    "</section>"
   ]
  }
 ],
 "metadata": {
  "kernelspec": {
   "display_name": "Python 3",
   "language": "python",
   "name": "python3"
  },
  "language_info": {
   "codemirror_mode": {
    "name": "ipython",
    "version": 3
   },
   "file_extension": ".py",
   "mimetype": "text/x-python",
   "name": "python",
   "nbconvert_exporter": "python",
   "pygments_lexer": "ipython3",
   "version": "3.12.4"
  },
  "orig_nbformat": 4
 },
 "nbformat": 4,
 "nbformat_minor": 2
}
