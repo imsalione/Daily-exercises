{
 "cells": [
  {
   "cell_type": "markdown",
   "metadata": {},
   "source": [
    "<section style=\"direction: rtl; text-align: justify; margin: 30px;\">\n",
    "\n",
    "### **مثال‌های سطح ۱**\n",
    "\n",
    "در این فایل به یادگیری مثال‌های ابتدایی کار با زبان پایتون می‌پردازیم.\n",
    "\n",
    "</section>"
   ]
  },
  {
   "cell_type": "markdown",
   "metadata": {},
   "source": [
    "***\n",
    "\n",
    "<section style=\"direction: rtl; text-align: justify; margin: 30px;\">\n",
    "\n",
    "#### 1. پیدا کردن فرد با بیشترین و کمترین سن\n",
    "\n",
    "</section>"
   ]
  },
  {
   "cell_type": "code",
   "execution_count": null,
   "metadata": {},
   "outputs": [],
   "source": [
    "data = {\n",
    "    \"Saleh\": 37,\n",
    "    \"Elham\": 35,\n",
    "    \"Ghazal\": 3\n",
    "}\n",
    "\n",
    "max_age = max(data, key=data.get)\n",
    "min_age = min(data, key=data.get)\n",
    "\n",
    "print(f\"The oldest person is '{max_age}' with {data[max_age]} years old\")\n",
    "print(f\"The youngest person is '{min_age}' with {data[min_age]} years old\")"
   ]
  },
  {
   "cell_type": "markdown",
   "metadata": {},
   "source": [
    "***\n",
    "\n",
    "<section style=\"direction: rtl; text-align: justify; margin: 30px;\">\n",
    "\n",
    "#### 2. محاسبه میانگین وزنی اعداد\n",
    "\n",
    "میانگین وزنی اعداد به معنای این است که بخواهیم میانگین اعداد را به همراه ضریب آن‌ها محاسبه کنیم.\n",
    "\n",
    "</section>"
   ]
  },
  {
   "cell_type": "code",
   "execution_count": 1,
   "metadata": {},
   "outputs": [
    {
     "name": "stdout",
     "output_type": "stream",
     "text": [
      "The weighted average of numbers is 15.11\n"
     ]
    }
   ],
   "source": [
    "nums = [18.5, 16.0, 15.0, 16.0, 12.0, 19.0, 12.0, 14.5]\n",
    "weigths = [3, 2, 3, 2, 2, 1, 3, 3]\n",
    "\n",
    "# Calculate total of weights\n",
    "weighted_sum = sum(num * weight for num, weight in zip(nums, weigths))\n",
    "totla_weight = sum(weigths)\n",
    "\n",
    "# Calculate weighted average of numbers\n",
    "weighted_average = weighted_sum / totla_weight\n",
    "\n",
    "print(f\"The weighted average of numbers is {weighted_average:.2f}\")"
   ]
  },
  {
   "cell_type": "markdown",
   "metadata": {},
   "source": [
    "***\n",
    "\n",
    "<section style=\"direction: rtl; text-align: justify; margin: 30px;\">\n",
    "\n",
    "#### 3. بررسی رشته‌های قرینه\n",
    "\n",
    "این قطعه کد بررسی می‌کند که آیا یک کلمه پالین‌دروم است یا خیر. پالین‌دروم به کلمه‌ای گفته می‌شود که از هر دو طرف یکسان خوانده می‌شود. در این کد، ابتدا کلمه ورودی از کاربر دریافت می‌شود. سپس با استفاده از عملگر برش ([::-1])، کلمه به صورت معکوس بررسی می‌شود. اگر کلمه اصلی با کلمه معکوس برابر باشد، کلمه پالین‌دروم است و پیامی مبنی بر پالین‌دروم بودن کلمه چاپ می‌شود؛ در غیر این صورت، پیامی مبنی بر پالین‌دروم نبودن کلمه نمایش داده می‌شود.\n",
    "\n",
    "</section>"
   ]
  },
  {
   "cell_type": "code",
   "execution_count": 1,
   "metadata": {},
   "outputs": [
    {
     "name": "stdout",
     "output_type": "stream",
     "text": [
      "The word saleh is not a palindorme\n"
     ]
    }
   ],
   "source": [
    "def is_palindorme(word):\n",
    "    if word == word[::-1]:\n",
    "        print(f\"The word {word} is a palindorme.\")\n",
    "    else:\n",
    "        print(f\"The word {word} is not a palindorme\")\n",
    "\n",
    "# Test any word like: redivider      \n",
    "my_word = input(\"Enter a word: \")\n",
    "is_palindorme(my_word)"
   ]
  },
  {
   "cell_type": "markdown",
   "metadata": {},
   "source": [
    "***\n",
    "\n",
    "<section style=\"direction: rtl; text-align: justify; margin: 30px;\">\n",
    "\n",
    "#### 3. جمع دو عدد\n",
    "\n",
    "این قطعه کد یک تابع به نام sum تعریف می‌کند که دو عدد را به عنوان ورودی می‌گیرد و حاصل جمع آن‌ها را برمی‌گرداند. سپس با استفاده از تابع print، نتیجه جمع دو عدد 10 و 12 را نمایش می‌دهد. این کد به سادگی عملیات جمع دو عدد را انجام می‌دهد و نتیجه را چاپ می‌کند.\n",
    "\n",
    "</section>"
   ]
  },
  {
   "cell_type": "code",
   "execution_count": 3,
   "metadata": {},
   "outputs": [
    {
     "name": "stdout",
     "output_type": "stream",
     "text": [
      "22\n"
     ]
    }
   ],
   "source": [
    "# Define a function to calculate numbers\n",
    "def sum(a , b):\n",
    "    return a + b\n",
    "\n",
    "print(sum(10, 12))"
   ]
  },
  {
   "cell_type": "markdown",
   "metadata": {},
   "source": [
    "***\n",
    "\n",
    "<section style=\"direction: rtl; text-align: justify; margin: 30px;\">\n",
    "\n",
    "#### 3. پیدا کردن بزگترین عدد\n",
    "\n",
    "این قطعه کد یک لیست را تعریف می‌کند و سپس با استفاده از تابع max، بزرگترین عدد این لیست را پیدا می‌کند. در نهایت، با استفاده از تابع print، بزرگترین عدد را نمایش می‌دهد. تابع max در پایتون بزرگترین مقدار را از بین مقادیر ورودی برمی‌گرداند.\n",
    "\n",
    "</section>"
   ]
  },
  {
   "cell_type": "code",
   "execution_count": 5,
   "metadata": {},
   "outputs": [
    {
     "name": "stdout",
     "output_type": "stream",
     "text": [
      "The maximum number is 18\n"
     ]
    }
   ],
   "source": [
    "list1 = [12, 14, 18, 15]\n",
    "\n",
    "maximum = max(list1)\n",
    "\n",
    "print(f\"The maximum number is {maximum}\")"
   ]
  },
  {
   "cell_type": "markdown",
   "metadata": {},
   "source": [
    "***\n",
    "\n",
    "<section style=\"direction: rtl; text-align: justify; margin: 30px;\">\n",
    "\n",
    "#### 3. پیدا کردن بزگترین عدد\n",
    "\n",
    "این قطعه کد یک لیست را تعریف می‌کند و سپس با استفاده از تابع max، بزرگترین عدد این لیست را پیدا می‌کند. در نهایت، با استفاده از تابع print، بزرگترین عدد را نمایش می‌دهد. تابع max در پایتون بزرگترین مقدار را از بین مقادیر ورودی برمی‌گرداند.\n",
    "\n",
    "</section>"
   ]
  },
  {
   "cell_type": "code",
   "execution_count": 7,
   "metadata": {},
   "outputs": [
    {
     "name": "stdout",
     "output_type": "stream",
     "text": [
      "Carbon | Create and share beautiful images of your source code\n"
     ]
    }
   ],
   "source": [
    "import requests\n",
    "from bs4 import BeautifulSoup\n",
    "\n",
    "url = 'https://carbon.now.sh'\n",
    "response = requests.get(url)\n",
    "soup = BeautifulSoup(response.text, 'html.parser')\n",
    "\n",
    "# Exporting page title\n",
    "title = soup.title.string\n",
    "print(title)\n"
   ]
  },
  {
   "cell_type": "markdown",
   "metadata": {},
   "source": [
    "***\n",
    "\n",
    "<section style=\"direction: rtl; text-align: justify; margin: 30px;\">\n",
    "\n",
    "#### 3. تعریف و فراخوانی یک تابع لامبدا در پایتون\n",
    "\n",
    "در این کد، یک تابع لامبدا به نام greet تعریف شده است که با فراخوانی آن، عبارت “Hello World” چاپ می‌شود. سپس این تابع فراخوانی شده و خروجی آن نمایش داده می‌شود.\n",
    "\n",
    "</section>"
   ]
  },
  {
   "cell_type": "code",
   "execution_count": 15,
   "metadata": {},
   "outputs": [
    {
     "name": "stdout",
     "output_type": "stream",
     "text": [
      "Hello World\n"
     ]
    }
   ],
   "source": [
    "# declare a lambda function\n",
    "greet = lambda : print('Hello World')\n",
    "\n",
    "# call lambda function\n",
    "greet()\n",
    "\n",
    "# Output: Hello World"
   ]
  },
  {
   "cell_type": "markdown",
   "metadata": {},
   "source": [
    "***\n",
    "\n",
    "<section style=\"direction: rtl; text-align: justify; margin: 30px;\">\n",
    "\n",
    "**تعریف و فراخوانی یک تابع لامبدا با آرگومان در پایتون**\n",
    "\n",
    "در این کد، یک تابع لامبدا به نام `greet_user` تعریف شده است که یک آرگومان به نام `name` می‌پذیرد و با فراخوانی آن، عبارت \"Hey there,\" به همراه نام ورودی چاپ می‌شود. سپس این تابع با آرگومان \"Saleh\" فراخوانی شده و خروجی آن نمایش داده می‌شود.\n",
    "\n",
    "</section>"
   ]
  },
  {
   "cell_type": "code",
   "execution_count": 18,
   "metadata": {},
   "outputs": [
    {
     "name": "stdout",
     "output_type": "stream",
     "text": [
      "Hey there, Saleh\n"
     ]
    }
   ],
   "source": [
    "# lambda that accepts one argument\n",
    "greet_user = lambda name : print('Hey there,', name)\n",
    "\n",
    "# lambda call\n",
    "greet_user('Saleh')\n",
    "\n",
    "# Output: Hey there, saleh"
   ]
  },
  {
   "cell_type": "markdown",
   "metadata": {},
   "source": [
    "***\n",
    "\n",
    "<section style=\"direction: rtl; text-align: justify; margin: 30px;\">\n",
    "\n",
    "**تعریف و استفاده از تابع لامبدا برای محاسبه مجموع دو عدد در پایتون**\n",
    "\n",
    "در این کد، یک تابع لامبدا به نام `sum` تعریف شده است که دو آرگومان `x` و `y` را می‌پذیرد و مجموع آن‌ها را محاسبه می‌کند. سپس این تابع با دو عدد 10 و 2 فراخوانی شده و نتیجه آن چاپ می‌شود.\n",
    "\n",
    "</section>"
   ]
  },
  {
   "cell_type": "code",
   "execution_count": 20,
   "metadata": {},
   "outputs": [
    {
     "name": "stdout",
     "output_type": "stream",
     "text": [
      "12\n"
     ]
    }
   ],
   "source": [
    "# declare a lambda to calculate two number\n",
    "sum = lambda x, y: x + y\n",
    "\n",
    "# print lambda with two sample number\n",
    "print(sum(10, 2))"
   ]
  },
  {
   "cell_type": "markdown",
   "metadata": {},
   "source": [
    "***\n",
    "\n",
    "<section style=\"direction: rtl; text-align: justify; margin: 30px;\">\n",
    "\n",
    "**استفاده از تابع لامبدا برای افزایش یک عدد در پایتون**\n",
    "\n",
    "در این کد، یک تابع لامبدا تعریف شده است که یک آرگومان `x` را می‌پذیرد و مقدار آن را یک واحد افزایش می‌دهد. سپس این تابع با عدد 2 فراخوانی شده و نتیجه آن نمایش داده می‌شود. نتیجه این فراخوانی عدد 3 خواهد بود.\n",
    "\n",
    "</section>"
   ]
  },
  {
   "cell_type": "code",
   "execution_count": 23,
   "metadata": {},
   "outputs": [
    {
     "data": {
      "text/plain": [
       "3"
      ]
     },
     "execution_count": 23,
     "metadata": {},
     "output_type": "execute_result"
    }
   ],
   "source": [
    "(lambda x: x + 1) (2)"
   ]
  },
  {
   "cell_type": "markdown",
   "metadata": {},
   "source": [
    "***\n",
    "\n",
    "<section style=\"direction: rtl; text-align: justify; margin: 30px;\">\n",
    "\n",
    "**تعریف و استفاده از تابع لامبدا برای افزایش یک عدد در پایتون**\n",
    "\n",
    "در این کد، یک تابع لامبدا به نام `add_one` تعریف شده است که یک آرگومان `x` را می‌پذیرد و مقدار آن را یک واحد افزایش می‌دهد. سپس این تابع با عدد 2 فراخوانی شده و نتیجه آن نمایش داده می‌شود. نتیجه این فراخوانی عدد 3 خواهد بود.\n",
    "\n",
    "</section>"
   ]
  },
  {
   "cell_type": "code",
   "execution_count": 4,
   "metadata": {},
   "outputs": [
    {
     "data": {
      "text/plain": [
       "3"
      ]
     },
     "execution_count": 4,
     "metadata": {},
     "output_type": "execute_result"
    }
   ],
   "source": [
    "add_one = lambda x: x + 1\n",
    "add_one(2)"
   ]
  },
  {
   "cell_type": "code",
   "execution_count": 5,
   "metadata": {},
   "outputs": [
    {
     "data": {
      "text/plain": [
       "'Full name: Saleh Abedinezhad'"
      ]
     },
     "execution_count": 5,
     "metadata": {},
     "output_type": "execute_result"
    }
   ],
   "source": [
    "full_name = lambda first, last: f\"Full name: {first.title()} {last.title()}\"\n",
    "full_name(\"saleh\", \"Abedinezhad\")"
   ]
  },
  {
   "cell_type": "code",
   "execution_count": 7,
   "metadata": {},
   "outputs": [
    {
     "data": {
      "text/plain": [
       "5"
      ]
     },
     "execution_count": 7,
     "metadata": {},
     "output_type": "execute_result"
    }
   ],
   "source": [
    "(lambda x, y: x + y)(2, 3)"
   ]
  }
 ],
 "metadata": {
  "kernelspec": {
   "display_name": "Python 3",
   "language": "python",
   "name": "python3"
  },
  "language_info": {
   "codemirror_mode": {
    "name": "ipython",
    "version": 3
   },
   "file_extension": ".py",
   "mimetype": "text/x-python",
   "name": "python",
   "nbconvert_exporter": "python",
   "pygments_lexer": "ipython3",
   "version": "3.10.12"
  },
  "orig_nbformat": 4
 },
 "nbformat": 4,
 "nbformat_minor": 2
}
