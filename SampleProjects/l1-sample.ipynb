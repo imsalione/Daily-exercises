{
 "cells": [
  {
   "cell_type": "markdown",
   "metadata": {},
   "source": [
    "<section style=\"direction: rtl; text-align: justify; margin: 30px;\">\n",
    "\n",
    "### **مثال‌های سطح ۱**\n",
    "\n",
    "در این فایل به یادگیری مثال‌های ابتدایی کار با زبان پایتون می‌پردازیم.\n",
    "\n",
    "</section>"
   ]
  },
  {
   "cell_type": "markdown",
   "metadata": {},
   "source": [
    "***\n",
    "\n",
    "<section style=\"direction: rtl; text-align: justify; margin: 30px;\">\n",
    "\n",
    "#### 1. پیدا کردن فرد با بیشترین و کمترین سن\n",
    "\n",
    "</section>"
   ]
  },
  {
   "cell_type": "code",
   "execution_count": null,
   "metadata": {},
   "outputs": [],
   "source": [
    "data = {\n",
    "    \"Saleh\": 37,\n",
    "    \"Elham\": 35,\n",
    "    \"Ghazal\": 3\n",
    "}\n",
    "\n",
    "max_age = max(data, key=data.get)\n",
    "min_age = min(data, key=data.get)\n",
    "\n",
    "print(f\"The oldest person is '{max_age}' with {data[max_age]} years old\")\n",
    "print(f\"The youngest person is '{min_age}' with {data[min_age]} years old\")"
   ]
  },
  {
   "cell_type": "markdown",
   "metadata": {},
   "source": [
    "***\n",
    "\n",
    "<section style=\"direction: rtl; text-align: justify; margin: 30px;\">\n",
    "\n",
    "#### 2. محاسبه میانگین وزنی اعداد\n",
    "\n",
    "میانگین وزنی اعداد به معنای این است که بخواهیم میانگین اعداد را به همراه ضریب آن‌ها محاسبه کنیم.\n",
    "\n",
    "</section>"
   ]
  },
  {
   "cell_type": "code",
   "execution_count": 1,
   "metadata": {},
   "outputs": [
    {
     "name": "stdout",
     "output_type": "stream",
     "text": [
      "The weighted average of numbers is 15.11\n"
     ]
    }
   ],
   "source": [
    "nums = [18.5, 16.0, 15.0, 16.0, 12.0, 19.0, 12.0, 14.5]\n",
    "weigths = [3, 2, 3, 2, 2, 1, 3, 3]\n",
    "\n",
    "# Calculate total of weights\n",
    "weighted_sum = sum(num * weight for num, weight in zip(nums, weigths))\n",
    "totla_weight = sum(weigths)\n",
    "\n",
    "# Calculate weighted average of numbers\n",
    "weighted_average = weighted_sum / totla_weight\n",
    "\n",
    "print(f\"The weighted average of numbers is {weighted_average:.2f}\")"
   ]
  },
  {
   "cell_type": "markdown",
   "metadata": {},
   "source": [
    "***\n",
    "\n",
    "<section style=\"direction: rtl; text-align: justify; margin: 30px;\">\n",
    "\n",
    "#### 3. بررسی رشته‌های قرینه\n",
    "\n",
    "\n",
    "</section>"
   ]
  },
  {
   "cell_type": "code",
   "execution_count": 1,
   "metadata": {},
   "outputs": [
    {
     "name": "stdout",
     "output_type": "stream",
     "text": [
      "The word saleh is not a palindorme\n"
     ]
    }
   ],
   "source": [
    "def is_palindorme(word):\n",
    "    if word == word[::-1]:\n",
    "        print(f\"The word {word} is a palindorme.\")\n",
    "    else:\n",
    "        print(f\"The word {word} is not a palindorme\")\n",
    "\n",
    "# Test any word like: redivider      \n",
    "my_word = input(\"Enter a word: \")\n",
    "is_palindorme(my_word)"
   ]
  }
 ],
 "metadata": {
  "kernelspec": {
   "display_name": "Python 3",
   "language": "python",
   "name": "python3"
  },
  "language_info": {
   "codemirror_mode": {
    "name": "ipython",
    "version": 3
   },
   "file_extension": ".py",
   "mimetype": "text/x-python",
   "name": "python",
   "nbconvert_exporter": "python",
   "pygments_lexer": "ipython3",
   "version": "3.10.12"
  },
  "orig_nbformat": 4
 },
 "nbformat": 4,
 "nbformat_minor": 2
}
